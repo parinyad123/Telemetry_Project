{
 "cells": [
  {
   "cell_type": "markdown",
   "metadata": {},
   "source": [
    "## Import Library"
   ]
  },
  {
   "cell_type": "code",
   "execution_count": 1,
   "metadata": {},
   "outputs": [],
   "source": [
    "import pandas as pd\n",
    "\n",
    "import calendar\n",
    "import datetime"
   ]
  },
  {
   "cell_type": "markdown",
   "metadata": {},
   "source": [
    "## Import data"
   ]
  },
  {
   "cell_type": "code",
   "execution_count": 2,
   "metadata": {},
   "outputs": [
    {
     "data": {
      "text/html": [
       "<div>\n",
       "<style scoped>\n",
       "    .dataframe tbody tr th:only-of-type {\n",
       "        vertical-align: middle;\n",
       "    }\n",
       "\n",
       "    .dataframe tbody tr th {\n",
       "        vertical-align: top;\n",
       "    }\n",
       "\n",
       "    .dataframe thead th {\n",
       "        text-align: right;\n",
       "    }\n",
       "</style>\n",
       "<table border=\"1\" class=\"dataframe\">\n",
       "  <thead>\n",
       "    <tr style=\"text-align: right;\">\n",
       "      <th></th>\n",
       "      <th>date</th>\n",
       "      <th>value</th>\n",
       "    </tr>\n",
       "  </thead>\n",
       "  <tbody>\n",
       "    <tr>\n",
       "      <th>0</th>\n",
       "      <td>2015-060-00:00:30.114</td>\n",
       "      <td>18.744939</td>\n",
       "    </tr>\n",
       "    <tr>\n",
       "      <th>1</th>\n",
       "      <td>2015-060-00:00:30.882</td>\n",
       "      <td>18.744900</td>\n",
       "    </tr>\n",
       "    <tr>\n",
       "      <th>2</th>\n",
       "      <td>2015-060-00:02:38.114</td>\n",
       "      <td>18.785425</td>\n",
       "    </tr>\n",
       "    <tr>\n",
       "      <th>3</th>\n",
       "      <td>2015-060-00:02:38.882</td>\n",
       "      <td>18.785400</td>\n",
       "    </tr>\n",
       "    <tr>\n",
       "      <th>4</th>\n",
       "      <td>2015-060-00:04:46.114</td>\n",
       "      <td>18.785425</td>\n",
       "    </tr>\n",
       "    <tr>\n",
       "      <th>...</th>\n",
       "      <td>...</td>\n",
       "      <td>...</td>\n",
       "    </tr>\n",
       "    <tr>\n",
       "      <th>32117</th>\n",
       "      <td>2015-098-02:25:34.114</td>\n",
       "      <td>18.502024</td>\n",
       "    </tr>\n",
       "    <tr>\n",
       "      <th>32118</th>\n",
       "      <td>2015-098-02:27:42.114</td>\n",
       "      <td>18.502024</td>\n",
       "    </tr>\n",
       "    <tr>\n",
       "      <th>32119</th>\n",
       "      <td>2015-098-02:29:50.110</td>\n",
       "      <td>18.542510</td>\n",
       "    </tr>\n",
       "    <tr>\n",
       "      <th>32120</th>\n",
       "      <td>2015-098-02:31:58.114</td>\n",
       "      <td>18.542510</td>\n",
       "    </tr>\n",
       "    <tr>\n",
       "      <th>32121</th>\n",
       "      <td>2015-098-02:34:06.114</td>\n",
       "      <td>18.502024</td>\n",
       "    </tr>\n",
       "  </tbody>\n",
       "</table>\n",
       "<p>32122 rows × 2 columns</p>\n",
       "</div>"
      ],
      "text/plain": [
       "                        date      value\n",
       "0      2015-060-00:00:30.114  18.744939\n",
       "1      2015-060-00:00:30.882  18.744900\n",
       "2      2015-060-00:02:38.114  18.785425\n",
       "3      2015-060-00:02:38.882  18.785400\n",
       "4      2015-060-00:04:46.114  18.785425\n",
       "...                      ...        ...\n",
       "32117  2015-098-02:25:34.114  18.502024\n",
       "32118  2015-098-02:27:42.114  18.502024\n",
       "32119  2015-098-02:29:50.110  18.542510\n",
       "32120  2015-098-02:31:58.114  18.542510\n",
       "32121  2015-098-02:34:06.114  18.502024\n",
       "\n",
       "[32122 rows x 2 columns]"
      ]
     },
     "execution_count": 2,
     "metadata": {},
     "output_type": "execute_result"
    }
   ],
   "source": [
    "data = pd.read_csv('TANKTemp060_098.csv',sep=\",\", header=None, names=[\"date\", \"value\"])\n",
    "data"
   ]
  },
  {
   "cell_type": "markdown",
   "metadata": {},
   "source": [
    "## Prepare data"
   ]
  },
  {
   "cell_type": "code",
   "execution_count": 3,
   "metadata": {},
   "outputs": [
    {
     "data": {
      "text/html": [
       "<div>\n",
       "<style scoped>\n",
       "    .dataframe tbody tr th:only-of-type {\n",
       "        vertical-align: middle;\n",
       "    }\n",
       "\n",
       "    .dataframe tbody tr th {\n",
       "        vertical-align: top;\n",
       "    }\n",
       "\n",
       "    .dataframe thead th {\n",
       "        text-align: right;\n",
       "    }\n",
       "</style>\n",
       "<table border=\"1\" class=\"dataframe\">\n",
       "  <thead>\n",
       "    <tr style=\"text-align: right;\">\n",
       "      <th></th>\n",
       "      <th>date</th>\n",
       "      <th>value</th>\n",
       "    </tr>\n",
       "  </thead>\n",
       "  <tbody>\n",
       "    <tr>\n",
       "      <th>0</th>\n",
       "      <td>2015-060-00:00:30.114</td>\n",
       "      <td>18.744939</td>\n",
       "    </tr>\n",
       "    <tr>\n",
       "      <th>1</th>\n",
       "      <td>2015-060-00:00:30.882</td>\n",
       "      <td>18.744900</td>\n",
       "    </tr>\n",
       "    <tr>\n",
       "      <th>2</th>\n",
       "      <td>2015-060-00:02:38.114</td>\n",
       "      <td>18.785425</td>\n",
       "    </tr>\n",
       "    <tr>\n",
       "      <th>3</th>\n",
       "      <td>2015-060-00:02:38.882</td>\n",
       "      <td>18.785400</td>\n",
       "    </tr>\n",
       "    <tr>\n",
       "      <th>4</th>\n",
       "      <td>2015-060-00:04:46.114</td>\n",
       "      <td>18.785425</td>\n",
       "    </tr>\n",
       "    <tr>\n",
       "      <th>...</th>\n",
       "      <td>...</td>\n",
       "      <td>...</td>\n",
       "    </tr>\n",
       "    <tr>\n",
       "      <th>1567</th>\n",
       "      <td>2015-061-13:50:22.110</td>\n",
       "      <td>20.698925</td>\n",
       "    </tr>\n",
       "    <tr>\n",
       "      <th>1568</th>\n",
       "      <td>2015-061-13:50:22.877</td>\n",
       "      <td>20.698900</td>\n",
       "    </tr>\n",
       "    <tr>\n",
       "      <th>1569</th>\n",
       "      <td>2015-061-13:52:30.114</td>\n",
       "      <td>20.698925</td>\n",
       "    </tr>\n",
       "    <tr>\n",
       "      <th>1570</th>\n",
       "      <td>2015-061-13:54:38.114</td>\n",
       "      <td>20.698925</td>\n",
       "    </tr>\n",
       "    <tr>\n",
       "      <th>1571</th>\n",
       "      <td>2015-061-13:55:02.877</td>\n",
       "      <td>20.698900</td>\n",
       "    </tr>\n",
       "  </tbody>\n",
       "</table>\n",
       "<p>1572 rows × 2 columns</p>\n",
       "</div>"
      ],
      "text/plain": [
       "                       date      value\n",
       "0     2015-060-00:00:30.114  18.744939\n",
       "1     2015-060-00:00:30.882  18.744900\n",
       "2     2015-060-00:02:38.114  18.785425\n",
       "3     2015-060-00:02:38.882  18.785400\n",
       "4     2015-060-00:04:46.114  18.785425\n",
       "...                     ...        ...\n",
       "1567  2015-061-13:50:22.110  20.698925\n",
       "1568  2015-061-13:50:22.877  20.698900\n",
       "1569  2015-061-13:52:30.114  20.698925\n",
       "1570  2015-061-13:54:38.114  20.698925\n",
       "1571  2015-061-13:55:02.877  20.698900\n",
       "\n",
       "[1572 rows x 2 columns]"
      ]
     },
     "execution_count": 3,
     "metadata": {},
     "output_type": "execute_result"
    }
   ],
   "source": [
    "data.dropna(inplace=True)\n",
    "# data.reindex(data)\n",
    "\n",
    "\n",
    "\n",
    "data.reset_index(drop=True, inplace = True)\n",
    "data.head(1572)"
   ]
  },
  {
   "cell_type": "code",
   "execution_count": 4,
   "metadata": {},
   "outputs": [
    {
     "data": {
      "text/html": [
       "<div>\n",
       "<style scoped>\n",
       "    .dataframe tbody tr th:only-of-type {\n",
       "        vertical-align: middle;\n",
       "    }\n",
       "\n",
       "    .dataframe tbody tr th {\n",
       "        vertical-align: top;\n",
       "    }\n",
       "\n",
       "    .dataframe thead th {\n",
       "        text-align: right;\n",
       "    }\n",
       "</style>\n",
       "<table border=\"1\" class=\"dataframe\">\n",
       "  <thead>\n",
       "    <tr style=\"text-align: right;\">\n",
       "      <th></th>\n",
       "      <th>date</th>\n",
       "      <th>value</th>\n",
       "      <th>StandardTime</th>\n",
       "    </tr>\n",
       "  </thead>\n",
       "  <tbody>\n",
       "    <tr>\n",
       "      <th>0</th>\n",
       "      <td>2015-060-00:00:30.114</td>\n",
       "      <td>18.744939</td>\n",
       "      <td>0</td>\n",
       "    </tr>\n",
       "    <tr>\n",
       "      <th>1</th>\n",
       "      <td>2015-060-00:00:30.882</td>\n",
       "      <td>18.744900</td>\n",
       "      <td>0</td>\n",
       "    </tr>\n",
       "    <tr>\n",
       "      <th>2</th>\n",
       "      <td>2015-060-00:02:38.114</td>\n",
       "      <td>18.785425</td>\n",
       "      <td>0</td>\n",
       "    </tr>\n",
       "    <tr>\n",
       "      <th>3</th>\n",
       "      <td>2015-060-00:02:38.882</td>\n",
       "      <td>18.785400</td>\n",
       "      <td>0</td>\n",
       "    </tr>\n",
       "    <tr>\n",
       "      <th>4</th>\n",
       "      <td>2015-060-00:04:46.114</td>\n",
       "      <td>18.785425</td>\n",
       "      <td>0</td>\n",
       "    </tr>\n",
       "    <tr>\n",
       "      <th>...</th>\n",
       "      <td>...</td>\n",
       "      <td>...</td>\n",
       "      <td>...</td>\n",
       "    </tr>\n",
       "    <tr>\n",
       "      <th>1567</th>\n",
       "      <td>2015-061-13:50:22.110</td>\n",
       "      <td>20.698925</td>\n",
       "      <td>0</td>\n",
       "    </tr>\n",
       "    <tr>\n",
       "      <th>1568</th>\n",
       "      <td>2015-061-13:50:22.877</td>\n",
       "      <td>20.698900</td>\n",
       "      <td>0</td>\n",
       "    </tr>\n",
       "    <tr>\n",
       "      <th>1569</th>\n",
       "      <td>2015-061-13:52:30.114</td>\n",
       "      <td>20.698925</td>\n",
       "      <td>0</td>\n",
       "    </tr>\n",
       "    <tr>\n",
       "      <th>1570</th>\n",
       "      <td>2015-061-13:54:38.114</td>\n",
       "      <td>20.698925</td>\n",
       "      <td>0</td>\n",
       "    </tr>\n",
       "    <tr>\n",
       "      <th>1571</th>\n",
       "      <td>2015-061-13:55:02.877</td>\n",
       "      <td>20.698900</td>\n",
       "      <td>0</td>\n",
       "    </tr>\n",
       "  </tbody>\n",
       "</table>\n",
       "<p>1572 rows × 3 columns</p>\n",
       "</div>"
      ],
      "text/plain": [
       "                       date      value  StandardTime\n",
       "0     2015-060-00:00:30.114  18.744939             0\n",
       "1     2015-060-00:00:30.882  18.744900             0\n",
       "2     2015-060-00:02:38.114  18.785425             0\n",
       "3     2015-060-00:02:38.882  18.785400             0\n",
       "4     2015-060-00:04:46.114  18.785425             0\n",
       "...                     ...        ...           ...\n",
       "1567  2015-061-13:50:22.110  20.698925             0\n",
       "1568  2015-061-13:50:22.877  20.698900             0\n",
       "1569  2015-061-13:52:30.114  20.698925             0\n",
       "1570  2015-061-13:54:38.114  20.698925             0\n",
       "1571  2015-061-13:55:02.877  20.698900             0\n",
       "\n",
       "[1572 rows x 3 columns]"
      ]
     },
     "execution_count": 4,
     "metadata": {},
     "output_type": "execute_result"
    }
   ],
   "source": [
    "data['StandardTime']=0\n",
    "data.head(1572)"
   ]
  },
  {
   "cell_type": "code",
   "execution_count": 5,
   "metadata": {},
   "outputs": [
    {
     "data": {
      "text/html": [
       "<div>\n",
       "<style scoped>\n",
       "    .dataframe tbody tr th:only-of-type {\n",
       "        vertical-align: middle;\n",
       "    }\n",
       "\n",
       "    .dataframe tbody tr th {\n",
       "        vertical-align: top;\n",
       "    }\n",
       "\n",
       "    .dataframe thead th {\n",
       "        text-align: right;\n",
       "    }\n",
       "</style>\n",
       "<table border=\"1\" class=\"dataframe\">\n",
       "  <thead>\n",
       "    <tr style=\"text-align: right;\">\n",
       "      <th></th>\n",
       "      <th>date</th>\n",
       "      <th>value</th>\n",
       "      <th>StandardTime</th>\n",
       "    </tr>\n",
       "  </thead>\n",
       "  <tbody>\n",
       "    <tr>\n",
       "      <th>0</th>\n",
       "      <td>2015-060-00:00:30.114</td>\n",
       "      <td>18.744939</td>\n",
       "      <td>0</td>\n",
       "    </tr>\n",
       "    <tr>\n",
       "      <th>1</th>\n",
       "      <td>2015-060-00:00:30.882</td>\n",
       "      <td>18.744900</td>\n",
       "      <td>0</td>\n",
       "    </tr>\n",
       "    <tr>\n",
       "      <th>2</th>\n",
       "      <td>2015-060-00:02:38.114</td>\n",
       "      <td>18.785425</td>\n",
       "      <td>0</td>\n",
       "    </tr>\n",
       "    <tr>\n",
       "      <th>3</th>\n",
       "      <td>2015-060-00:02:38.882</td>\n",
       "      <td>18.785400</td>\n",
       "      <td>0</td>\n",
       "    </tr>\n",
       "    <tr>\n",
       "      <th>4</th>\n",
       "      <td>2015-060-00:04:46.114</td>\n",
       "      <td>18.785425</td>\n",
       "      <td>0</td>\n",
       "    </tr>\n",
       "    <tr>\n",
       "      <th>...</th>\n",
       "      <td>...</td>\n",
       "      <td>...</td>\n",
       "      <td>...</td>\n",
       "    </tr>\n",
       "    <tr>\n",
       "      <th>32114</th>\n",
       "      <td>2015-098-02:25:34.114</td>\n",
       "      <td>18.502024</td>\n",
       "      <td>0</td>\n",
       "    </tr>\n",
       "    <tr>\n",
       "      <th>32115</th>\n",
       "      <td>2015-098-02:27:42.114</td>\n",
       "      <td>18.502024</td>\n",
       "      <td>0</td>\n",
       "    </tr>\n",
       "    <tr>\n",
       "      <th>32116</th>\n",
       "      <td>2015-098-02:29:50.110</td>\n",
       "      <td>18.542510</td>\n",
       "      <td>0</td>\n",
       "    </tr>\n",
       "    <tr>\n",
       "      <th>32117</th>\n",
       "      <td>2015-098-02:31:58.114</td>\n",
       "      <td>18.542510</td>\n",
       "      <td>0</td>\n",
       "    </tr>\n",
       "    <tr>\n",
       "      <th>32118</th>\n",
       "      <td>2015-098-02:34:06.114</td>\n",
       "      <td>18.502024</td>\n",
       "      <td>0</td>\n",
       "    </tr>\n",
       "  </tbody>\n",
       "</table>\n",
       "<p>32119 rows × 3 columns</p>\n",
       "</div>"
      ],
      "text/plain": [
       "                        date      value  StandardTime\n",
       "0      2015-060-00:00:30.114  18.744939             0\n",
       "1      2015-060-00:00:30.882  18.744900             0\n",
       "2      2015-060-00:02:38.114  18.785425             0\n",
       "3      2015-060-00:02:38.882  18.785400             0\n",
       "4      2015-060-00:04:46.114  18.785425             0\n",
       "...                      ...        ...           ...\n",
       "32114  2015-098-02:25:34.114  18.502024             0\n",
       "32115  2015-098-02:27:42.114  18.502024             0\n",
       "32116  2015-098-02:29:50.110  18.542510             0\n",
       "32117  2015-098-02:31:58.114  18.542510             0\n",
       "32118  2015-098-02:34:06.114  18.502024             0\n",
       "\n",
       "[32119 rows x 3 columns]"
      ]
     },
     "execution_count": 5,
     "metadata": {},
     "output_type": "execute_result"
    }
   ],
   "source": [
    "data"
   ]
  },
  {
   "cell_type": "code",
   "execution_count": 6,
   "metadata": {},
   "outputs": [
    {
     "name": "stderr",
     "output_type": "stream",
     "text": [
      "C:\\Users\\COM\\Anaconda3\\envs\\timeSeries\\lib\\site-packages\\ipykernel_launcher.py:14: SettingWithCopyWarning: \n",
      "A value is trying to be set on a copy of a slice from a DataFrame\n",
      "\n",
      "See the caveats in the documentation: https://pandas.pydata.org/pandas-docs/stable/user_guide/indexing.html#returning-a-view-versus-a-copy\n",
      "  \n"
     ]
    },
    {
     "data": {
      "text/html": [
       "<div>\n",
       "<style scoped>\n",
       "    .dataframe tbody tr th:only-of-type {\n",
       "        vertical-align: middle;\n",
       "    }\n",
       "\n",
       "    .dataframe tbody tr th {\n",
       "        vertical-align: top;\n",
       "    }\n",
       "\n",
       "    .dataframe thead th {\n",
       "        text-align: right;\n",
       "    }\n",
       "</style>\n",
       "<table border=\"1\" class=\"dataframe\">\n",
       "  <thead>\n",
       "    <tr style=\"text-align: right;\">\n",
       "      <th></th>\n",
       "      <th>date</th>\n",
       "      <th>value</th>\n",
       "      <th>StandardTime</th>\n",
       "    </tr>\n",
       "  </thead>\n",
       "  <tbody>\n",
       "    <tr>\n",
       "      <th>0</th>\n",
       "      <td>2015-060-00:00:30.114</td>\n",
       "      <td>18.744939</td>\n",
       "      <td>2015-03-01 00:00:30.114000</td>\n",
       "    </tr>\n",
       "    <tr>\n",
       "      <th>1</th>\n",
       "      <td>2015-060-00:00:30.882</td>\n",
       "      <td>18.744900</td>\n",
       "      <td>2015-03-01 00:00:30.882000</td>\n",
       "    </tr>\n",
       "    <tr>\n",
       "      <th>2</th>\n",
       "      <td>2015-060-00:02:38.114</td>\n",
       "      <td>18.785425</td>\n",
       "      <td>2015-03-01 00:02:38.114000</td>\n",
       "    </tr>\n",
       "    <tr>\n",
       "      <th>3</th>\n",
       "      <td>2015-060-00:02:38.882</td>\n",
       "      <td>18.785400</td>\n",
       "      <td>2015-03-01 00:02:38.882000</td>\n",
       "    </tr>\n",
       "    <tr>\n",
       "      <th>4</th>\n",
       "      <td>2015-060-00:04:46.114</td>\n",
       "      <td>18.785425</td>\n",
       "      <td>2015-03-01 00:04:46.114000</td>\n",
       "    </tr>\n",
       "  </tbody>\n",
       "</table>\n",
       "</div>"
      ],
      "text/plain": [
       "                    date      value                StandardTime\n",
       "0  2015-060-00:00:30.114  18.744939  2015-03-01 00:00:30.114000\n",
       "1  2015-060-00:00:30.882  18.744900  2015-03-01 00:00:30.882000\n",
       "2  2015-060-00:02:38.114  18.785425  2015-03-01 00:02:38.114000\n",
       "3  2015-060-00:02:38.882  18.785400  2015-03-01 00:02:38.882000\n",
       "4  2015-060-00:04:46.114  18.785425  2015-03-01 00:04:46.114000"
      ]
     },
     "execution_count": 6,
     "metadata": {},
     "output_type": "execute_result"
    }
   ],
   "source": [
    "for i in range(len(data)):\n",
    "    dd=data['date'][i].split('-')\n",
    "    yy=int(dd[0])\n",
    "    jd=int(dd[1])\n",
    "    sec=dd[2].split(':')\n",
    "    ss=sec[2][:-4]\n",
    "    mm=sec[2][-3:]\n",
    "    month = 1\n",
    "    day = 0\n",
    "    while jd - calendar.monthrange(yy,month)[1] > 0 and month <= 12:\n",
    "        jd = jd - calendar.monthrange(yy,month)[1]\n",
    "        month = month + 1\n",
    "\n",
    "    data['StandardTime'][i]=datetime.datetime(yy, month, jd, int(sec[0]),int(sec[1]),int(ss),int(mm)*1000)\n",
    "\n",
    "data.head()"
   ]
  },
  {
   "cell_type": "code",
   "execution_count": 7,
   "metadata": {},
   "outputs": [
    {
     "data": {
      "text/html": [
       "<div>\n",
       "<style scoped>\n",
       "    .dataframe tbody tr th:only-of-type {\n",
       "        vertical-align: middle;\n",
       "    }\n",
       "\n",
       "    .dataframe tbody tr th {\n",
       "        vertical-align: top;\n",
       "    }\n",
       "\n",
       "    .dataframe thead th {\n",
       "        text-align: right;\n",
       "    }\n",
       "</style>\n",
       "<table border=\"1\" class=\"dataframe\">\n",
       "  <thead>\n",
       "    <tr style=\"text-align: right;\">\n",
       "      <th></th>\n",
       "      <th>date</th>\n",
       "      <th>value</th>\n",
       "      <th>StandardTime</th>\n",
       "      <th>epoch</th>\n",
       "    </tr>\n",
       "  </thead>\n",
       "  <tbody>\n",
       "    <tr>\n",
       "      <th>0</th>\n",
       "      <td>2015-060-00:00:30.114</td>\n",
       "      <td>18.744939</td>\n",
       "      <td>2015-03-01 00:00:30.114000</td>\n",
       "      <td>0</td>\n",
       "    </tr>\n",
       "    <tr>\n",
       "      <th>1</th>\n",
       "      <td>2015-060-00:00:30.882</td>\n",
       "      <td>18.744900</td>\n",
       "      <td>2015-03-01 00:00:30.882000</td>\n",
       "      <td>0</td>\n",
       "    </tr>\n",
       "    <tr>\n",
       "      <th>2</th>\n",
       "      <td>2015-060-00:02:38.114</td>\n",
       "      <td>18.785425</td>\n",
       "      <td>2015-03-01 00:02:38.114000</td>\n",
       "      <td>0</td>\n",
       "    </tr>\n",
       "    <tr>\n",
       "      <th>3</th>\n",
       "      <td>2015-060-00:02:38.882</td>\n",
       "      <td>18.785400</td>\n",
       "      <td>2015-03-01 00:02:38.882000</td>\n",
       "      <td>0</td>\n",
       "    </tr>\n",
       "    <tr>\n",
       "      <th>4</th>\n",
       "      <td>2015-060-00:04:46.114</td>\n",
       "      <td>18.785425</td>\n",
       "      <td>2015-03-01 00:04:46.114000</td>\n",
       "      <td>0</td>\n",
       "    </tr>\n",
       "  </tbody>\n",
       "</table>\n",
       "</div>"
      ],
      "text/plain": [
       "                    date      value                StandardTime  epoch\n",
       "0  2015-060-00:00:30.114  18.744939  2015-03-01 00:00:30.114000      0\n",
       "1  2015-060-00:00:30.882  18.744900  2015-03-01 00:00:30.882000      0\n",
       "2  2015-060-00:02:38.114  18.785425  2015-03-01 00:02:38.114000      0\n",
       "3  2015-060-00:02:38.882  18.785400  2015-03-01 00:02:38.882000      0\n",
       "4  2015-060-00:04:46.114  18.785425  2015-03-01 00:04:46.114000      0"
      ]
     },
     "execution_count": 7,
     "metadata": {},
     "output_type": "execute_result"
    }
   ],
   "source": [
    "data['epoch']=0\n",
    "data.head()"
   ]
  },
  {
   "cell_type": "code",
   "execution_count": 8,
   "metadata": {},
   "outputs": [
    {
     "name": "stderr",
     "output_type": "stream",
     "text": [
      "C:\\Users\\COM\\Anaconda3\\envs\\timeSeries\\lib\\site-packages\\ipykernel_launcher.py:11: SettingWithCopyWarning: \n",
      "A value is trying to be set on a copy of a slice from a DataFrame\n",
      "\n",
      "See the caveats in the documentation: https://pandas.pydata.org/pandas-docs/stable/user_guide/indexing.html#returning-a-view-versus-a-copy\n",
      "  # This is added back by InteractiveShellApp.init_path()\n"
     ]
    }
   ],
   "source": [
    "from datetime import datetime\n",
    "import time\n",
    "\n",
    "for i_m in range(len(data)):\n",
    "    # convert utc -> epoch(sec)\n",
    "    dd = time.mktime(data['StandardTime'][i_m].timetuple())\n",
    "    ms = int(int(str(data['StandardTime'][i_m]).split('.')[1])/1000)\n",
    "    # build epoch (millisec) by add microsec from utc to epoch(sec)\n",
    "    ep_mil = int(str(int(dd))+str(ms))\n",
    "    # add epoch (milsec) -> epoch column\n",
    "    data['epoch'][i_m] = ep_mil"
   ]
  },
  {
   "cell_type": "code",
   "execution_count": 9,
   "metadata": {
    "scrolled": true
   },
   "outputs": [
    {
     "data": {
      "text/html": [
       "<div>\n",
       "<style scoped>\n",
       "    .dataframe tbody tr th:only-of-type {\n",
       "        vertical-align: middle;\n",
       "    }\n",
       "\n",
       "    .dataframe tbody tr th {\n",
       "        vertical-align: top;\n",
       "    }\n",
       "\n",
       "    .dataframe thead th {\n",
       "        text-align: right;\n",
       "    }\n",
       "</style>\n",
       "<table border=\"1\" class=\"dataframe\">\n",
       "  <thead>\n",
       "    <tr style=\"text-align: right;\">\n",
       "      <th></th>\n",
       "      <th>date</th>\n",
       "      <th>value</th>\n",
       "      <th>StandardTime</th>\n",
       "      <th>epoch</th>\n",
       "    </tr>\n",
       "  </thead>\n",
       "  <tbody>\n",
       "    <tr>\n",
       "      <th>0</th>\n",
       "      <td>2015-060-00:00:30.114</td>\n",
       "      <td>18.744939</td>\n",
       "      <td>2015-03-01 00:00:30.114000</td>\n",
       "      <td>1425142830114</td>\n",
       "    </tr>\n",
       "    <tr>\n",
       "      <th>1</th>\n",
       "      <td>2015-060-00:00:30.882</td>\n",
       "      <td>18.744900</td>\n",
       "      <td>2015-03-01 00:00:30.882000</td>\n",
       "      <td>1425142830882</td>\n",
       "    </tr>\n",
       "    <tr>\n",
       "      <th>2</th>\n",
       "      <td>2015-060-00:02:38.114</td>\n",
       "      <td>18.785425</td>\n",
       "      <td>2015-03-01 00:02:38.114000</td>\n",
       "      <td>1425142958114</td>\n",
       "    </tr>\n",
       "    <tr>\n",
       "      <th>3</th>\n",
       "      <td>2015-060-00:02:38.882</td>\n",
       "      <td>18.785400</td>\n",
       "      <td>2015-03-01 00:02:38.882000</td>\n",
       "      <td>1425142958882</td>\n",
       "    </tr>\n",
       "    <tr>\n",
       "      <th>4</th>\n",
       "      <td>2015-060-00:04:46.114</td>\n",
       "      <td>18.785425</td>\n",
       "      <td>2015-03-01 00:04:46.114000</td>\n",
       "      <td>1425143086114</td>\n",
       "    </tr>\n",
       "  </tbody>\n",
       "</table>\n",
       "</div>"
      ],
      "text/plain": [
       "                    date      value                StandardTime          epoch\n",
       "0  2015-060-00:00:30.114  18.744939  2015-03-01 00:00:30.114000  1425142830114\n",
       "1  2015-060-00:00:30.882  18.744900  2015-03-01 00:00:30.882000  1425142830882\n",
       "2  2015-060-00:02:38.114  18.785425  2015-03-01 00:02:38.114000  1425142958114\n",
       "3  2015-060-00:02:38.882  18.785400  2015-03-01 00:02:38.882000  1425142958882\n",
       "4  2015-060-00:04:46.114  18.785425  2015-03-01 00:04:46.114000  1425143086114"
      ]
     },
     "execution_count": 9,
     "metadata": {},
     "output_type": "execute_result"
    }
   ],
   "source": [
    "data.head()"
   ]
  },
  {
   "cell_type": "code",
   "execution_count": 10,
   "metadata": {},
   "outputs": [
    {
     "data": {
      "text/plain": [
       "Text(0.5, 0, 'Time')"
      ]
     },
     "execution_count": 10,
     "metadata": {},
     "output_type": "execute_result"
    },
    {
     "data": {
      "image/png": "[encoded data removed]",
      "text/plain": [
       "<Figure size 1440x720 with 1 Axes>"
      ]
     },
     "metadata": {
      "needs_background": "light"
     },
     "output_type": "display_data"
    }
   ],
   "source": [
    "data['StandardTime'] = pd.to_datetime(data['StandardTime'])\n",
    "\n",
    "import matplotlib.pyplot as plt\n",
    "%matplotlib inline\n",
    "\n",
    "plt.figure(figsize=(20,10))\n",
    "plt.plot(data['StandardTime'], data['value'])\n",
    "plt.xlabel('Time')"
   ]
  },
  {
   "cell_type": "code",
   "execution_count": 11,
   "metadata": {},
   "outputs": [],
   "source": [
    "data_sample = data.copy()"
   ]
  },
  {
   "cell_type": "code",
   "execution_count": 12,
   "metadata": {},
   "outputs": [],
   "source": [
    "# remove outiler\n",
    "\n"
   ]
  },
  {
   "cell_type": "code",
   "execution_count": 13,
   "metadata": {},
   "outputs": [
    {
     "data": {
      "text/plain": [
       "23.460668"
      ]
     },
     "execution_count": 13,
     "metadata": {},
     "output_type": "execute_result"
    }
   ],
   "source": [
    "qt1 = data_sample['value'].quantile([.25])\n",
    "qt1=float(qt1.to_numpy())\n",
    "qt3 = data_sample['value'].quantile([.75])\n",
    "qt3 = float(qt3.to_numpy())\n",
    "\n",
    "# calculate max value of boxplot\n",
    "max_box = qt3+(1.5*(qt3-qt1))\n",
    "max_box"
   ]
  },
  {
   "cell_type": "code",
   "execution_count": 14,
   "metadata": {},
   "outputs": [],
   "source": [
    "data_out = data_sample.copy()"
   ]
  },
  {
   "cell_type": "code",
   "execution_count": 15,
   "metadata": {},
   "outputs": [],
   "source": [
    "# remove outlier\n",
    "data_out.drop(data_out[data_out['value']>max_box].index, inplace=True)\n",
    "data_out.reset_index(drop=True, inplace = True)"
   ]
  },
  {
   "cell_type": "code",
   "execution_count": 16,
   "metadata": {
    "scrolled": false
   },
   "outputs": [
    {
     "data": {
      "text/plain": [
       "<matplotlib.axes._subplots.AxesSubplot at 0x29b90c651d0>"
      ]
     },
     "execution_count": 16,
     "metadata": {},
     "output_type": "execute_result"
    },
    {
     "data": {
      "image/png": "[encoded data removed]",
      "text/plain": [
       "<Figure size 1440x720 with 1 Axes>"
      ]
     },
     "metadata": {
      "needs_background": "light"
     },
     "output_type": "display_data"
    }
   ],
   "source": [
    "import seaborn as sns\n",
    "plt.figure(figsize=(20,10))\n",
    "sns.boxplot(data_out['value'])"
   ]
  },
  {
   "cell_type": "code",
   "execution_count": 17,
   "metadata": {},
   "outputs": [
    {
     "data": {
      "text/plain": [
       "Text(0.5, 0, 'Time')"
      ]
     },
     "execution_count": 17,
     "metadata": {},
     "output_type": "execute_result"
    },
    {
     "data": {
      "image/png": "[encoded data removed]",
      "text/plain": [
       "<Figure size 1440x720 with 1 Axes>"
      ]
     },
     "metadata": {
      "needs_background": "light"
     },
     "output_type": "display_data"
    }
   ],
   "source": [
    "plt.figure(figsize=(20,10))\n",
    "plt.plot(data_out['StandardTime'], data_out['value'])\n",
    "plt.xlabel('Time')"
   ]
  },
  {
   "cell_type": "code",
   "execution_count": null,
   "metadata": {},
   "outputs": [],
   "source": []
  },
  {
   "cell_type": "code",
   "execution_count": 18,
   "metadata": {},
   "outputs": [],
   "source": [
    "# data with outlier ==> data_sample\n",
    "# data without outlier ==> data_out"
   ]
  },
  {
   "cell_type": "code",
   "execution_count": null,
   "metadata": {},
   "outputs": [],
   "source": []
  },
  {
   "cell_type": "markdown",
   "metadata": {},
   "source": [
    "## Isolation Forest"
   ]
  },
  {
   "cell_type": "code",
   "execution_count": 19,
   "metadata": {},
   "outputs": [],
   "source": [
    "data_sample_iso = data_sample.copy()"
   ]
  },
  {
   "cell_type": "code",
   "execution_count": 20,
   "metadata": {},
   "outputs": [],
   "source": [
    "from sklearn import preprocessing\n",
    "\n",
    "min_max_scaler = preprocessing.StandardScaler()\n",
    "np_scaled = min_max_scaler.fit_transform(data_sample_iso[['value','epoch']])\n",
    "data_pre = pd.DataFrame(np_scaled)"
   ]
  },
  {
   "cell_type": "code",
   "execution_count": 21,
   "metadata": {},
   "outputs": [
    {
     "data": {
      "text/html": [
       "<div>\n",
       "<style scoped>\n",
       "    .dataframe tbody tr th:only-of-type {\n",
       "        vertical-align: middle;\n",
       "    }\n",
       "\n",
       "    .dataframe tbody tr th {\n",
       "        vertical-align: top;\n",
       "    }\n",
       "\n",
       "    .dataframe thead th {\n",
       "        text-align: right;\n",
       "    }\n",
       "</style>\n",
       "<table border=\"1\" class=\"dataframe\">\n",
       "  <thead>\n",
       "    <tr style=\"text-align: right;\">\n",
       "      <th></th>\n",
       "      <th>0</th>\n",
       "      <th>1</th>\n",
       "    </tr>\n",
       "  </thead>\n",
       "  <tbody>\n",
       "    <tr>\n",
       "      <th>0</th>\n",
       "      <td>-0.856509</td>\n",
       "      <td>0.183011</td>\n",
       "    </tr>\n",
       "    <tr>\n",
       "      <th>1</th>\n",
       "      <td>-0.856539</td>\n",
       "      <td>0.183011</td>\n",
       "    </tr>\n",
       "    <tr>\n",
       "      <th>2</th>\n",
       "      <td>-0.825214</td>\n",
       "      <td>0.183012</td>\n",
       "    </tr>\n",
       "    <tr>\n",
       "      <th>3</th>\n",
       "      <td>-0.825233</td>\n",
       "      <td>0.183012</td>\n",
       "    </tr>\n",
       "    <tr>\n",
       "      <th>4</th>\n",
       "      <td>-0.825214</td>\n",
       "      <td>0.183012</td>\n",
       "    </tr>\n",
       "    <tr>\n",
       "      <th>...</th>\n",
       "      <td>...</td>\n",
       "      <td>...</td>\n",
       "    </tr>\n",
       "    <tr>\n",
       "      <th>32114</th>\n",
       "      <td>-1.044280</td>\n",
       "      <td>0.196985</td>\n",
       "    </tr>\n",
       "    <tr>\n",
       "      <th>32115</th>\n",
       "      <td>-1.044280</td>\n",
       "      <td>0.196986</td>\n",
       "    </tr>\n",
       "    <tr>\n",
       "      <th>32116</th>\n",
       "      <td>-1.012985</td>\n",
       "      <td>0.196986</td>\n",
       "    </tr>\n",
       "    <tr>\n",
       "      <th>32117</th>\n",
       "      <td>-1.012985</td>\n",
       "      <td>0.196987</td>\n",
       "    </tr>\n",
       "    <tr>\n",
       "      <th>32118</th>\n",
       "      <td>-1.044280</td>\n",
       "      <td>0.196987</td>\n",
       "    </tr>\n",
       "  </tbody>\n",
       "</table>\n",
       "<p>32119 rows × 2 columns</p>\n",
       "</div>"
      ],
      "text/plain": [
       "              0         1\n",
       "0     -0.856509  0.183011\n",
       "1     -0.856539  0.183011\n",
       "2     -0.825214  0.183012\n",
       "3     -0.825233  0.183012\n",
       "4     -0.825214  0.183012\n",
       "...         ...       ...\n",
       "32114 -1.044280  0.196985\n",
       "32115 -1.044280  0.196986\n",
       "32116 -1.012985  0.196986\n",
       "32117 -1.012985  0.196987\n",
       "32118 -1.044280  0.196987\n",
       "\n",
       "[32119 rows x 2 columns]"
      ]
     },
     "execution_count": 21,
     "metadata": {},
     "output_type": "execute_result"
    }
   ],
   "source": [
    "data_pre"
   ]
  },
  {
   "cell_type": "code",
   "execution_count": 22,
   "metadata": {},
   "outputs": [
    {
     "data": {
      "text/plain": [
       "IsolationForest(behaviour='deprecated', bootstrap=False, contamination=0.003,\n",
       "                max_features=1.0, max_samples='auto', n_estimators=100,\n",
       "                n_jobs=None, random_state=None, verbose=0, warm_start=False)"
      ]
     },
     "execution_count": 22,
     "metadata": {},
     "output_type": "execute_result"
    }
   ],
   "source": [
    "from sklearn.ensemble import IsolationForest\n",
    "\n",
    "outliers_fraction = 0.003\n",
    "model = IsolationForest(contamination = outliers_fraction)\n",
    "model.fit(data_pre)"
   ]
  },
  {
   "cell_type": "code",
   "execution_count": 23,
   "metadata": {},
   "outputs": [
    {
     "name": "stdout",
     "output_type": "stream",
     "text": [
      "0    32022\n",
      "1       97\n",
      "Name: anomaly_iso, dtype: int64\n"
     ]
    }
   ],
   "source": [
    "# add the data to the main  \n",
    "data_sample_iso['anomaly_iso'] = pd.Series(model.predict(data_pre))\n",
    "data_sample_iso['anomaly_iso'] = data_sample_iso['anomaly_iso'].map( {1: 0, -1: 1} )\n",
    "print(data_sample_iso['anomaly_iso'].value_counts())"
   ]
  },
  {
   "cell_type": "code",
   "execution_count": 24,
   "metadata": {},
   "outputs": [
    {
     "data": {
      "text/html": [
       "<div>\n",
       "<style scoped>\n",
       "    .dataframe tbody tr th:only-of-type {\n",
       "        vertical-align: middle;\n",
       "    }\n",
       "\n",
       "    .dataframe tbody tr th {\n",
       "        vertical-align: top;\n",
       "    }\n",
       "\n",
       "    .dataframe thead th {\n",
       "        text-align: right;\n",
       "    }\n",
       "</style>\n",
       "<table border=\"1\" class=\"dataframe\">\n",
       "  <thead>\n",
       "    <tr style=\"text-align: right;\">\n",
       "      <th></th>\n",
       "      <th>date</th>\n",
       "      <th>value</th>\n",
       "      <th>StandardTime</th>\n",
       "      <th>epoch</th>\n",
       "      <th>anomaly_iso</th>\n",
       "    </tr>\n",
       "  </thead>\n",
       "  <tbody>\n",
       "    <tr>\n",
       "      <th>0</th>\n",
       "      <td>2015-060-00:00:30.114</td>\n",
       "      <td>18.744939</td>\n",
       "      <td>2015-03-01 00:00:30.114</td>\n",
       "      <td>1425142830114</td>\n",
       "      <td>0</td>\n",
       "    </tr>\n",
       "    <tr>\n",
       "      <th>1</th>\n",
       "      <td>2015-060-00:00:30.882</td>\n",
       "      <td>18.744900</td>\n",
       "      <td>2015-03-01 00:00:30.882</td>\n",
       "      <td>1425142830882</td>\n",
       "      <td>0</td>\n",
       "    </tr>\n",
       "    <tr>\n",
       "      <th>2</th>\n",
       "      <td>2015-060-00:02:38.114</td>\n",
       "      <td>18.785425</td>\n",
       "      <td>2015-03-01 00:02:38.114</td>\n",
       "      <td>1425142958114</td>\n",
       "      <td>0</td>\n",
       "    </tr>\n",
       "    <tr>\n",
       "      <th>3</th>\n",
       "      <td>2015-060-00:02:38.882</td>\n",
       "      <td>18.785400</td>\n",
       "      <td>2015-03-01 00:02:38.882</td>\n",
       "      <td>1425142958882</td>\n",
       "      <td>0</td>\n",
       "    </tr>\n",
       "    <tr>\n",
       "      <th>4</th>\n",
       "      <td>2015-060-00:04:46.114</td>\n",
       "      <td>18.785425</td>\n",
       "      <td>2015-03-01 00:04:46.114</td>\n",
       "      <td>1425143086114</td>\n",
       "      <td>0</td>\n",
       "    </tr>\n",
       "    <tr>\n",
       "      <th>...</th>\n",
       "      <td>...</td>\n",
       "      <td>...</td>\n",
       "      <td>...</td>\n",
       "      <td>...</td>\n",
       "      <td>...</td>\n",
       "    </tr>\n",
       "    <tr>\n",
       "      <th>32114</th>\n",
       "      <td>2015-098-02:25:34.114</td>\n",
       "      <td>18.502024</td>\n",
       "      <td>2015-04-08 02:25:34.114</td>\n",
       "      <td>1428434734114</td>\n",
       "      <td>0</td>\n",
       "    </tr>\n",
       "    <tr>\n",
       "      <th>32115</th>\n",
       "      <td>2015-098-02:27:42.114</td>\n",
       "      <td>18.502024</td>\n",
       "      <td>2015-04-08 02:27:42.114</td>\n",
       "      <td>1428434862114</td>\n",
       "      <td>0</td>\n",
       "    </tr>\n",
       "    <tr>\n",
       "      <th>32116</th>\n",
       "      <td>2015-098-02:29:50.110</td>\n",
       "      <td>18.542510</td>\n",
       "      <td>2015-04-08 02:29:50.110</td>\n",
       "      <td>1428434990110</td>\n",
       "      <td>0</td>\n",
       "    </tr>\n",
       "    <tr>\n",
       "      <th>32117</th>\n",
       "      <td>2015-098-02:31:58.114</td>\n",
       "      <td>18.542510</td>\n",
       "      <td>2015-04-08 02:31:58.114</td>\n",
       "      <td>1428435118114</td>\n",
       "      <td>0</td>\n",
       "    </tr>\n",
       "    <tr>\n",
       "      <th>32118</th>\n",
       "      <td>2015-098-02:34:06.114</td>\n",
       "      <td>18.502024</td>\n",
       "      <td>2015-04-08 02:34:06.114</td>\n",
       "      <td>1428435246114</td>\n",
       "      <td>0</td>\n",
       "    </tr>\n",
       "  </tbody>\n",
       "</table>\n",
       "<p>32119 rows × 5 columns</p>\n",
       "</div>"
      ],
      "text/plain": [
       "                        date      value            StandardTime  \\\n",
       "0      2015-060-00:00:30.114  18.744939 2015-03-01 00:00:30.114   \n",
       "1      2015-060-00:00:30.882  18.744900 2015-03-01 00:00:30.882   \n",
       "2      2015-060-00:02:38.114  18.785425 2015-03-01 00:02:38.114   \n",
       "3      2015-060-00:02:38.882  18.785400 2015-03-01 00:02:38.882   \n",
       "4      2015-060-00:04:46.114  18.785425 2015-03-01 00:04:46.114   \n",
       "...                      ...        ...                     ...   \n",
       "32114  2015-098-02:25:34.114  18.502024 2015-04-08 02:25:34.114   \n",
       "32115  2015-098-02:27:42.114  18.502024 2015-04-08 02:27:42.114   \n",
       "32116  2015-098-02:29:50.110  18.542510 2015-04-08 02:29:50.110   \n",
       "32117  2015-098-02:31:58.114  18.542510 2015-04-08 02:31:58.114   \n",
       "32118  2015-098-02:34:06.114  18.502024 2015-04-08 02:34:06.114   \n",
       "\n",
       "               epoch  anomaly_iso  \n",
       "0      1425142830114            0  \n",
       "1      1425142830882            0  \n",
       "2      1425142958114            0  \n",
       "3      1425142958882            0  \n",
       "4      1425143086114            0  \n",
       "...              ...          ...  \n",
       "32114  1428434734114            0  \n",
       "32115  1428434862114            0  \n",
       "32116  1428434990110            0  \n",
       "32117  1428435118114            0  \n",
       "32118  1428435246114            0  \n",
       "\n",
       "[32119 rows x 5 columns]"
      ]
     },
     "execution_count": 24,
     "metadata": {},
     "output_type": "execute_result"
    }
   ],
   "source": [
    "data_sample_iso"
   ]
  },
  {
   "cell_type": "code",
   "execution_count": 25,
   "metadata": {},
   "outputs": [
    {
     "data": {
      "text/html": [
       "<div>\n",
       "<style scoped>\n",
       "    .dataframe tbody tr th:only-of-type {\n",
       "        vertical-align: middle;\n",
       "    }\n",
       "\n",
       "    .dataframe tbody tr th {\n",
       "        vertical-align: top;\n",
       "    }\n",
       "\n",
       "    .dataframe thead th {\n",
       "        text-align: right;\n",
       "    }\n",
       "</style>\n",
       "<table border=\"1\" class=\"dataframe\">\n",
       "  <thead>\n",
       "    <tr style=\"text-align: right;\">\n",
       "      <th></th>\n",
       "      <th>date</th>\n",
       "      <th>value</th>\n",
       "      <th>StandardTime</th>\n",
       "      <th>epoch</th>\n",
       "      <th>anomaly_iso</th>\n",
       "    </tr>\n",
       "  </thead>\n",
       "  <tbody>\n",
       "    <tr>\n",
       "      <th>45</th>\n",
       "      <td>2015-060-00:58:06.064</td>\n",
       "      <td>18.906883</td>\n",
       "      <td>2015-03-01 00:58:06.064</td>\n",
       "      <td>142514628664</td>\n",
       "      <td>1</td>\n",
       "    </tr>\n",
       "    <tr>\n",
       "      <th>542</th>\n",
       "      <td>2015-060-12:20:46.064</td>\n",
       "      <td>21.290323</td>\n",
       "      <td>2015-03-01 12:20:46.064</td>\n",
       "      <td>142518724664</td>\n",
       "      <td>1</td>\n",
       "    </tr>\n",
       "  </tbody>\n",
       "</table>\n",
       "</div>"
      ],
      "text/plain": [
       "                      date      value            StandardTime         epoch  \\\n",
       "45   2015-060-00:58:06.064  18.906883 2015-03-01 00:58:06.064  142514628664   \n",
       "542  2015-060-12:20:46.064  21.290323 2015-03-01 12:20:46.064  142518724664   \n",
       "\n",
       "     anomaly_iso  \n",
       "45             1  \n",
       "542            1  "
      ]
     },
     "execution_count": 25,
     "metadata": {},
     "output_type": "execute_result"
    }
   ],
   "source": [
    "y_anomaly = data_sample_iso[data_sample_iso['anomaly_iso'] == 1]\n",
    "y_anomaly.head(2)"
   ]
  },
  {
   "cell_type": "code",
   "execution_count": 26,
   "metadata": {
    "scrolled": true
   },
   "outputs": [
    {
     "data": {
      "text/plain": [
       "[<matplotlib.lines.Line2D at 0x29b927d6630>]"
      ]
     },
     "execution_count": 26,
     "metadata": {},
     "output_type": "execute_result"
    },
    {
     "data": {
      "image/png": "[encoded data removed]",
      "text/plain": [
       "<Figure size 1440x720 with 1 Axes>"
      ]
     },
     "metadata": {
      "needs_background": "light"
     },
     "output_type": "display_data"
    }
   ],
   "source": [
    "plt.figure(figsize=(20,10))\n",
    "plt.plot(data_sample_iso['StandardTime'], data_sample_iso['value'])\n",
    "plt.plot(y_anomaly['StandardTime'],y_anomaly['value'], 'ro' )"
   ]
  },
  {
   "cell_type": "code",
   "execution_count": 27,
   "metadata": {},
   "outputs": [],
   "source": [
    "data_sample_iso = data_out.copy()"
   ]
  },
  {
   "cell_type": "code",
   "execution_count": 28,
   "metadata": {},
   "outputs": [],
   "source": [
    "from sklearn import preprocessing\n",
    "\n",
    "min_max_scaler = preprocessing.StandardScaler()\n",
    "np_scaled = min_max_scaler.fit_transform(data_sample_iso[['value','epoch']])\n",
    "data_pre = pd.DataFrame(np_scaled)"
   ]
  },
  {
   "cell_type": "code",
   "execution_count": 29,
   "metadata": {},
   "outputs": [
    {
     "name": "stdout",
     "output_type": "stream",
     "text": [
      "0    31958\n",
      "1      159\n",
      "Name: anomaly_iso, dtype: int64\n"
     ]
    }
   ],
   "source": [
    "from sklearn.ensemble import IsolationForest\n",
    "\n",
    "outliers_fraction = 0.005\n",
    "model = IsolationForest(contamination = outliers_fraction)\n",
    "model.fit(data_pre)\n",
    "\n",
    "# add the data to the main  \n",
    "data_sample_iso['anomaly_iso'] = pd.Series(model.predict(data_pre))\n",
    "data_sample_iso['anomaly_iso'] = data_sample_iso['anomaly_iso'].map( {1: 0, -1: 1} )\n",
    "print(data_sample_iso['anomaly_iso'].value_counts())"
   ]
  },
  {
   "cell_type": "code",
   "execution_count": 30,
   "metadata": {},
   "outputs": [
    {
     "data": {
      "text/html": [
       "<div>\n",
       "<style scoped>\n",
       "    .dataframe tbody tr th:only-of-type {\n",
       "        vertical-align: middle;\n",
       "    }\n",
       "\n",
       "    .dataframe tbody tr th {\n",
       "        vertical-align: top;\n",
       "    }\n",
       "\n",
       "    .dataframe thead th {\n",
       "        text-align: right;\n",
       "    }\n",
       "</style>\n",
       "<table border=\"1\" class=\"dataframe\">\n",
       "  <thead>\n",
       "    <tr style=\"text-align: right;\">\n",
       "      <th></th>\n",
       "      <th>date</th>\n",
       "      <th>value</th>\n",
       "      <th>StandardTime</th>\n",
       "      <th>epoch</th>\n",
       "      <th>anomaly_iso</th>\n",
       "    </tr>\n",
       "  </thead>\n",
       "  <tbody>\n",
       "    <tr>\n",
       "      <th>0</th>\n",
       "      <td>2015-060-00:00:30.114</td>\n",
       "      <td>18.744939</td>\n",
       "      <td>2015-03-01 00:00:30.114</td>\n",
       "      <td>1425142830114</td>\n",
       "      <td>0</td>\n",
       "    </tr>\n",
       "    <tr>\n",
       "      <th>1</th>\n",
       "      <td>2015-060-00:00:30.882</td>\n",
       "      <td>18.744900</td>\n",
       "      <td>2015-03-01 00:00:30.882</td>\n",
       "      <td>1425142830882</td>\n",
       "      <td>0</td>\n",
       "    </tr>\n",
       "    <tr>\n",
       "      <th>2</th>\n",
       "      <td>2015-060-00:02:38.114</td>\n",
       "      <td>18.785425</td>\n",
       "      <td>2015-03-01 00:02:38.114</td>\n",
       "      <td>1425142958114</td>\n",
       "      <td>0</td>\n",
       "    </tr>\n",
       "    <tr>\n",
       "      <th>3</th>\n",
       "      <td>2015-060-00:02:38.882</td>\n",
       "      <td>18.785400</td>\n",
       "      <td>2015-03-01 00:02:38.882</td>\n",
       "      <td>1425142958882</td>\n",
       "      <td>0</td>\n",
       "    </tr>\n",
       "    <tr>\n",
       "      <th>4</th>\n",
       "      <td>2015-060-00:04:46.114</td>\n",
       "      <td>18.785425</td>\n",
       "      <td>2015-03-01 00:04:46.114</td>\n",
       "      <td>1425143086114</td>\n",
       "      <td>0</td>\n",
       "    </tr>\n",
       "    <tr>\n",
       "      <th>...</th>\n",
       "      <td>...</td>\n",
       "      <td>...</td>\n",
       "      <td>...</td>\n",
       "      <td>...</td>\n",
       "      <td>...</td>\n",
       "    </tr>\n",
       "    <tr>\n",
       "      <th>32112</th>\n",
       "      <td>2015-098-02:25:34.114</td>\n",
       "      <td>18.502024</td>\n",
       "      <td>2015-04-08 02:25:34.114</td>\n",
       "      <td>1428434734114</td>\n",
       "      <td>0</td>\n",
       "    </tr>\n",
       "    <tr>\n",
       "      <th>32113</th>\n",
       "      <td>2015-098-02:27:42.114</td>\n",
       "      <td>18.502024</td>\n",
       "      <td>2015-04-08 02:27:42.114</td>\n",
       "      <td>1428434862114</td>\n",
       "      <td>0</td>\n",
       "    </tr>\n",
       "    <tr>\n",
       "      <th>32114</th>\n",
       "      <td>2015-098-02:29:50.110</td>\n",
       "      <td>18.542510</td>\n",
       "      <td>2015-04-08 02:29:50.110</td>\n",
       "      <td>1428434990110</td>\n",
       "      <td>0</td>\n",
       "    </tr>\n",
       "    <tr>\n",
       "      <th>32115</th>\n",
       "      <td>2015-098-02:31:58.114</td>\n",
       "      <td>18.542510</td>\n",
       "      <td>2015-04-08 02:31:58.114</td>\n",
       "      <td>1428435118114</td>\n",
       "      <td>0</td>\n",
       "    </tr>\n",
       "    <tr>\n",
       "      <th>32116</th>\n",
       "      <td>2015-098-02:34:06.114</td>\n",
       "      <td>18.502024</td>\n",
       "      <td>2015-04-08 02:34:06.114</td>\n",
       "      <td>1428435246114</td>\n",
       "      <td>0</td>\n",
       "    </tr>\n",
       "  </tbody>\n",
       "</table>\n",
       "<p>32117 rows × 5 columns</p>\n",
       "</div>"
      ],
      "text/plain": [
       "                        date      value            StandardTime  \\\n",
       "0      2015-060-00:00:30.114  18.744939 2015-03-01 00:00:30.114   \n",
       "1      2015-060-00:00:30.882  18.744900 2015-03-01 00:00:30.882   \n",
       "2      2015-060-00:02:38.114  18.785425 2015-03-01 00:02:38.114   \n",
       "3      2015-060-00:02:38.882  18.785400 2015-03-01 00:02:38.882   \n",
       "4      2015-060-00:04:46.114  18.785425 2015-03-01 00:04:46.114   \n",
       "...                      ...        ...                     ...   \n",
       "32112  2015-098-02:25:34.114  18.502024 2015-04-08 02:25:34.114   \n",
       "32113  2015-098-02:27:42.114  18.502024 2015-04-08 02:27:42.114   \n",
       "32114  2015-098-02:29:50.110  18.542510 2015-04-08 02:29:50.110   \n",
       "32115  2015-098-02:31:58.114  18.542510 2015-04-08 02:31:58.114   \n",
       "32116  2015-098-02:34:06.114  18.502024 2015-04-08 02:34:06.114   \n",
       "\n",
       "               epoch  anomaly_iso  \n",
       "0      1425142830114            0  \n",
       "1      1425142830882            0  \n",
       "2      1425142958114            0  \n",
       "3      1425142958882            0  \n",
       "4      1425143086114            0  \n",
       "...              ...          ...  \n",
       "32112  1428434734114            0  \n",
       "32113  1428434862114            0  \n",
       "32114  1428434990110            0  \n",
       "32115  1428435118114            0  \n",
       "32116  1428435246114            0  \n",
       "\n",
       "[32117 rows x 5 columns]"
      ]
     },
     "execution_count": 30,
     "metadata": {},
     "output_type": "execute_result"
    }
   ],
   "source": [
    "data_sample_iso"
   ]
  },
  {
   "cell_type": "code",
   "execution_count": 31,
   "metadata": {},
   "outputs": [
    {
     "data": {
      "text/html": [
       "<div>\n",
       "<style scoped>\n",
       "    .dataframe tbody tr th:only-of-type {\n",
       "        vertical-align: middle;\n",
       "    }\n",
       "\n",
       "    .dataframe tbody tr th {\n",
       "        vertical-align: top;\n",
       "    }\n",
       "\n",
       "    .dataframe thead th {\n",
       "        text-align: right;\n",
       "    }\n",
       "</style>\n",
       "<table border=\"1\" class=\"dataframe\">\n",
       "  <thead>\n",
       "    <tr style=\"text-align: right;\">\n",
       "      <th></th>\n",
       "      <th>date</th>\n",
       "      <th>value</th>\n",
       "      <th>StandardTime</th>\n",
       "      <th>epoch</th>\n",
       "      <th>anomaly_iso</th>\n",
       "    </tr>\n",
       "  </thead>\n",
       "  <tbody>\n",
       "    <tr>\n",
       "      <th>542</th>\n",
       "      <td>2015-060-12:20:46.064</td>\n",
       "      <td>21.290323</td>\n",
       "      <td>2015-03-01 12:20:46.064</td>\n",
       "      <td>142518724664</td>\n",
       "      <td>1</td>\n",
       "    </tr>\n",
       "    <tr>\n",
       "      <th>615</th>\n",
       "      <td>2015-060-14:01:02.064</td>\n",
       "      <td>21.612903</td>\n",
       "      <td>2015-03-01 14:01:02.064</td>\n",
       "      <td>142519326264</td>\n",
       "      <td>1</td>\n",
       "    </tr>\n",
       "  </tbody>\n",
       "</table>\n",
       "</div>"
      ],
      "text/plain": [
       "                      date      value            StandardTime         epoch  \\\n",
       "542  2015-060-12:20:46.064  21.290323 2015-03-01 12:20:46.064  142518724664   \n",
       "615  2015-060-14:01:02.064  21.612903 2015-03-01 14:01:02.064  142519326264   \n",
       "\n",
       "     anomaly_iso  \n",
       "542            1  \n",
       "615            1  "
      ]
     },
     "execution_count": 31,
     "metadata": {},
     "output_type": "execute_result"
    }
   ],
   "source": [
    "y_anomaly = data_sample_iso[data_sample_iso['anomaly_iso'] == 1]\n",
    "y_anomaly.head(2)"
   ]
  },
  {
   "cell_type": "code",
   "execution_count": 32,
   "metadata": {},
   "outputs": [
    {
     "data": {
      "text/plain": [
       "[<matplotlib.lines.Line2D at 0x29b9283fd68>]"
      ]
     },
     "execution_count": 32,
     "metadata": {},
     "output_type": "execute_result"
    },
    {
     "data": {
      "image/png": "[encoded data removed]",
      "text/plain": [
       "<Figure size 1440x720 with 1 Axes>"
      ]
     },
     "metadata": {
      "needs_background": "light"
     },
     "output_type": "display_data"
    }
   ],
   "source": [
    "plt.figure(figsize=(20,10))\n",
    "plt.plot(data_sample_iso['StandardTime'], data_sample_iso['value'])\n",
    "plt.plot(y_anomaly['StandardTime'],y_anomaly['value'], 'ro' )"
   ]
  },
  {
   "cell_type": "code",
   "execution_count": null,
   "metadata": {},
   "outputs": [],
   "source": []
  },
  {
   "cell_type": "code",
   "execution_count": null,
   "metadata": {},
   "outputs": [],
   "source": []
  }
 ],
 "metadata": {
  "kernelspec": {
   "display_name": "Python 3",
   "language": "python",
   "name": "python3"
  },
  "language_info": {
   "codemirror_mode": {
    "name": "ipython",
    "version": 3
   },
   "file_extension": ".py",
   "mimetype": "text/x-python",
   "name": "python",
   "nbconvert_exporter": "python",
   "pygments_lexer": "ipython3",
   "version": "3.6.10"
  }
 },
 "nbformat": 4,
 "nbformat_minor": 4
}
