{
 "cells": [
  {
   "cell_type": "code",
   "execution_count": 1,
   "metadata": {},
   "outputs": [],
   "source": [
    "import pandas as pd"
   ]
  },
  {
   "cell_type": "code",
   "execution_count": 3,
   "metadata": {},
   "outputs": [
    {
     "data": {
      "text/html": [
       "<div>\n",
       "<style scoped>\n",
       "    .dataframe tbody tr th:only-of-type {\n",
       "        vertical-align: middle;\n",
       "    }\n",
       "\n",
       "    .dataframe tbody tr th {\n",
       "        vertical-align: top;\n",
       "    }\n",
       "\n",
       "    .dataframe thead th {\n",
       "        text-align: right;\n",
       "    }\n",
       "</style>\n",
       "<table border=\"1\" class=\"dataframe\">\n",
       "  <thead>\n",
       "    <tr style=\"text-align: right;\">\n",
       "      <th></th>\n",
       "      <th>Date</th>\n",
       "      <th>Open</th>\n",
       "      <th>High</th>\n",
       "      <th>Low</th>\n",
       "      <th>Close</th>\n",
       "      <th>Adj Close</th>\n",
       "      <th>Volume</th>\n",
       "    </tr>\n",
       "  </thead>\n",
       "  <tbody>\n",
       "    <tr>\n",
       "      <th>0</th>\n",
       "      <td>2017-11-29</td>\n",
       "      <td>9751.5</td>\n",
       "      <td>9992.5</td>\n",
       "      <td>9607.5</td>\n",
       "      <td>9938.0</td>\n",
       "      <td>9938.0</td>\n",
       "      <td>1236953894</td>\n",
       "    </tr>\n",
       "    <tr>\n",
       "      <th>1</th>\n",
       "      <td>2017-11-30</td>\n",
       "      <td>9938.0</td>\n",
       "      <td>11489.0</td>\n",
       "      <td>8830.0</td>\n",
       "      <td>9869.5</td>\n",
       "      <td>9869.5</td>\n",
       "      <td>3490469446</td>\n",
       "    </tr>\n",
       "    <tr>\n",
       "      <th>2</th>\n",
       "      <td>2017-12-01</td>\n",
       "      <td>9869.5</td>\n",
       "      <td>10750.5</td>\n",
       "      <td>8938.5</td>\n",
       "      <td>9960.0</td>\n",
       "      <td>9960.0</td>\n",
       "      <td>2291590521</td>\n",
       "    </tr>\n",
       "    <tr>\n",
       "      <th>3</th>\n",
       "      <td>2017-12-02</td>\n",
       "      <td>9960.0</td>\n",
       "      <td>10988.0</td>\n",
       "      <td>9347.5</td>\n",
       "      <td>10879.5</td>\n",
       "      <td>10879.5</td>\n",
       "      <td>1948017516</td>\n",
       "    </tr>\n",
       "    <tr>\n",
       "      <th>4</th>\n",
       "      <td>2017-12-03</td>\n",
       "      <td>10879.5</td>\n",
       "      <td>11262.5</td>\n",
       "      <td>10676.5</td>\n",
       "      <td>10910.5</td>\n",
       "      <td>10910.5</td>\n",
       "      <td>1389465247</td>\n",
       "    </tr>\n",
       "  </tbody>\n",
       "</table>\n",
       "</div>"
      ],
      "text/plain": [
       "         Date     Open     High      Low    Close  Adj Close      Volume\n",
       "0  2017-11-29   9751.5   9992.5   9607.5   9938.0     9938.0  1236953894\n",
       "1  2017-11-30   9938.0  11489.0   8830.0   9869.5     9869.5  3490469446\n",
       "2  2017-12-01   9869.5  10750.5   8938.5   9960.0     9960.0  2291590521\n",
       "3  2017-12-02   9960.0  10988.0   9347.5  10879.5    10879.5  1948017516\n",
       "4  2017-12-03  10879.5  11262.5  10676.5  10910.5    10910.5  1389465247"
      ]
     },
     "execution_count": 3,
     "metadata": {},
     "output_type": "execute_result"
    }
   ],
   "source": [
    "df = pd.read_csv('datasets/btcusd.csv')\n",
    "df.head()"
   ]
  },
  {
   "cell_type": "code",
   "execution_count": 5,
   "metadata": {
    "scrolled": true
   },
   "outputs": [
    {
     "data": {
      "text/plain": [
       "3500"
      ]
     },
     "execution_count": 5,
     "metadata": {},
     "output_type": "execute_result"
    }
   ],
   "source": [
    "df.size"
   ]
  },
  {
   "cell_type": "code",
   "execution_count": null,
   "metadata": {},
   "outputs": [],
   "source": []
  }
 ],
 "metadata": {
  "kernelspec": {
   "display_name": "Python 3",
   "language": "python",
   "name": "python3"
  },
  "language_info": {
   "codemirror_mode": {
    "name": "ipython",
    "version": 3
   },
   "file_extension": ".py",
   "mimetype": "text/x-python",
   "name": "python",
   "nbconvert_exporter": "python",
   "pygments_lexer": "ipython3",
   "version": "3.6.10"
  }
 },
 "nbformat": 4,
 "nbformat_minor": 4
}
