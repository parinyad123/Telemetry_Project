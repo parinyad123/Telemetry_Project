{
 "cells": [
  {
   "cell_type": "code",
   "execution_count": 4,
   "metadata": {},
   "outputs": [
    {
     "name": "stderr",
     "output_type": "stream",
     "text": [
      "Using TensorFlow backend.\n"
     ]
    }
   ],
   "source": [
    "from attrdict import AttrDict\n",
    "from keras.models import load_model\n",
    "import numpy as np\n",
    "import matplotlib.pyplot as plt\n",
    "\n",
    "from keras.models import Sequential\n",
    "from keras.layers import Dense, Activation, LSTM, Dropout, RepeatVector, TimeDistributed"
   ]
  },
  {
   "cell_type": "code",
   "execution_count": 5,
   "metadata": {},
   "outputs": [],
   "source": [
    "EPOCHS = 10"
   ]
  },
  {
   "cell_type": "code",
   "execution_count": 6,
   "metadata": {},
   "outputs": [],
   "source": [
    "def create_model(steps_before, steps_after, feature_count):\n",
    "    DROPOUT = 0.5\n",
    "    LAYERS =2\n",
    "    \n",
    "    hidden_neurons = 300\n",
    "    \n",
    "    model = Sequential()\n",
    "    model.add(LSTM(input_dim=feature_count, output_dim=hidden_neurons, return_sequences=False))\n",
    "    model.add(RepeatVector(steps_after))\n",
    "    model.add(LSTM(output_dim=hidden_neurons, return_sequences=True))\n",
    "    model.add(TimeDistributed(Dense(feature_count)))\n",
    "    model.add(Activation('linear'))\n",
    "    \n",
    "    model.compile(loss='mean_squared_error', optimizer='rmsprop', metrics=['accuracy'])\n",
    "    return model\n"
   ]
  },
  {
   "cell_type": "code",
   "execution_count": 9,
   "metadata": {},
   "outputs": [],
   "source": [
    "def train_sinus(model, dataX, dataY, epoch_count):\n",
    "    history = model.fit(dataX, dataY, batch_size=1, nb_epoch = epoch_count, validation_split=0.05)   "
   ]
  },
  {
   "cell_type": "code",
   "execution_count": 10,
   "metadata": {},
   "outputs": [],
   "source": [
    "def test_sinus():\n",
    "    t = np.arande(0.0, 4.0, 0.02)\n",
    "    sinus = np.sin(2*np.pi*t)\n",
    "    sinus = sinus.reshape((sinus.shape[0],1))\n",
    "    n_pre = 50\n",
    "    n_post = 10 \n",
    "    \n",
    "    dX, dY = [], []\n",
    "    for i in range(len(sinus)-n_pre-n_post):\n",
    "        dX.append(sinus[i:i+n_pre])\n",
    "        dY.append(sinus[i+pre:i+n_pre+n_post])\n",
    "    dataX = np.array(dX)\n",
    "    dataY = np.array(dY)\n",
    "    \n",
    "    print('creating model ...')\n",
    "    \n",
    "    model = create_model(n_pre, n_post, 1)\n",
    "    train_sinus(model, dataX, dataY, EPOCHS)\n",
    "    \n",
    "    t = np.arange(15.0, 19.0, 0.02)\n",
    "    sinus = np.sin(2*np.pi*t)\n",
    "    sinus = np.sin(2 * np.pi * t)\n",
    "    sinus = sinus.reshape((sinus.shape[0], 1))\n",
    "    \n",
    "    dX, dY = [], []\n",
    "    for i in range(len(sinus)-n_pre-n_post):\n",
    "        dX.append(sinus[i:i+n_pre])\n",
    "        dY.append(sinus[i+n_pre:i+n_pre+n_post])\n",
    "    dataX = np.array(dX)\n",
    "    dataY = np.array(dY)\n",
    "    \n",
    "    predict = model.predict(dataX)\n",
    "    \n",
    "    # now plot\n",
    "    nan_array = np.empty((n_pre - 1))\n",
    "    nan_array.fill(np.nan)\n",
    "    nan_array2 = np.empty(n_post)\n",
    "    nan_array2.fill(np.nan)\n",
    "    ind = np.arange(n_pre + n_post)\n",
    "\n",
    "    fig, ax = plt.subplots()\n",
    "    for i in range(0, 50, 50):\n",
    "\n",
    "        forecasts = np.concatenate((nan_array, dataX[i, -1:, 0], predict[i, :, 0]))\n",
    "        ground_truth = np.concatenate((nan_array, dataX[i, -1:, 0], dataY[i, :, 0]))\n",
    "        network_input = np.concatenate((dataX[i, :, 0], nan_array2))\n",
    "     \n",
    "        ax.plot(ind, network_input, 'b-x', label='Network input')\n",
    "        ax.plot(ind, forecasts, 'r-x', label='Many to many model forecast')\n",
    "        ax.plot(ind, ground_truth, 'g-x', label = 'Ground truth')\n",
    "        \n",
    "        plt.xlabel('t')\n",
    "        plt.ylabel('sin(t)')\n",
    "        plt.title('Sinus Many to Many Forecast')\n",
    "        plt.legend(loc='best')\n",
    "        plt.savefig('test_sinus/plot_mtm_triple_' + str(i) + '.png')\n",
    "        plt.cla()\n",
    "    "
   ]
  },
  {
   "cell_type": "code",
   "execution_count": 14,
   "metadata": {},
   "outputs": [
    {
     "ename": "AttributeError",
     "evalue": "module 'numpy' has no attribute 'arande'",
     "output_type": "error",
     "traceback": [
      "\u001b[1;31m---------------------------------------------------------------------------\u001b[0m",
      "\u001b[1;31mAttributeError\u001b[0m                            Traceback (most recent call last)",
      "\u001b[1;32m<ipython-input-14-16653f0b768f>\u001b[0m in \u001b[0;36m<module>\u001b[1;34m\u001b[0m\n\u001b[0;32m      4\u001b[0m \u001b[1;32mimport\u001b[0m \u001b[0msys\u001b[0m\u001b[1;33m\u001b[0m\u001b[1;33m\u001b[0m\u001b[0m\n\u001b[0;32m      5\u001b[0m \u001b[1;32mif\u001b[0m \u001b[0m__name__\u001b[0m \u001b[1;33m==\u001b[0m \u001b[1;34m\"__main__\"\u001b[0m\u001b[1;33m:\u001b[0m\u001b[1;33m\u001b[0m\u001b[1;33m\u001b[0m\u001b[0m\n\u001b[1;32m----> 6\u001b[1;33m     \u001b[0msys\u001b[0m\u001b[1;33m.\u001b[0m\u001b[0mexit\u001b[0m\u001b[1;33m(\u001b[0m\u001b[0mmain\u001b[0m\u001b[1;33m(\u001b[0m\u001b[1;33m)\u001b[0m\u001b[1;33m)\u001b[0m\u001b[1;33m\u001b[0m\u001b[1;33m\u001b[0m\u001b[0m\n\u001b[0m",
      "\u001b[1;32m<ipython-input-14-16653f0b768f>\u001b[0m in \u001b[0;36mmain\u001b[1;34m()\u001b[0m\n\u001b[0;32m      1\u001b[0m \u001b[1;32mdef\u001b[0m \u001b[0mmain\u001b[0m\u001b[1;33m(\u001b[0m\u001b[1;33m)\u001b[0m\u001b[1;33m:\u001b[0m\u001b[1;33m\u001b[0m\u001b[1;33m\u001b[0m\u001b[0m\n\u001b[1;32m----> 2\u001b[1;33m     \u001b[0mtest_sinus\u001b[0m\u001b[1;33m(\u001b[0m\u001b[1;33m)\u001b[0m\u001b[1;33m\u001b[0m\u001b[1;33m\u001b[0m\u001b[0m\n\u001b[0m\u001b[0;32m      3\u001b[0m     \u001b[1;32mreturn\u001b[0m \u001b[1;36m1\u001b[0m\u001b[1;33m\u001b[0m\u001b[1;33m\u001b[0m\u001b[0m\n\u001b[0;32m      4\u001b[0m \u001b[1;32mimport\u001b[0m \u001b[0msys\u001b[0m\u001b[1;33m\u001b[0m\u001b[1;33m\u001b[0m\u001b[0m\n\u001b[0;32m      5\u001b[0m \u001b[1;32mif\u001b[0m \u001b[0m__name__\u001b[0m \u001b[1;33m==\u001b[0m \u001b[1;34m\"__main__\"\u001b[0m\u001b[1;33m:\u001b[0m\u001b[1;33m\u001b[0m\u001b[1;33m\u001b[0m\u001b[0m\n",
      "\u001b[1;32m<ipython-input-10-368979227be1>\u001b[0m in \u001b[0;36mtest_sinus\u001b[1;34m()\u001b[0m\n\u001b[0;32m      1\u001b[0m \u001b[1;32mdef\u001b[0m \u001b[0mtest_sinus\u001b[0m\u001b[1;33m(\u001b[0m\u001b[1;33m)\u001b[0m\u001b[1;33m:\u001b[0m\u001b[1;33m\u001b[0m\u001b[1;33m\u001b[0m\u001b[0m\n\u001b[1;32m----> 2\u001b[1;33m     \u001b[0mt\u001b[0m \u001b[1;33m=\u001b[0m \u001b[0mnp\u001b[0m\u001b[1;33m.\u001b[0m\u001b[0marande\u001b[0m\u001b[1;33m(\u001b[0m\u001b[1;36m0.0\u001b[0m\u001b[1;33m,\u001b[0m \u001b[1;36m4.0\u001b[0m\u001b[1;33m,\u001b[0m \u001b[1;36m0.02\u001b[0m\u001b[1;33m)\u001b[0m\u001b[1;33m\u001b[0m\u001b[1;33m\u001b[0m\u001b[0m\n\u001b[0m\u001b[0;32m      3\u001b[0m     \u001b[0msinus\u001b[0m \u001b[1;33m=\u001b[0m \u001b[0mnp\u001b[0m\u001b[1;33m.\u001b[0m\u001b[0msin\u001b[0m\u001b[1;33m(\u001b[0m\u001b[1;36m2\u001b[0m\u001b[1;33m*\u001b[0m\u001b[0mnp\u001b[0m\u001b[1;33m.\u001b[0m\u001b[0mpi\u001b[0m\u001b[1;33m*\u001b[0m\u001b[0mt\u001b[0m\u001b[1;33m)\u001b[0m\u001b[1;33m\u001b[0m\u001b[1;33m\u001b[0m\u001b[0m\n\u001b[0;32m      4\u001b[0m     \u001b[0msinus\u001b[0m \u001b[1;33m=\u001b[0m \u001b[0msinus\u001b[0m\u001b[1;33m.\u001b[0m\u001b[0mreshape\u001b[0m\u001b[1;33m(\u001b[0m\u001b[1;33m(\u001b[0m\u001b[0msinus\u001b[0m\u001b[1;33m.\u001b[0m\u001b[0mshape\u001b[0m\u001b[1;33m[\u001b[0m\u001b[1;36m0\u001b[0m\u001b[1;33m]\u001b[0m\u001b[1;33m,\u001b[0m\u001b[1;36m1\u001b[0m\u001b[1;33m)\u001b[0m\u001b[1;33m)\u001b[0m\u001b[1;33m\u001b[0m\u001b[1;33m\u001b[0m\u001b[0m\n\u001b[0;32m      5\u001b[0m     \u001b[0mn_pre\u001b[0m \u001b[1;33m=\u001b[0m \u001b[1;36m50\u001b[0m\u001b[1;33m\u001b[0m\u001b[1;33m\u001b[0m\u001b[0m\n",
      "\u001b[1;32mD:\\Anaconda3\\envs\\tf\\lib\\site-packages\\numpy\\__init__.py\u001b[0m in \u001b[0;36m__getattr__\u001b[1;34m(attr)\u001b[0m\n\u001b[0;32m    218\u001b[0m             \u001b[1;32melse\u001b[0m\u001b[1;33m:\u001b[0m\u001b[1;33m\u001b[0m\u001b[1;33m\u001b[0m\u001b[0m\n\u001b[0;32m    219\u001b[0m                 raise AttributeError(\"module {!r} has no attribute \"\n\u001b[1;32m--> 220\u001b[1;33m                                      \"{!r}\".format(__name__, attr))\n\u001b[0m\u001b[0;32m    221\u001b[0m \u001b[1;33m\u001b[0m\u001b[0m\n\u001b[0;32m    222\u001b[0m         \u001b[1;32mdef\u001b[0m \u001b[0m__dir__\u001b[0m\u001b[1;33m(\u001b[0m\u001b[1;33m)\u001b[0m\u001b[1;33m:\u001b[0m\u001b[1;33m\u001b[0m\u001b[1;33m\u001b[0m\u001b[0m\n",
      "\u001b[1;31mAttributeError\u001b[0m: module 'numpy' has no attribute 'arande'"
     ]
    }
   ],
   "source": [
    "def main():\n",
    "    test_sinus()\n",
    "    return 1\n",
    "import sys\n",
    "if __name__ == \"__main__\":\n",
    "    sys.exit(main())\n"
   ]
  },
  {
   "cell_type": "code",
   "execution_count": 16,
   "metadata": {},
   "outputs": [
    {
     "name": "stdout",
     "output_type": "stream",
     "text": [
      "creating model...\n"
     ]
    },
    {
     "name": "stderr",
     "output_type": "stream",
     "text": [
      "D:\\Anaconda3\\envs\\tf\\lib\\site-packages\\ipykernel_launcher.py:25: UserWarning: The `input_dim` and `input_length` arguments in recurrent layers are deprecated. Use `input_shape` instead.\n",
      "D:\\Anaconda3\\envs\\tf\\lib\\site-packages\\ipykernel_launcher.py:25: UserWarning: Update your `LSTM` call to the Keras 2 API: `LSTM(return_sequences=False, input_shape=(None, 1), units=300)`\n",
      "D:\\Anaconda3\\envs\\tf\\lib\\site-packages\\ipykernel_launcher.py:27: UserWarning: Update your `LSTM` call to the Keras 2 API: `LSTM(return_sequences=True, units=300)`\n",
      "D:\\Anaconda3\\envs\\tf\\lib\\site-packages\\ipykernel_launcher.py:39: UserWarning: The `nb_epoch` argument in `fit` has been renamed `epochs`.\n"
     ]
    },
    {
     "name": "stdout",
     "output_type": "stream",
     "text": [
      "Train on 133 samples, validate on 7 samples\n",
      "Epoch 1/10\n",
      "133/133 [==============================] - 76s 573ms/step - loss: 0.1453 - accuracy: 0.0000e+00 - val_loss: 0.0173 - val_accuracy: 0.0000e+00\n",
      "Epoch 2/10\n",
      "133/133 [==============================] - 9s 69ms/step - loss: 0.0564 - accuracy: 0.0000e+00 - val_loss: 0.0201 - val_accuracy: 0.0000e+00\n",
      "Epoch 3/10\n",
      "133/133 [==============================] - 10s 75ms/step - loss: 0.0333 - accuracy: 0.0000e+00 - val_loss: 0.0240 - val_accuracy: 0.0000e+00\n",
      "Epoch 4/10\n",
      "133/133 [==============================] - 9s 70ms/step - loss: 0.0231 - accuracy: 0.0000e+00 - val_loss: 0.0021 - val_accuracy: 0.0000e+00\n",
      "Epoch 5/10\n",
      "133/133 [==============================] - 9s 67ms/step - loss: 0.0212 - accuracy: 0.0000e+00 - val_loss: 0.0012 - val_accuracy: 0.0000e+00\n",
      "Epoch 6/10\n",
      "133/133 [==============================] - 9s 68ms/step - loss: 0.0164 - accuracy: 0.0000e+00 - val_loss: 0.0083 - val_accuracy: 0.0000e+00\n",
      "Epoch 7/10\n",
      "133/133 [==============================] - 9s 66ms/step - loss: 0.0133 - accuracy: 0.0000e+00 - val_loss: 0.0045 - val_accuracy: 0.0000e+00\n",
      "Epoch 8/10\n",
      "133/133 [==============================] - 9s 67ms/step - loss: 0.0133 - accuracy: 0.0000e+00 - val_loss: 0.0602 - val_accuracy: 0.0000e+00\n",
      "Epoch 9/10\n",
      "133/133 [==============================] - 9s 68ms/step - loss: 0.0117 - accuracy: 0.0000e+00 - val_loss: 0.0031 - val_accuracy: 0.0000e+00\n",
      "Epoch 10/10\n",
      "133/133 [==============================] - 10s 72ms/step - loss: 0.0101 - accuracy: 0.0000e+00 - val_loss: 0.0072 - val_accuracy: 0.0000e+00\n"
     ]
    },
    {
     "ename": "SystemExit",
     "evalue": "1",
     "output_type": "error",
     "traceback": [
      "An exception has occurred, use %tb to see the full traceback.\n",
      "\u001b[1;31mSystemExit\u001b[0m\u001b[1;31m:\u001b[0m 1\n"
     ]
    },
    {
     "name": "stderr",
     "output_type": "stream",
     "text": [
      "D:\\Anaconda3\\envs\\tf\\lib\\site-packages\\IPython\\core\\interactiveshell.py:3339: UserWarning: To exit: use 'exit', 'quit', or Ctrl-D.\n",
      "  warn(\"To exit: use 'exit', 'quit', or Ctrl-D.\", stacklevel=1)\n"
     ]
    }
   ],
   "source": [
    "from attrdict import AttrDict\n",
    "from keras.models import load_model\n",
    "import numpy as np\n",
    "import matplotlib.pyplot as plt\n",
    "\n",
    "from keras.models import Sequential\n",
    "from keras.layers import Dense, Activation, LSTM, Dropout, RepeatVector, TimeDistributed\n",
    "\n",
    "EPOCHS = 10\n",
    "\n",
    "def create_model(steps_before, steps_after, feature_count):\n",
    "    \"\"\" \n",
    "        creates, compiles and returns a RNN model \n",
    "        @param steps_before: the number of previous time steps (input)\n",
    "        @param steps_after: the number of posterior time steps (output or predictions)\n",
    "        @param feature_count: the number of features in the model\n",
    "        @param hidden_neurons: the number of hidden neurons per LSTM layer\n",
    "    \"\"\"\n",
    "    DROPOUT = 0.5\n",
    "    LAYERS = 2\n",
    "    \n",
    "    hidden_neurons = 300\n",
    "\n",
    "    model = Sequential()\n",
    "    model.add(LSTM(input_dim=feature_count, output_dim=hidden_neurons, return_sequences=False))\n",
    "    model.add(RepeatVector(steps_after))\n",
    "    model.add(LSTM(output_dim=hidden_neurons, return_sequences=True))\n",
    "    model.add(TimeDistributed(Dense(feature_count)))\n",
    "    model.add(Activation('linear'))  \n",
    "    \n",
    "    model.compile(loss='mean_squared_error', optimizer='rmsprop', metrics=['accuracy'])  \n",
    "    return model\n",
    "\n",
    "\n",
    "def train_sinus(model, dataX, dataY, epoch_count):\n",
    "    \"\"\" \n",
    "        trains only the sinus model\n",
    "    \"\"\"\n",
    "    history = model.fit(dataX, dataY, batch_size=1, nb_epoch=epoch_count, validation_split=0.05)\n",
    "\n",
    "def test_sinus():\n",
    "    ''' \n",
    "        testing how well the network can predict\n",
    "        a simple sinus wave.\n",
    "    '''\n",
    "    t = np.arange(0.0, 4.0, 0.02)\n",
    "    sinus = np.sin(2 * np.pi * t)\n",
    "    sinus = sinus.reshape((sinus.shape[0], 1))\n",
    "    n_pre = 50\n",
    "    n_post = 10\n",
    "    \n",
    "    dX, dY = [], []\n",
    "    for i in range(len(sinus)-n_pre-n_post):\n",
    "        dX.append(sinus[i:i+n_pre])\n",
    "        dY.append(sinus[i+n_pre:i+n_pre+n_post])\n",
    "        #dY.append(sinus[i+n_pre])\n",
    "    dataX = np.array(dX)\n",
    "    dataY = np.array(dY)\n",
    "\n",
    "    # create and fit the LSTM network\n",
    "    print('creating model...')\n",
    "    model = create_model(n_pre, n_post, 1)\n",
    "    train_sinus(model, dataX, dataY, EPOCHS)\n",
    "    \n",
    "    # now test\n",
    "    t = np.arange(15.0, 19.0, 0.02)\n",
    "    sinus = np.sin(2 * np.pi * t)\n",
    "    sinus = sinus.reshape((sinus.shape[0], 1))\n",
    "    \n",
    "    dX, dY = [], []\n",
    "    for i in range(len(sinus)-n_pre-n_post):\n",
    "        dX.append(sinus[i:i+n_pre])\n",
    "        dY.append(sinus[i+n_pre:i+n_pre+n_post])\n",
    "    dataX = np.array(dX)\n",
    "    dataY = np.array(dY)\n",
    "    \n",
    "    predict = model.predict(dataX)\n",
    "    \n",
    "    # now plot\n",
    "    nan_array = np.empty((n_pre - 1))\n",
    "    nan_array.fill(np.nan)\n",
    "    nan_array2 = np.empty(n_post)\n",
    "    nan_array2.fill(np.nan)\n",
    "    ind = np.arange(n_pre + n_post)\n",
    "\n",
    "#     fig, ax = plt.subplots()\n",
    "#     for i in range(0, 50, 50):\n",
    "\n",
    "#         forecasts = np.concatenate((nan_array, dataX[i, -1:, 0], predict[i, :, 0]))\n",
    "#         ground_truth = np.concatenate((nan_array, dataX[i, -1:, 0], dataY[i, :, 0]))\n",
    "#         network_input = np.concatenate((dataX[i, :, 0], nan_array2))\n",
    "     \n",
    "#         ax.plot(ind, network_input, 'b-x', label='Network input')\n",
    "#         ax.plot(ind, forecasts, 'r-x', label='Many to many model forecast')\n",
    "#         ax.plot(ind, ground_truth, 'g-x', label = 'Ground truth')\n",
    "        \n",
    "#         plt.xlabel('t')\n",
    "#         plt.ylabel('sin(t)')\n",
    "#         plt.title('Sinus Many to Many Forecast')\n",
    "#         plt.legend(loc='best')\n",
    "#         plt.savefig('test_sinus/plot_mtm_triple_' + str(i) + '.png')\n",
    "#         plt.cla()\n",
    "\n",
    "def main():\n",
    "    test_sinus()\n",
    "    return 1\n",
    "\n",
    "if __name__ == \"__main__\":\n",
    "    sys.exit(main())\n"
   ]
  },
  {
   "cell_type": "code",
   "execution_count": null,
   "metadata": {},
   "outputs": [],
   "source": []
  }
 ],
 "metadata": {
  "kernelspec": {
   "display_name": "Python 3",
   "language": "python",
   "name": "python3"
  },
  "language_info": {
   "codemirror_mode": {
    "name": "ipython",
    "version": 3
   },
   "file_extension": ".py",
   "mimetype": "text/x-python",
   "name": "python",
   "nbconvert_exporter": "python",
   "pygments_lexer": "ipython3",
   "version": "3.7.7"
  }
 },
 "nbformat": 4,
 "nbformat_minor": 4
}
