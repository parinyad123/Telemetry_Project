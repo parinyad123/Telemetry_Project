{
 "cells": [
  {
   "cell_type": "code",
   "execution_count": 1,
   "metadata": {},
   "outputs": [
    {
     "name": "stderr",
     "output_type": "stream",
     "text": [
      "Using TensorFlow backend.\n"
     ]
    }
   ],
   "source": [
    "import numpy as np\n",
    "import matplotlib.pyplot as plt\n",
    "import pandas as pd\n",
    "from keras.models import Sequential\n",
    "from keras.layers import Dense"
   ]
  },
  {
   "cell_type": "markdown",
   "metadata": {},
   "source": [
    "# load the dataset"
   ]
  },
  {
   "cell_type": "code",
   "execution_count": 3,
   "metadata": {},
   "outputs": [
    {
     "data": {
      "text/html": [
       "<div>\n",
       "<style scoped>\n",
       "    .dataframe tbody tr th:only-of-type {\n",
       "        vertical-align: middle;\n",
       "    }\n",
       "\n",
       "    .dataframe tbody tr th {\n",
       "        vertical-align: top;\n",
       "    }\n",
       "\n",
       "    .dataframe thead th {\n",
       "        text-align: right;\n",
       "    }\n",
       "</style>\n",
       "<table border=\"1\" class=\"dataframe\">\n",
       "  <thead>\n",
       "    <tr style=\"text-align: right;\">\n",
       "      <th></th>\n",
       "      <th>Passengers</th>\n",
       "    </tr>\n",
       "  </thead>\n",
       "  <tbody>\n",
       "    <tr>\n",
       "      <th>0</th>\n",
       "      <td>112</td>\n",
       "    </tr>\n",
       "    <tr>\n",
       "      <th>1</th>\n",
       "      <td>118</td>\n",
       "    </tr>\n",
       "    <tr>\n",
       "      <th>2</th>\n",
       "      <td>132</td>\n",
       "    </tr>\n",
       "    <tr>\n",
       "      <th>3</th>\n",
       "      <td>129</td>\n",
       "    </tr>\n",
       "    <tr>\n",
       "      <th>4</th>\n",
       "      <td>121</td>\n",
       "    </tr>\n",
       "  </tbody>\n",
       "</table>\n",
       "</div>"
      ],
      "text/plain": [
       "   Passengers\n",
       "0         112\n",
       "1         118\n",
       "2         132\n",
       "3         129\n",
       "4         121"
      ]
     },
     "execution_count": 3,
     "metadata": {},
     "output_type": "execute_result"
    }
   ],
   "source": [
    "# load the dataset\n",
    "url = 'https://raw.githubusercontent.com/jbrownlee/Datasets/master/airline-passengers.csv'\n",
    "df = pd.read_csv(url, usecols=[1], engine='python')\n",
    "df.head()"
   ]
  },
  {
   "cell_type": "code",
   "execution_count": 8,
   "metadata": {},
   "outputs": [
    {
     "data": {
      "text/plain": [
       "array([[118],\n",
       "       [132],\n",
       "       [129],\n",
       "       [121],\n",
       "       [135],\n",
       "       [148],\n",
       "       [148],\n",
       "       [136],\n",
       "       [119]], dtype=int64)"
      ]
     },
     "execution_count": 8,
     "metadata": {},
     "output_type": "execute_result"
    }
   ],
   "source": [
    "dataset = df.values\n",
    "dataset[1:10]"
   ]
  },
  {
   "cell_type": "code",
   "execution_count": 11,
   "metadata": {},
   "outputs": [
    {
     "data": {
      "text/plain": [
       "array([[112.],\n",
       "       [118.],\n",
       "       [132.],\n",
       "       [129.],\n",
       "       [121.],\n",
       "       [135.],\n",
       "       [148.],\n",
       "       [148.],\n",
       "       [136.]], dtype=float32)"
      ]
     },
     "execution_count": 11,
     "metadata": {},
     "output_type": "execute_result"
    }
   ],
   "source": [
    "dataset = dataset.astype('float32')\n",
    "dataset[0:9]"
   ]
  },
  {
   "cell_type": "markdown",
   "metadata": {},
   "source": [
    "# split into train and test sets"
   ]
  },
  {
   "cell_type": "code",
   "execution_count": 12,
   "metadata": {},
   "outputs": [
    {
     "name": "stdout",
     "output_type": "stream",
     "text": [
      "96 48\n"
     ]
    }
   ],
   "source": [
    "train_size = int(len(dataset)*0.67)\n",
    "test_size = len(dataset) - train_size\n",
    "train, test =dataset[0:train_size,:], dataset[train_size:len(dataset),:]\n",
    "print(len(train), len(test))"
   ]
  },
  {
   "cell_type": "markdown",
   "metadata": {},
   "source": [
    "# convert an array of values into a dataset matrix"
   ]
  },
  {
   "cell_type": "code",
   "execution_count": 13,
   "metadata": {},
   "outputs": [],
   "source": [
    "def create_dataset(dataset, look_back=1):\n",
    "    dataX, dataY = [],[]\n",
    "    for i in range(len(dataset)-look_back-1):\n",
    "        a=dataset[i:(i+look_back),0]\n",
    "        dataX.append(a)\n",
    "        dataY.append(dataset[i+look_back,0])\n",
    "    return np.array(dataX), np.array(dataY)"
   ]
  },
  {
   "cell_type": "markdown",
   "metadata": {},
   "source": [
    "# reshape into X=t and Y=t+1"
   ]
  },
  {
   "cell_type": "code",
   "execution_count": 15,
   "metadata": {},
   "outputs": [],
   "source": [
    "look_back =1\n",
    "trainX, trainY = create_dataset(train, look_back)\n",
    "testX, testY = create_dataset(test, look_back)"
   ]
  },
  {
   "cell_type": "code",
   "execution_count": 18,
   "metadata": {},
   "outputs": [
    {
     "data": {
      "text/plain": [
       "(array([[112.],\n",
       "        [118.],\n",
       "        [132.]], dtype=float32),\n",
       " array([[315.],\n",
       "        [301.],\n",
       "        [356.]], dtype=float32))"
      ]
     },
     "execution_count": 18,
     "metadata": {},
     "output_type": "execute_result"
    }
   ],
   "source": [
    "trainX[0:3], testX[0:3]"
   ]
  },
  {
   "cell_type": "code",
   "execution_count": 20,
   "metadata": {},
   "outputs": [
    {
     "name": "stdout",
     "output_type": "stream",
     "text": [
      "94 94 46 46\n"
     ]
    }
   ],
   "source": [
    "print(len(trainX), len(trainY), len(testX), len(testY))"
   ]
  },
  {
   "cell_type": "markdown",
   "metadata": {},
   "source": [
    "# create and fit Multilayer Perceptron model"
   ]
  },
  {
   "cell_type": "code",
   "execution_count": 21,
   "metadata": {},
   "outputs": [
    {
     "name": "stdout",
     "output_type": "stream",
     "text": [
      "Epoch 1/200\n",
      " - 0s - loss: 30986.8533\n",
      "Epoch 2/200\n",
      " - 0s - loss: 26049.5475\n",
      "Epoch 3/200\n",
      " - 0s - loss: 20978.6420\n",
      "Epoch 4/200\n",
      " - 0s - loss: 16169.9322\n",
      "Epoch 5/200\n",
      " - 0s - loss: 11809.4856\n",
      "Epoch 6/200\n",
      " - 0s - loss: 8142.5105\n",
      "Epoch 7/200\n",
      " - 0s - loss: 5320.7452\n",
      "Epoch 8/200\n",
      " - 0s - loss: 3296.8218\n",
      "Epoch 9/200\n",
      " - 0s - loss: 1999.1862\n",
      "Epoch 10/200\n",
      " - 0s - loss: 1253.6703\n",
      "Epoch 11/200\n",
      " - 0s - loss: 850.5475\n",
      "Epoch 12/200\n",
      " - 0s - loss: 666.6775\n",
      "Epoch 13/200\n",
      " - 0s - loss: 582.5231\n",
      "Epoch 14/200\n",
      " - 0s - loss: 552.5189\n",
      "Epoch 15/200\n",
      " - 0s - loss: 540.6094\n",
      "Epoch 16/200\n",
      " - 0s - loss: 537.9033\n",
      "Epoch 17/200\n",
      " - 0s - loss: 537.0281\n",
      "Epoch 18/200\n",
      " - 0s - loss: 536.1829\n",
      "Epoch 19/200\n",
      " - 0s - loss: 536.7046\n",
      "Epoch 20/200\n",
      " - 0s - loss: 536.5859\n",
      "Epoch 21/200\n",
      " - 0s - loss: 538.8721\n",
      "Epoch 22/200\n",
      " - 0s - loss: 542.3136\n",
      "Epoch 23/200\n",
      " - 0s - loss: 538.8932\n",
      "Epoch 24/200\n",
      " - 0s - loss: 535.4756\n",
      "Epoch 25/200\n",
      " - 0s - loss: 538.2984\n",
      "Epoch 26/200\n",
      " - 0s - loss: 539.2686\n",
      "Epoch 27/200\n",
      " - 0s - loss: 540.3047\n",
      "Epoch 28/200\n",
      " - 0s - loss: 542.8011\n",
      "Epoch 29/200\n",
      " - 0s - loss: 541.6512\n",
      "Epoch 30/200\n",
      " - 0s - loss: 539.3613\n",
      "Epoch 31/200\n",
      " - 0s - loss: 539.6950\n",
      "Epoch 32/200\n",
      " - 0s - loss: 539.7780\n",
      "Epoch 33/200\n",
      " - 0s - loss: 536.5258\n",
      "Epoch 34/200\n",
      " - 0s - loss: 536.3797\n",
      "Epoch 35/200\n",
      " - 0s - loss: 539.0420\n",
      "Epoch 36/200\n",
      " - 0s - loss: 539.0641\n",
      "Epoch 37/200\n",
      " - 0s - loss: 538.0181\n",
      "Epoch 38/200\n",
      " - 0s - loss: 535.6540\n",
      "Epoch 39/200\n",
      " - 0s - loss: 537.4511\n",
      "Epoch 40/200\n",
      " - 0s - loss: 537.8904\n",
      "Epoch 41/200\n",
      " - 0s - loss: 546.3056\n",
      "Epoch 42/200\n",
      " - 0s - loss: 538.1712\n",
      "Epoch 43/200\n",
      " - 0s - loss: 536.5409\n",
      "Epoch 44/200\n",
      " - 0s - loss: 545.0236\n",
      "Epoch 45/200\n",
      " - 0s - loss: 537.9033\n",
      "Epoch 46/200\n",
      " - 0s - loss: 539.3734\n",
      "Epoch 47/200\n",
      " - 0s - loss: 540.0159\n",
      "Epoch 48/200\n",
      " - 0s - loss: 537.5317\n",
      "Epoch 49/200\n",
      " - 0s - loss: 545.6145\n",
      "Epoch 50/200\n",
      " - 0s - loss: 543.1430\n",
      "Epoch 51/200\n",
      " - 0s - loss: 538.5616\n",
      "Epoch 52/200\n",
      " - 0s - loss: 538.4007\n",
      "Epoch 53/200\n",
      " - 0s - loss: 552.5513\n",
      "Epoch 54/200\n",
      " - 0s - loss: 538.1181\n",
      "Epoch 55/200\n",
      " - 0s - loss: 540.9898\n",
      "Epoch 56/200\n",
      " - 0s - loss: 543.2971\n",
      "Epoch 57/200\n",
      " - 0s - loss: 546.7591\n",
      "Epoch 58/200\n",
      " - 0s - loss: 539.7598\n",
      "Epoch 59/200\n",
      " - 0s - loss: 540.3453\n",
      "Epoch 60/200\n",
      " - 0s - loss: 542.6621\n",
      "Epoch 61/200\n",
      " - 0s - loss: 538.4934\n",
      "Epoch 62/200\n",
      " - 0s - loss: 537.9651\n",
      "Epoch 63/200\n",
      " - 0s - loss: 547.0305\n",
      "Epoch 64/200\n",
      " - 0s - loss: 540.9021\n",
      "Epoch 65/200\n",
      " - 0s - loss: 540.4655\n",
      "Epoch 66/200\n",
      " - 0s - loss: 539.7644\n",
      "Epoch 67/200\n",
      " - 0s - loss: 541.1635\n",
      "Epoch 68/200\n",
      " - 0s - loss: 537.9542\n",
      "Epoch 69/200\n",
      " - 0s - loss: 548.6314\n",
      "Epoch 70/200\n",
      " - 0s - loss: 533.1423\n",
      "Epoch 71/200\n",
      " - 0s - loss: 539.6900\n",
      "Epoch 72/200\n",
      " - 0s - loss: 535.1768\n",
      "Epoch 73/200\n",
      " - 0s - loss: 537.2891\n",
      "Epoch 74/200\n",
      " - 0s - loss: 543.2269\n",
      "Epoch 75/200\n",
      " - 0s - loss: 537.6972\n",
      "Epoch 76/200\n",
      " - 0s - loss: 544.5241\n",
      "Epoch 77/200\n",
      " - 0s - loss: 540.0443\n",
      "Epoch 78/200\n",
      " - 0s - loss: 540.0190\n",
      "Epoch 79/200\n",
      " - 0s - loss: 537.0244\n",
      "Epoch 80/200\n",
      " - 0s - loss: 544.4136\n",
      "Epoch 81/200\n",
      " - 0s - loss: 544.7444\n",
      "Epoch 82/200\n",
      " - 0s - loss: 541.5329\n",
      "Epoch 83/200\n",
      " - 0s - loss: 538.3655\n",
      "Epoch 84/200\n",
      " - 0s - loss: 537.0550\n",
      "Epoch 85/200\n",
      " - 0s - loss: 535.4125\n",
      "Epoch 86/200\n",
      " - 0s - loss: 535.9965\n",
      "Epoch 87/200\n",
      " - 0s - loss: 542.1804\n",
      "Epoch 88/200\n",
      " - 0s - loss: 543.6802\n",
      "Epoch 89/200\n",
      " - 0s - loss: 538.1206\n",
      "Epoch 90/200\n",
      " - 0s - loss: 538.3529\n",
      "Epoch 91/200\n",
      " - 0s - loss: 539.5201\n",
      "Epoch 92/200\n",
      " - 0s - loss: 548.0739\n",
      "Epoch 93/200\n",
      " - 0s - loss: 543.4458\n",
      "Epoch 94/200\n",
      " - 0s - loss: 549.8751\n",
      "Epoch 95/200\n",
      " - 0s - loss: 534.9013\n",
      "Epoch 96/200\n",
      " - 0s - loss: 541.8783\n",
      "Epoch 97/200\n",
      " - 0s - loss: 538.8640\n",
      "Epoch 98/200\n",
      " - 0s - loss: 547.3562\n",
      "Epoch 99/200\n",
      " - 0s - loss: 536.9820\n",
      "Epoch 100/200\n",
      " - 0s - loss: 534.9681\n",
      "Epoch 101/200\n",
      " - 0s - loss: 535.6576\n",
      "Epoch 102/200\n",
      " - 0s - loss: 537.1936\n",
      "Epoch 103/200\n",
      " - 0s - loss: 544.7678\n",
      "Epoch 104/200\n",
      " - 0s - loss: 539.1897\n",
      "Epoch 105/200\n",
      " - 0s - loss: 538.4430\n",
      "Epoch 106/200\n",
      " - 0s - loss: 541.4610\n",
      "Epoch 107/200\n",
      " - 0s - loss: 538.4596\n",
      "Epoch 108/200\n",
      " - 0s - loss: 536.8855\n",
      "Epoch 109/200\n",
      " - 0s - loss: 540.5539\n",
      "Epoch 110/200\n",
      " - 0s - loss: 540.4980\n",
      "Epoch 111/200\n",
      " - 0s - loss: 544.0753\n",
      "Epoch 112/200\n",
      " - 0s - loss: 539.7005\n",
      "Epoch 113/200\n",
      " - 0s - loss: 554.3354\n",
      "Epoch 114/200\n",
      " - 0s - loss: 542.3833\n",
      "Epoch 115/200\n",
      " - 0s - loss: 542.8722\n",
      "Epoch 116/200\n",
      " - 0s - loss: 543.1477\n",
      "Epoch 117/200\n",
      " - 0s - loss: 542.1873\n",
      "Epoch 118/200\n",
      " - 0s - loss: 548.3684\n",
      "Epoch 119/200\n",
      " - 0s - loss: 540.1040\n",
      "Epoch 120/200\n",
      " - 0s - loss: 538.7853\n",
      "Epoch 121/200\n",
      " - 0s - loss: 536.2286\n",
      "Epoch 122/200\n",
      " - 0s - loss: 534.8379\n",
      "Epoch 123/200\n",
      " - 0s - loss: 539.1141\n",
      "Epoch 124/200\n",
      " - 0s - loss: 539.3913\n",
      "Epoch 125/200\n",
      " - 0s - loss: 538.8283\n",
      "Epoch 126/200\n",
      " - 0s - loss: 537.7169\n",
      "Epoch 127/200\n",
      " - 0s - loss: 537.9288\n",
      "Epoch 128/200\n",
      " - 0s - loss: 540.6752\n",
      "Epoch 129/200\n",
      " - 0s - loss: 541.4353\n",
      "Epoch 130/200\n",
      " - 0s - loss: 540.3127\n",
      "Epoch 131/200\n",
      " - 0s - loss: 539.6661\n",
      "Epoch 132/200\n",
      " - 0s - loss: 532.7669\n",
      "Epoch 133/200\n",
      " - 0s - loss: 538.5447\n",
      "Epoch 134/200\n",
      " - 0s - loss: 545.4584\n",
      "Epoch 135/200\n",
      " - 0s - loss: 538.8967\n",
      "Epoch 136/200\n",
      " - 0s - loss: 537.8123\n",
      "Epoch 137/200\n",
      " - 0s - loss: 540.4095\n",
      "Epoch 138/200\n",
      " - 0s - loss: 535.2927\n",
      "Epoch 139/200\n",
      " - 0s - loss: 536.2504\n",
      "Epoch 140/200\n",
      " - 0s - loss: 540.7212\n",
      "Epoch 141/200\n",
      " - 0s - loss: 537.3882\n",
      "Epoch 142/200\n",
      " - 0s - loss: 539.1514\n",
      "Epoch 143/200\n",
      " - 0s - loss: 534.5110\n",
      "Epoch 144/200\n",
      " - 0s - loss: 539.8275\n",
      "Epoch 145/200\n",
      " - 0s - loss: 538.0198\n",
      "Epoch 146/200\n",
      " - 0s - loss: 537.1994\n",
      "Epoch 147/200\n",
      " - 0s - loss: 540.2094\n",
      "Epoch 148/200\n",
      " - 0s - loss: 540.5291\n",
      "Epoch 149/200\n",
      " - 0s - loss: 536.8027\n",
      "Epoch 150/200\n",
      " - 0s - loss: 538.6760\n",
      "Epoch 151/200\n",
      " - 0s - loss: 539.7586\n",
      "Epoch 152/200\n",
      " - 0s - loss: 535.8900\n",
      "Epoch 153/200\n",
      " - 0s - loss: 546.9033\n",
      "Epoch 154/200\n",
      " - 0s - loss: 537.4206\n",
      "Epoch 155/200\n",
      " - 0s - loss: 550.5156\n",
      "Epoch 156/200\n",
      " - 0s - loss: 556.4336\n",
      "Epoch 157/200\n",
      " - 0s - loss: 538.1402\n",
      "Epoch 158/200\n",
      " - 0s - loss: 540.2217\n",
      "Epoch 159/200\n",
      " - 0s - loss: 537.5342\n",
      "Epoch 160/200\n",
      " - 0s - loss: 536.5178\n",
      "Epoch 161/200\n",
      " - 0s - loss: 536.2407\n",
      "Epoch 162/200\n",
      " - 0s - loss: 542.4145\n",
      "Epoch 163/200\n",
      " - 0s - loss: 539.5568\n",
      "Epoch 164/200\n",
      " - 0s - loss: 536.4906\n",
      "Epoch 165/200\n",
      " - 0s - loss: 535.8312\n",
      "Epoch 166/200\n",
      " - 0s - loss: 538.7094\n",
      "Epoch 167/200\n",
      " - 0s - loss: 534.5270\n",
      "Epoch 168/200\n",
      " - 0s - loss: 546.6497\n",
      "Epoch 169/200\n",
      " - 0s - loss: 544.6770\n",
      "Epoch 170/200\n",
      " - 0s - loss: 546.6122\n",
      "Epoch 171/200\n",
      " - 0s - loss: 535.2336\n",
      "Epoch 172/200\n",
      " - 0s - loss: 534.6816\n",
      "Epoch 173/200\n",
      " - 0s - loss: 538.2192\n",
      "Epoch 174/200\n",
      " - 0s - loss: 534.5075\n",
      "Epoch 175/200\n",
      " - 0s - loss: 540.3065\n",
      "Epoch 176/200\n",
      " - 0s - loss: 537.7705\n",
      "Epoch 177/200\n",
      " - 0s - loss: 540.1633\n",
      "Epoch 178/200\n",
      " - 0s - loss: 539.8337\n",
      "Epoch 179/200\n",
      " - 0s - loss: 546.2083\n",
      "Epoch 180/200\n",
      " - 0s - loss: 532.5497\n",
      "Epoch 181/200\n",
      " - 0s - loss: 537.9178\n",
      "Epoch 182/200\n",
      " - 0s - loss: 545.7234\n",
      "Epoch 183/200\n",
      " - 0s - loss: 543.1188\n",
      "Epoch 184/200\n",
      " - 0s - loss: 540.7777\n",
      "Epoch 185/200\n",
      " - 0s - loss: 555.7145\n",
      "Epoch 186/200\n",
      " - 0s - loss: 536.7280\n",
      "Epoch 187/200\n",
      " - 0s - loss: 533.2333\n",
      "Epoch 188/200\n",
      " - 0s - loss: 545.0681\n",
      "Epoch 189/200\n",
      " - 0s - loss: 545.2038\n",
      "Epoch 190/200\n",
      " - 0s - loss: 537.4711\n",
      "Epoch 191/200\n",
      " - 0s - loss: 544.9530\n",
      "Epoch 192/200\n",
      " - 0s - loss: 536.1510\n",
      "Epoch 193/200\n",
      " - 0s - loss: 544.4415\n",
      "Epoch 194/200\n",
      " - 0s - loss: 533.4046\n",
      "Epoch 195/200\n",
      " - 0s - loss: 535.5968\n",
      "Epoch 196/200\n",
      " - 0s - loss: 539.3425\n",
      "Epoch 197/200\n",
      " - 0s - loss: 536.5979\n",
      "Epoch 198/200\n",
      " - 0s - loss: 535.1866\n",
      "Epoch 199/200\n",
      " - 0s - loss: 537.8734\n",
      "Epoch 200/200\n",
      " - 0s - loss: 537.2290\n"
     ]
    },
    {
     "data": {
      "text/plain": [
       "<keras.callbacks.callbacks.History at 0x17a28d90128>"
      ]
     },
     "execution_count": 21,
     "metadata": {},
     "output_type": "execute_result"
    }
   ],
   "source": [
    "model = Sequential()\n",
    "model.add(Dense(8, input_dim=look_back, activation='relu'))\n",
    "model.add(Dense(1))\n",
    "model.compile(loss='mean_squared_error', optimizer='adam')\n",
    "model.fit(trainX, trainY, epochs=200, batch_size=2, verbose=2)"
   ]
  },
  {
   "cell_type": "code",
   "execution_count": 23,
   "metadata": {},
   "outputs": [
    {
     "name": "stdout",
     "output_type": "stream",
     "text": [
      "Train Score: 530.96 MSE (23.04 RMSE)\n",
      "Test Score: 2353.436470 MSE (48.51 RMSE)\n"
     ]
    }
   ],
   "source": [
    "import math\n",
    "trainScore = model.evaluate(trainX, trainY, verbose=0)\n",
    "print('Train Score: %.2f MSE (%.2f RMSE)' %(trainScore, math.sqrt(trainScore)))\n",
    "testScore = model.evaluate(testX, testY, verbose=0)\n",
    "print('Test Score: %2f MSE (%.2f RMSE)' %(testScore, math.sqrt(testScore)))"
   ]
  },
  {
   "cell_type": "markdown",
   "metadata": {},
   "source": [
    "# generate predictions for training"
   ]
  },
  {
   "cell_type": "code",
   "execution_count": 24,
   "metadata": {},
   "outputs": [],
   "source": [
    "trainPredict = model.predict(trainX)\n",
    "testPredict = model.predict(testX)"
   ]
  },
  {
   "cell_type": "code",
   "execution_count": 26,
   "metadata": {},
   "outputs": [
    {
     "data": {
      "text/plain": [
       "array([[113.072395],\n",
       "       [118.99166 ],\n",
       "       [132.80327 ],\n",
       "       [129.84363 ],\n",
       "       [121.95129 ],\n",
       "       [135.7629  ],\n",
       "       [148.58795 ],\n",
       "       [148.58795 ],\n",
       "       [136.74944 ],\n",
       "       [119.9782  ]], dtype=float32)"
      ]
     },
     "execution_count": 26,
     "metadata": {},
     "output_type": "execute_result"
    }
   ],
   "source": [
    "trainPredict[0:10]"
   ]
  },
  {
   "cell_type": "markdown",
   "metadata": {},
   "source": [
    "# shift train predictions for plotting"
   ]
  },
  {
   "cell_type": "code",
   "execution_count": 28,
   "metadata": {},
   "outputs": [
    {
     "data": {
      "text/plain": [
       "array([[112.],\n",
       "       [118.],\n",
       "       [132.],\n",
       "       [129.],\n",
       "       [121.],\n",
       "       [135.],\n",
       "       [148.],\n",
       "       [148.],\n",
       "       [136.],\n",
       "       [119.]], dtype=float32)"
      ]
     },
     "execution_count": 28,
     "metadata": {},
     "output_type": "execute_result"
    }
   ],
   "source": [
    "trainPretictPlot = np.empty_like(dataset)\n",
    "trainPretictPlot[0:10]"
   ]
  },
  {
   "cell_type": "code",
   "execution_count": 31,
   "metadata": {},
   "outputs": [
    {
     "data": {
      "text/plain": [
       "array([[nan],\n",
       "       [nan],\n",
       "       [nan]], dtype=float32)"
      ]
     },
     "execution_count": 31,
     "metadata": {},
     "output_type": "execute_result"
    }
   ],
   "source": [
    "trainPretictPlot[:,:] = np.nan\n",
    "trainPretictPlot[0:3]"
   ]
  },
  {
   "cell_type": "code",
   "execution_count": 35,
   "metadata": {},
   "outputs": [
    {
     "data": {
      "text/plain": [
       "array([[       nan],\n",
       "       [113.072395],\n",
       "       [118.99166 ],\n",
       "       [132.80327 ],\n",
       "       [129.84363 ],\n",
       "       [121.95129 ],\n",
       "       [135.7629  ],\n",
       "       [148.58795 ],\n",
       "       [148.58795 ],\n",
       "       [136.74944 ],\n",
       "       [119.9782  ],\n",
       "       [105.18005 ],\n",
       "       [118.99166 ],\n",
       "       [116.03203 ],\n",
       "       [126.88401 ],\n",
       "       [141.68216 ],\n",
       "       [135.7629  ],\n",
       "       [125.89747 ],\n",
       "       [149.5745  ],\n",
       "       [170.2919  ],\n",
       "       [170.2919  ],\n",
       "       [158.45338 ],\n",
       "       [133.78981 ],\n",
       "       [115.04549 ],\n",
       "       [140.6956  ],\n",
       "       [145.62831 ],\n",
       "       [150.56104 ],\n",
       "       [178.18425 ],\n",
       "       [163.3861  ],\n",
       "       [172.265   ],\n",
       "       [178.18425 ],\n",
       "       [198.90166 ],\n",
       "       [198.90166 ],\n",
       "       [184.1035  ],\n",
       "       [162.39955 ],\n",
       "       [146.61487 ],\n",
       "       [166.34572 ],\n",
       "       [171.27844 ],\n",
       "       [180.15733 ],\n",
       "       [192.9824  ],\n",
       "       [181.14388 ],\n",
       "       [183.11696 ],\n",
       "       [217.64598 ],\n",
       "       [229.48448 ],\n",
       "       [241.32301 ],\n",
       "       [208.76707 ],\n",
       "       [191.00932 ],\n",
       "       [172.265   ],\n",
       "       [193.96895 ],\n",
       "       [195.94203 ],\n",
       "       [195.94203 ],\n",
       "       [235.40376 ],\n",
       "       [234.41722 ],\n",
       "       [228.49796 ],\n",
       "       [242.30956 ],\n",
       "       [263.02698 ],\n",
       "       [270.9193  ],\n",
       "       [236.39029 ],\n",
       "       [210.74017 ],\n",
       "       [180.15733 ],\n",
       "       [200.87474 ],\n",
       "       [203.83437 ],\n",
       "       [188.04967 ],\n",
       "       [234.41722 ],\n",
       "       [226.52486 ],\n",
       "       [233.43066 ],\n",
       "       [263.02698 ],\n",
       "       [300.51562 ],\n",
       "       [291.63672 ],\n",
       "       [258.09427 ],\n",
       "       [228.49796 ],\n",
       "       [202.84782 ],\n",
       "       [228.49796 ],\n",
       "       [241.32301 ],\n",
       "       [232.44414 ],\n",
       "       [265.9866  ],\n",
       "       [267.9597  ],\n",
       "       [268.94623 ],\n",
       "       [313.34067 ],\n",
       "       [361.68127 ],\n",
       "       [344.91003 ],\n",
       "       [310.38104 ],\n",
       "       [272.8924  ],\n",
       "       [236.39029 ],\n",
       "       [276.83856 ],\n",
       "       [282.7578  ],\n",
       "       [275.85205 ],\n",
       "       [315.31375 ],\n",
       "       [311.3676  ],\n",
       "       [316.3003  ],\n",
       "       [371.54672 ],\n",
       "       [410.02188 ],\n",
       "       [402.12955 ],\n",
       "       [352.8024  ],\n",
       "       [304.4618  ],\n",
       "       [       nan],\n",
       "       [       nan],\n",
       "       [       nan],\n",
       "       [       nan],\n",
       "       [       nan],\n",
       "       [       nan],\n",
       "       [       nan],\n",
       "       [       nan],\n",
       "       [       nan],\n",
       "       [       nan],\n",
       "       [       nan],\n",
       "       [       nan],\n",
       "       [       nan],\n",
       "       [       nan],\n",
       "       [       nan],\n",
       "       [       nan],\n",
       "       [       nan],\n",
       "       [       nan],\n",
       "       [       nan],\n",
       "       [       nan],\n",
       "       [       nan],\n",
       "       [       nan],\n",
       "       [       nan],\n",
       "       [       nan],\n",
       "       [       nan],\n",
       "       [       nan],\n",
       "       [       nan],\n",
       "       [       nan],\n",
       "       [       nan],\n",
       "       [       nan],\n",
       "       [       nan],\n",
       "       [       nan],\n",
       "       [       nan],\n",
       "       [       nan],\n",
       "       [       nan],\n",
       "       [       nan],\n",
       "       [       nan],\n",
       "       [       nan],\n",
       "       [       nan],\n",
       "       [       nan],\n",
       "       [       nan],\n",
       "       [       nan],\n",
       "       [       nan],\n",
       "       [       nan],\n",
       "       [       nan],\n",
       "       [       nan],\n",
       "       [       nan],\n",
       "       [       nan],\n",
       "       [       nan]], dtype=float32)"
      ]
     },
     "execution_count": 35,
     "metadata": {},
     "output_type": "execute_result"
    }
   ],
   "source": [
    "trainPretictPlot[look_back:len(trainPredict)+look_back,:] = trainPredict\n",
    "trainPretictPlot"
   ]
  },
  {
   "cell_type": "markdown",
   "metadata": {},
   "source": [
    "# Shift test predicts for plotting"
   ]
  },
  {
   "cell_type": "code",
   "execution_count": 38,
   "metadata": {},
   "outputs": [
    {
     "data": {
      "text/plain": [
       "array([[112.],\n",
       "       [118.],\n",
       "       [132.],\n",
       "       [129.]], dtype=float32)"
      ]
     },
     "execution_count": 38,
     "metadata": {},
     "output_type": "execute_result"
    }
   ],
   "source": [
    "testPredictPlot = np.empty_like(dataset)\n",
    "testPredictPlot[0:4]"
   ]
  },
  {
   "cell_type": "code",
   "execution_count": 39,
   "metadata": {},
   "outputs": [],
   "source": [
    "testPredictPlot[:, :] = np.nan"
   ]
  },
  {
   "cell_type": "code",
   "execution_count": 40,
   "metadata": {},
   "outputs": [
    {
     "data": {
      "text/plain": [
       "array([[      nan],\n",
       "       [      nan],\n",
       "       [      nan],\n",
       "       [      nan],\n",
       "       [      nan],\n",
       "       [      nan],\n",
       "       [      nan],\n",
       "       [      nan],\n",
       "       [      nan],\n",
       "       [      nan],\n",
       "       [      nan],\n",
       "       [      nan],\n",
       "       [      nan],\n",
       "       [      nan],\n",
       "       [      nan],\n",
       "       [      nan],\n",
       "       [      nan],\n",
       "       [      nan],\n",
       "       [      nan],\n",
       "       [      nan],\n",
       "       [      nan],\n",
       "       [      nan],\n",
       "       [      nan],\n",
       "       [      nan],\n",
       "       [      nan],\n",
       "       [      nan],\n",
       "       [      nan],\n",
       "       [      nan],\n",
       "       [      nan],\n",
       "       [      nan],\n",
       "       [      nan],\n",
       "       [      nan],\n",
       "       [      nan],\n",
       "       [      nan],\n",
       "       [      nan],\n",
       "       [      nan],\n",
       "       [      nan],\n",
       "       [      nan],\n",
       "       [      nan],\n",
       "       [      nan],\n",
       "       [      nan],\n",
       "       [      nan],\n",
       "       [      nan],\n",
       "       [      nan],\n",
       "       [      nan],\n",
       "       [      nan],\n",
       "       [      nan],\n",
       "       [      nan],\n",
       "       [      nan],\n",
       "       [      nan],\n",
       "       [      nan],\n",
       "       [      nan],\n",
       "       [      nan],\n",
       "       [      nan],\n",
       "       [      nan],\n",
       "       [      nan],\n",
       "       [      nan],\n",
       "       [      nan],\n",
       "       [      nan],\n",
       "       [      nan],\n",
       "       [      nan],\n",
       "       [      nan],\n",
       "       [      nan],\n",
       "       [      nan],\n",
       "       [      nan],\n",
       "       [      nan],\n",
       "       [      nan],\n",
       "       [      nan],\n",
       "       [      nan],\n",
       "       [      nan],\n",
       "       [      nan],\n",
       "       [      nan],\n",
       "       [      nan],\n",
       "       [      nan],\n",
       "       [      nan],\n",
       "       [      nan],\n",
       "       [      nan],\n",
       "       [      nan],\n",
       "       [      nan],\n",
       "       [      nan],\n",
       "       [      nan],\n",
       "       [      nan],\n",
       "       [      nan],\n",
       "       [      nan],\n",
       "       [      nan],\n",
       "       [      nan],\n",
       "       [      nan],\n",
       "       [      nan],\n",
       "       [      nan],\n",
       "       [      nan],\n",
       "       [      nan],\n",
       "       [      nan],\n",
       "       [      nan],\n",
       "       [      nan],\n",
       "       [      nan],\n",
       "       [      nan],\n",
       "       [      nan],\n",
       "       [313.34067],\n",
       "       [299.52905],\n",
       "       [353.78894],\n",
       "       [345.8966 ],\n",
       "       [352.8024 ],\n",
       "       [418.90082],\n",
       "       [461.32214],\n",
       "       [463.29523],\n",
       "       [401.143  ],\n",
       "       [344.91003],\n",
       "       [303.47522],\n",
       "       [334.05807],\n",
       "       [338.00427],\n",
       "       [316.3003 ],\n",
       "       [359.7082 ],\n",
       "       [345.8966 ],\n",
       "       [360.69476],\n",
       "       [431.72583],\n",
       "       [486.97226],\n",
       "       [500.78387],\n",
       "       [401.143  ],\n",
       "       [356.74857],\n",
       "       [308.40796],\n",
       "       [335.04462],\n",
       "       [357.7351 ],\n",
       "       [339.97736],\n",
       "       [403.1161 ],\n",
       "       [393.25067],\n",
       "       [416.92767],\n",
       "       [468.22797],\n",
       "       [543.20526],\n",
       "       [554.05725],\n",
       "       [459.34906],\n",
       "       [404.10263],\n",
       "       [359.7082 ],\n",
       "       [402.12955],\n",
       "       [413.96808],\n",
       "       [388.31793],\n",
       "       [415.94116],\n",
       "       [457.37598],\n",
       "       [468.22797],\n",
       "       [530.3802 ],\n",
       "       [616.2095 ],\n",
       "       [600.42474],\n",
       "       [503.7435 ],\n",
       "       [457.37598],\n",
       "       [      nan]], dtype=float32)"
      ]
     },
     "execution_count": 40,
     "metadata": {},
     "output_type": "execute_result"
    }
   ],
   "source": [
    "testPredictPlot[len(trainPredict)+(look_back*2)+1:len(dataset)-1,:] = testPredict\n",
    "testPredictPlot"
   ]
  },
  {
   "cell_type": "code",
   "execution_count": 42,
   "metadata": {},
   "outputs": [
    {
     "data": {
      "image/png": "[encoded data removed]",
      "text/plain": [
       "<Figure size 432x288 with 1 Axes>"
      ]
     },
     "metadata": {
      "needs_background": "light"
     },
     "output_type": "display_data"
    }
   ],
   "source": [
    "plt.plot(dataset)\n",
    "plt.plot(trainPretictPlot)\n",
    "plt.plot(testPredictPlot)\n",
    "plt.show()"
   ]
  },
  {
   "cell_type": "code",
   "execution_count": null,
   "metadata": {},
   "outputs": [],
   "source": []
  }
 ],
 "metadata": {
  "kernelspec": {
   "display_name": "Python 3",
   "language": "python",
   "name": "python3"
  },
  "language_info": {
   "codemirror_mode": {
    "name": "ipython",
    "version": 3
   },
   "file_extension": ".py",
   "mimetype": "text/x-python",
   "name": "python",
   "nbconvert_exporter": "python",
   "pygments_lexer": "ipython3",
   "version": "3.6.10"
  }
 },
 "nbformat": 4,
 "nbformat_minor": 4
}
