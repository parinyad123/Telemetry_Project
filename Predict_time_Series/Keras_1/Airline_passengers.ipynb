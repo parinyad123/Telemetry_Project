{
 "cells": [
  {
   "cell_type": "code",
   "execution_count": 1,
   "metadata": {},
   "outputs": [
    {
     "name": "stderr",
     "output_type": "stream",
     "text": [
      "Using TensorFlow backend.\n"
     ]
    }
   ],
   "source": [
    "import numpy as np\n",
    "import matplotlib.pyplot as plt\n",
    "import pandas as pd\n",
    "from keras.models import Sequential\n",
    "from keras.layers import Dense"
   ]
  },
  {
   "cell_type": "markdown",
   "metadata": {},
   "source": [
    "# load the dataset"
   ]
  },
  {
   "cell_type": "code",
   "execution_count": 2,
   "metadata": {},
   "outputs": [
    {
     "data": {
      "text/html": [
       "<div>\n",
       "<style scoped>\n",
       "    .dataframe tbody tr th:only-of-type {\n",
       "        vertical-align: middle;\n",
       "    }\n",
       "\n",
       "    .dataframe tbody tr th {\n",
       "        vertical-align: top;\n",
       "    }\n",
       "\n",
       "    .dataframe thead th {\n",
       "        text-align: right;\n",
       "    }\n",
       "</style>\n",
       "<table border=\"1\" class=\"dataframe\">\n",
       "  <thead>\n",
       "    <tr style=\"text-align: right;\">\n",
       "      <th></th>\n",
       "      <th>Passengers</th>\n",
       "    </tr>\n",
       "  </thead>\n",
       "  <tbody>\n",
       "    <tr>\n",
       "      <th>0</th>\n",
       "      <td>112</td>\n",
       "    </tr>\n",
       "    <tr>\n",
       "      <th>1</th>\n",
       "      <td>118</td>\n",
       "    </tr>\n",
       "    <tr>\n",
       "      <th>2</th>\n",
       "      <td>132</td>\n",
       "    </tr>\n",
       "    <tr>\n",
       "      <th>3</th>\n",
       "      <td>129</td>\n",
       "    </tr>\n",
       "    <tr>\n",
       "      <th>4</th>\n",
       "      <td>121</td>\n",
       "    </tr>\n",
       "  </tbody>\n",
       "</table>\n",
       "</div>"
      ],
      "text/plain": [
       "   Passengers\n",
       "0         112\n",
       "1         118\n",
       "2         132\n",
       "3         129\n",
       "4         121"
      ]
     },
     "execution_count": 2,
     "metadata": {},
     "output_type": "execute_result"
    }
   ],
   "source": [
    "# load the dataset\n",
    "url = 'https://raw.githubusercontent.com/jbrownlee/Datasets/master/airline-passengers.csv'\n",
    "df = pd.read_csv(url, usecols=[1], engine='python')\n",
    "df.head()"
   ]
  },
  {
   "cell_type": "code",
   "execution_count": 3,
   "metadata": {},
   "outputs": [
    {
     "data": {
      "text/plain": [
       "array([[118],\n",
       "       [132],\n",
       "       [129],\n",
       "       [121],\n",
       "       [135],\n",
       "       [148],\n",
       "       [148],\n",
       "       [136],\n",
       "       [119]], dtype=int64)"
      ]
     },
     "execution_count": 3,
     "metadata": {},
     "output_type": "execute_result"
    }
   ],
   "source": [
    "dataset = df.values\n",
    "dataset[1:10]"
   ]
  },
  {
   "cell_type": "code",
   "execution_count": 4,
   "metadata": {},
   "outputs": [
    {
     "data": {
      "text/plain": [
       "array([[112.],\n",
       "       [118.],\n",
       "       [132.],\n",
       "       [129.],\n",
       "       [121.],\n",
       "       [135.],\n",
       "       [148.],\n",
       "       [148.],\n",
       "       [136.]], dtype=float32)"
      ]
     },
     "execution_count": 4,
     "metadata": {},
     "output_type": "execute_result"
    }
   ],
   "source": [
    "dataset = dataset.astype('float32')\n",
    "dataset[0:9]"
   ]
  },
  {
   "cell_type": "markdown",
   "metadata": {},
   "source": [
    "# split into train and test sets"
   ]
  },
  {
   "cell_type": "code",
   "execution_count": 5,
   "metadata": {},
   "outputs": [
    {
     "name": "stdout",
     "output_type": "stream",
     "text": [
      "96 48\n"
     ]
    }
   ],
   "source": [
    "train_size = int(len(dataset)*0.67)\n",
    "test_size = len(dataset) - train_size\n",
    "train, test =dataset[0:train_size,:], dataset[train_size:len(dataset),:]\n",
    "print(len(train), len(test))"
   ]
  },
  {
   "cell_type": "markdown",
   "metadata": {},
   "source": [
    "# convert an array of values into a dataset matrix"
   ]
  },
  {
   "cell_type": "code",
   "execution_count": 6,
   "metadata": {},
   "outputs": [],
   "source": [
    "def create_dataset(dataset, look_back=1):\n",
    "    dataX, dataY = [],[]\n",
    "    for i in range(len(dataset)-look_back-1):\n",
    "        a=dataset[i:(i+look_back),0]\n",
    "        dataX.append(a)\n",
    "        dataY.append(dataset[i+look_back,0])\n",
    "    return np.array(dataX), np.array(dataY)"
   ]
  },
  {
   "cell_type": "markdown",
   "metadata": {},
   "source": [
    "# reshape into X=t and Y=t+1"
   ]
  },
  {
   "cell_type": "code",
   "execution_count": 7,
   "metadata": {},
   "outputs": [],
   "source": [
    "look_back =1\n",
    "trainX, trainY = create_dataset(train, look_back)\n",
    "testX, testY = create_dataset(test, look_back)"
   ]
  },
  {
   "cell_type": "code",
   "execution_count": 8,
   "metadata": {},
   "outputs": [
    {
     "data": {
      "text/plain": [
       "(array([[112.],\n",
       "        [118.],\n",
       "        [132.]], dtype=float32),\n",
       " array([[315.],\n",
       "        [301.],\n",
       "        [356.]], dtype=float32))"
      ]
     },
     "execution_count": 8,
     "metadata": {},
     "output_type": "execute_result"
    }
   ],
   "source": [
    "trainX[0:3], testX[0:3]"
   ]
  },
  {
   "cell_type": "code",
   "execution_count": 9,
   "metadata": {},
   "outputs": [
    {
     "name": "stdout",
     "output_type": "stream",
     "text": [
      "94 94 46 46\n"
     ]
    }
   ],
   "source": [
    "print(len(trainX), len(trainY), len(testX), len(testY))"
   ]
  },
  {
   "cell_type": "markdown",
   "metadata": {},
   "source": [
    "# create and fit Multilayer Perceptron model"
   ]
  },
  {
   "cell_type": "code",
   "execution_count": 10,
   "metadata": {},
   "outputs": [
    {
     "name": "stdout",
     "output_type": "stream",
     "text": [
      "Epoch 1/200\n",
      " - 0s - loss: 7353.6637\n",
      "Epoch 2/200\n",
      " - 0s - loss: 664.2532\n",
      "Epoch 3/200\n",
      " - 0s - loss: 730.4932\n",
      "Epoch 4/200\n",
      " - 0s - loss: 701.0425\n",
      "Epoch 5/200\n",
      " - 0s - loss: 735.8475\n",
      "Epoch 6/200\n",
      " - 0s - loss: 630.7382\n",
      "Epoch 7/200\n",
      " - 0s - loss: 604.7951\n",
      "Epoch 8/200\n",
      " - 0s - loss: 594.1495\n",
      "Epoch 9/200\n",
      " - 0s - loss: 614.1363\n",
      "Epoch 10/200\n",
      " - 0s - loss: 992.4676\n",
      "Epoch 11/200\n",
      " - 0s - loss: 804.2504\n",
      "Epoch 12/200\n",
      " - 0s - loss: 760.3817\n",
      "Epoch 13/200\n",
      " - 0s - loss: 687.2097\n",
      "Epoch 14/200\n",
      " - 0s - loss: 633.2304\n",
      "Epoch 15/200\n",
      " - 0s - loss: 674.4112\n",
      "Epoch 16/200\n",
      " - 0s - loss: 620.9025\n",
      "Epoch 17/200\n",
      " - 0s - loss: 753.1785\n",
      "Epoch 18/200\n",
      " - 0s - loss: 661.3459\n",
      "Epoch 19/200\n",
      " - 0s - loss: 608.5937\n",
      "Epoch 20/200\n",
      " - 0s - loss: 714.9261\n",
      "Epoch 21/200\n",
      " - 0s - loss: 648.0907\n",
      "Epoch 22/200\n",
      " - 0s - loss: 600.0373\n",
      "Epoch 23/200\n",
      " - 0s - loss: 720.7800\n",
      "Epoch 24/200\n",
      " - 0s - loss: 702.3839\n",
      "Epoch 25/200\n",
      " - 0s - loss: 636.5389\n",
      "Epoch 26/200\n",
      " - 0s - loss: 643.8432\n",
      "Epoch 27/200\n",
      " - 0s - loss: 601.5590\n",
      "Epoch 28/200\n",
      " - 0s - loss: 704.6763\n",
      "Epoch 29/200\n",
      " - 0s - loss: 574.7532\n",
      "Epoch 30/200\n",
      " - 0s - loss: 763.4003\n",
      "Epoch 31/200\n",
      " - 0s - loss: 748.0225\n",
      "Epoch 32/200\n",
      " - 0s - loss: 685.6956\n",
      "Epoch 33/200\n",
      " - 0s - loss: 599.3878\n",
      "Epoch 34/200\n",
      " - 0s - loss: 731.9830\n",
      "Epoch 35/200\n",
      " - 0s - loss: 686.5294\n",
      "Epoch 36/200\n",
      " - 0s - loss: 696.4555\n",
      "Epoch 37/200\n",
      " - 0s - loss: 554.3516\n",
      "Epoch 38/200\n",
      " - 0s - loss: 646.0612\n",
      "Epoch 39/200\n",
      " - 0s - loss: 655.0279\n",
      "Epoch 40/200\n",
      " - 0s - loss: 574.5176\n",
      "Epoch 41/200\n",
      " - 0s - loss: 615.1088\n",
      "Epoch 42/200\n",
      " - 0s - loss: 787.3786\n",
      "Epoch 43/200\n",
      " - 0s - loss: 681.4881\n",
      "Epoch 44/200\n",
      " - 0s - loss: 818.5950\n",
      "Epoch 45/200\n",
      " - 0s - loss: 731.2790\n",
      "Epoch 46/200\n",
      " - 0s - loss: 730.3000\n",
      "Epoch 47/200\n",
      " - 0s - loss: 657.9517\n",
      "Epoch 48/200\n",
      " - 0s - loss: 764.9725\n",
      "Epoch 49/200\n",
      " - 0s - loss: 945.8403\n",
      "Epoch 50/200\n",
      " - 0s - loss: 887.4631\n",
      "Epoch 51/200\n",
      " - 0s - loss: 617.9244\n",
      "Epoch 52/200\n",
      " - 0s - loss: 676.2891\n",
      "Epoch 53/200\n",
      " - 0s - loss: 582.1104\n",
      "Epoch 54/200\n",
      " - 0s - loss: 728.0039\n",
      "Epoch 55/200\n",
      " - 0s - loss: 628.1507\n",
      "Epoch 56/200\n",
      " - 0s - loss: 667.7220\n",
      "Epoch 57/200\n",
      " - 0s - loss: 556.1159\n",
      "Epoch 58/200\n",
      " - 0s - loss: 997.3293\n",
      "Epoch 59/200\n",
      " - 0s - loss: 684.4055\n",
      "Epoch 60/200\n",
      " - 0s - loss: 982.5821\n",
      "Epoch 61/200\n",
      " - 0s - loss: 595.7689\n",
      "Epoch 62/200\n",
      " - 0s - loss: 659.4730\n",
      "Epoch 63/200\n",
      " - 0s - loss: 725.6051\n",
      "Epoch 64/200\n",
      " - 0s - loss: 814.3868\n",
      "Epoch 65/200\n",
      " - 0s - loss: 812.2405\n",
      "Epoch 66/200\n",
      " - 0s - loss: 563.4793\n",
      "Epoch 67/200\n",
      " - 0s - loss: 649.2997\n",
      "Epoch 68/200\n",
      " - 0s - loss: 634.5563\n",
      "Epoch 69/200\n",
      " - 0s - loss: 631.9565\n",
      "Epoch 70/200\n",
      " - 0s - loss: 709.6170\n",
      "Epoch 71/200\n",
      " - 0s - loss: 626.4813\n",
      "Epoch 72/200\n",
      " - 0s - loss: 569.1978\n",
      "Epoch 73/200\n",
      " - 0s - loss: 639.8942\n",
      "Epoch 74/200\n",
      " - 0s - loss: 674.8351\n",
      "Epoch 75/200\n",
      " - 0s - loss: 917.2142\n",
      "Epoch 76/200\n",
      " - 0s - loss: 838.2141\n",
      "Epoch 77/200\n",
      " - 0s - loss: 535.3044\n",
      "Epoch 78/200\n",
      " - 0s - loss: 483.8473\n",
      "Epoch 79/200\n",
      " - 0s - loss: 570.9941\n",
      "Epoch 80/200\n",
      " - 0s - loss: 626.4872\n",
      "Epoch 81/200\n",
      " - 0s - loss: 628.5110\n",
      "Epoch 82/200\n",
      " - 0s - loss: 581.3234\n",
      "Epoch 83/200\n",
      " - 0s - loss: 555.2329\n",
      "Epoch 84/200\n",
      " - 0s - loss: 730.2191\n",
      "Epoch 85/200\n",
      " - 0s - loss: 700.4167\n",
      "Epoch 86/200\n",
      " - 0s - loss: 581.8081\n",
      "Epoch 87/200\n",
      " - 0s - loss: 551.5221\n",
      "Epoch 88/200\n",
      " - 0s - loss: 650.2174\n",
      "Epoch 89/200\n",
      " - 0s - loss: 782.8746\n",
      "Epoch 90/200\n",
      " - 0s - loss: 602.8554\n",
      "Epoch 91/200\n",
      " - 0s - loss: 634.5795\n",
      "Epoch 92/200\n",
      " - 0s - loss: 609.9013\n",
      "Epoch 93/200\n",
      " - 0s - loss: 602.5940\n",
      "Epoch 94/200\n",
      " - 0s - loss: 636.1883\n",
      "Epoch 95/200\n",
      " - 0s - loss: 643.1523\n",
      "Epoch 96/200\n",
      " - 0s - loss: 592.6560\n",
      "Epoch 97/200\n",
      " - 0s - loss: 625.6035\n",
      "Epoch 98/200\n",
      " - 0s - loss: 622.2919\n",
      "Epoch 99/200\n",
      " - 0s - loss: 580.6013\n",
      "Epoch 100/200\n",
      " - 0s - loss: 612.2509\n",
      "Epoch 101/200\n",
      " - 0s - loss: 625.6419\n",
      "Epoch 102/200\n",
      " - 0s - loss: 630.3784\n",
      "Epoch 103/200\n",
      " - 0s - loss: 580.5395\n",
      "Epoch 104/200\n",
      " - 0s - loss: 653.6907\n",
      "Epoch 105/200\n",
      " - 0s - loss: 760.9330\n",
      "Epoch 106/200\n",
      " - 0s - loss: 629.4060\n",
      "Epoch 107/200\n",
      " - 0s - loss: 679.4772\n",
      "Epoch 108/200\n",
      " - 0s - loss: 686.0638\n",
      "Epoch 109/200\n",
      " - 0s - loss: 637.8649\n",
      "Epoch 110/200\n",
      " - 0s - loss: 575.3172\n",
      "Epoch 111/200\n",
      " - 0s - loss: 590.8911\n",
      "Epoch 112/200\n",
      " - 0s - loss: 619.7248\n",
      "Epoch 113/200\n",
      " - 0s - loss: 645.1756\n",
      "Epoch 114/200\n",
      " - 0s - loss: 574.0570\n",
      "Epoch 115/200\n",
      " - 0s - loss: 738.4763\n",
      "Epoch 116/200\n",
      " - 0s - loss: 598.1934\n",
      "Epoch 117/200\n",
      " - 0s - loss: 546.1258\n",
      "Epoch 118/200\n",
      " - 0s - loss: 599.8594\n",
      "Epoch 119/200\n",
      " - 0s - loss: 642.1359\n",
      "Epoch 120/200\n",
      " - 0s - loss: 799.1879\n",
      "Epoch 121/200\n",
      " - 0s - loss: 566.9559\n",
      "Epoch 122/200\n",
      " - 0s - loss: 584.6795\n",
      "Epoch 123/200\n",
      " - 0s - loss: 619.8031\n",
      "Epoch 124/200\n",
      " - 0s - loss: 585.6558\n",
      "Epoch 125/200\n",
      " - 0s - loss: 663.4569\n",
      "Epoch 126/200\n",
      " - 0s - loss: 660.5439\n",
      "Epoch 127/200\n",
      " - 0s - loss: 596.5926\n",
      "Epoch 128/200\n",
      " - 0s - loss: 655.9882\n",
      "Epoch 129/200\n",
      " - 0s - loss: 666.0273\n",
      "Epoch 130/200\n",
      " - 0s - loss: 569.8084\n",
      "Epoch 131/200\n",
      " - 0s - loss: 657.8134\n",
      "Epoch 132/200\n",
      " - 0s - loss: 603.8677\n",
      "Epoch 133/200\n",
      " - 0s - loss: 552.3075\n",
      "Epoch 134/200\n",
      " - 0s - loss: 726.5786\n",
      "Epoch 135/200\n",
      " - 0s - loss: 655.0696\n",
      "Epoch 136/200\n",
      " - 0s - loss: 630.0975\n",
      "Epoch 137/200\n",
      " - 0s - loss: 549.1006\n",
      "Epoch 138/200\n",
      " - 0s - loss: 667.9089\n",
      "Epoch 139/200\n",
      " - 0s - loss: 706.0436\n",
      "Epoch 140/200\n",
      " - 0s - loss: 638.1710\n",
      "Epoch 141/200\n",
      " - 0s - loss: 726.4983\n",
      "Epoch 142/200\n",
      " - 0s - loss: 620.1969\n",
      "Epoch 143/200\n",
      " - 0s - loss: 591.7765\n",
      "Epoch 144/200\n",
      " - 0s - loss: 575.0764\n",
      "Epoch 145/200\n",
      " - 0s - loss: 572.1441\n",
      "Epoch 146/200\n",
      " - 0s - loss: 740.9492\n",
      "Epoch 147/200\n",
      " - 0s - loss: 578.2826\n",
      "Epoch 148/200\n",
      " - 0s - loss: 735.8589\n",
      "Epoch 149/200\n",
      " - 0s - loss: 544.9383\n",
      "Epoch 150/200\n",
      " - 0s - loss: 682.7953\n",
      "Epoch 151/200\n",
      " - 0s - loss: 613.5977\n",
      "Epoch 152/200\n",
      " - 0s - loss: 926.5478\n",
      "Epoch 153/200\n",
      " - 0s - loss: 614.1433\n",
      "Epoch 154/200\n",
      " - 0s - loss: 620.9365\n",
      "Epoch 155/200\n",
      " - 0s - loss: 662.5828\n",
      "Epoch 156/200\n",
      " - 0s - loss: 561.7826\n",
      "Epoch 157/200\n",
      " - 0s - loss: 547.6959\n",
      "Epoch 158/200\n",
      " - 0s - loss: 657.0697\n",
      "Epoch 159/200\n",
      " - 0s - loss: 732.2097\n",
      "Epoch 160/200\n",
      " - 0s - loss: 561.4572\n",
      "Epoch 161/200\n",
      " - 0s - loss: 602.9922\n",
      "Epoch 162/200\n",
      " - 0s - loss: 665.1366\n",
      "Epoch 163/200\n",
      " - 0s - loss: 616.0354\n",
      "Epoch 164/200\n",
      " - 0s - loss: 573.9329\n",
      "Epoch 165/200\n",
      " - 0s - loss: 568.1471\n",
      "Epoch 166/200\n",
      " - 0s - loss: 559.7192\n",
      "Epoch 167/200\n",
      " - 0s - loss: 842.3749\n",
      "Epoch 168/200\n",
      " - 0s - loss: 665.3527\n",
      "Epoch 169/200\n",
      " - 0s - loss: 557.6643\n",
      "Epoch 170/200\n",
      " - 0s - loss: 576.9573\n",
      "Epoch 171/200\n",
      " - 0s - loss: 661.7695\n",
      "Epoch 172/200\n",
      " - 0s - loss: 621.1400\n",
      "Epoch 173/200\n",
      " - 0s - loss: 546.6610\n",
      "Epoch 174/200\n",
      " - 0s - loss: 691.2323\n",
      "Epoch 175/200\n",
      " - 0s - loss: 599.4702\n",
      "Epoch 176/200\n",
      " - 0s - loss: 701.1143\n",
      "Epoch 177/200\n",
      " - 0s - loss: 619.1020\n",
      "Epoch 178/200\n",
      " - 0s - loss: 634.8770\n",
      "Epoch 179/200\n",
      " - 0s - loss: 698.9940\n",
      "Epoch 180/200\n",
      " - 0s - loss: 713.8329\n",
      "Epoch 181/200\n",
      " - 0s - loss: 623.7097\n",
      "Epoch 182/200\n",
      " - 0s - loss: 599.4342\n",
      "Epoch 183/200\n",
      " - 0s - loss: 615.0074\n",
      "Epoch 184/200\n",
      " - 0s - loss: 569.7766\n",
      "Epoch 185/200\n",
      " - 0s - loss: 634.4980\n",
      "Epoch 186/200\n",
      " - 0s - loss: 568.4210\n",
      "Epoch 187/200\n",
      " - 0s - loss: 710.7524\n",
      "Epoch 188/200\n",
      " - 0s - loss: 560.6884\n",
      "Epoch 189/200\n",
      " - 0s - loss: 649.5835\n",
      "Epoch 190/200\n",
      " - 0s - loss: 594.0431\n",
      "Epoch 191/200\n",
      " - 0s - loss: 701.7046\n",
      "Epoch 192/200\n",
      " - 0s - loss: 714.2232\n",
      "Epoch 193/200\n",
      " - 0s - loss: 549.2722\n",
      "Epoch 194/200\n",
      " - 0s - loss: 557.6997\n",
      "Epoch 195/200\n",
      " - 0s - loss: 630.8179\n",
      "Epoch 196/200\n",
      " - 0s - loss: 586.7341\n",
      "Epoch 197/200\n",
      " - 0s - loss: 691.7878\n",
      "Epoch 198/200\n",
      " - 0s - loss: 630.8180\n",
      "Epoch 199/200\n",
      " - 0s - loss: 779.1004\n",
      "Epoch 200/200\n",
      " - 0s - loss: 555.5402\n"
     ]
    },
    {
     "data": {
      "text/plain": [
       "<keras.callbacks.callbacks.History at 0x20eb08a4ef0>"
      ]
     },
     "execution_count": 10,
     "metadata": {},
     "output_type": "execute_result"
    }
   ],
   "source": [
    "model = Sequential()\n",
    "model.add(Dense(50, input_dim=look_back, activation='relu'))\n",
    "model.add(Dense(100, input_dim=look_back, activation='relu'))\n",
    "model.add(Dense(1000, input_dim=look_back, activation='relu'))\n",
    "model.add(Dense(1))\n",
    "model.compile(loss='mean_squared_error', optimizer='adam')\n",
    "model.fit(trainX, trainY, epochs=200, batch_size=2, verbose=2)"
   ]
  },
  {
   "cell_type": "code",
   "execution_count": 11,
   "metadata": {},
   "outputs": [
    {
     "name": "stdout",
     "output_type": "stream",
     "text": [
      "Train Score: 646.38 MSE (25.42 RMSE)\n",
      "Test Score: 3007.778034 MSE (54.84 RMSE)\n"
     ]
    }
   ],
   "source": [
    "import math\n",
    "trainScore = model.evaluate(trainX, trainY, verbose=0)\n",
    "print('Train Score: %.2f MSE (%.2f RMSE)' %(trainScore, math.sqrt(trainScore)))\n",
    "testScore = model.evaluate(testX, testY, verbose=0)\n",
    "print('Test Score: %2f MSE (%.2f RMSE)' %(testScore, math.sqrt(testScore)))"
   ]
  },
  {
   "cell_type": "markdown",
   "metadata": {},
   "source": [
    "# generate predictions for training"
   ]
  },
  {
   "cell_type": "code",
   "execution_count": 12,
   "metadata": {},
   "outputs": [],
   "source": [
    "trainPredict = model.predict(trainX)\n",
    "testPredict = model.predict(testX)"
   ]
  },
  {
   "cell_type": "code",
   "execution_count": 13,
   "metadata": {},
   "outputs": [
    {
     "data": {
      "text/plain": [
       "array([[111.09706 ],\n",
       "       [116.578674],\n",
       "       [129.36916 ],\n",
       "       [126.62834 ],\n",
       "       [119.3195  ],\n",
       "       [132.10999 ],\n",
       "       [143.98688 ],\n",
       "       [143.98688 ],\n",
       "       [133.02359 ],\n",
       "       [117.49228 ]], dtype=float32)"
      ]
     },
     "execution_count": 13,
     "metadata": {},
     "output_type": "execute_result"
    }
   ],
   "source": [
    "trainPredict[0:10]"
   ]
  },
  {
   "cell_type": "markdown",
   "metadata": {},
   "source": [
    "# shift train predictions for plotting"
   ]
  },
  {
   "cell_type": "code",
   "execution_count": 14,
   "metadata": {},
   "outputs": [
    {
     "data": {
      "text/plain": [
       "array([[0.0000000e+00],\n",
       "       [0.0000000e+00],\n",
       "       [4.4841551e-44],\n",
       "       [0.0000000e+00],\n",
       "       [1.0883164e+33],\n",
       "       [0.0000000e+00],\n",
       "       [1.4012985e-44],\n",
       "       [0.0000000e+00],\n",
       "       [1.5414283e-44],\n",
       "       [0.0000000e+00]], dtype=float32)"
      ]
     },
     "execution_count": 14,
     "metadata": {},
     "output_type": "execute_result"
    }
   ],
   "source": [
    "trainPretictPlot = np.empty_like(dataset)\n",
    "trainPretictPlot[0:10]"
   ]
  },
  {
   "cell_type": "code",
   "execution_count": 15,
   "metadata": {},
   "outputs": [
    {
     "data": {
      "text/plain": [
       "array([[nan],\n",
       "       [nan],\n",
       "       [nan]], dtype=float32)"
      ]
     },
     "execution_count": 15,
     "metadata": {},
     "output_type": "execute_result"
    }
   ],
   "source": [
    "trainPretictPlot[:,:] = np.nan\n",
    "trainPretictPlot[0:3]"
   ]
  },
  {
   "cell_type": "code",
   "execution_count": 16,
   "metadata": {},
   "outputs": [
    {
     "data": {
      "text/plain": [
       "array([[       nan],\n",
       "       [111.09706 ],\n",
       "       [116.578674],\n",
       "       [129.36916 ],\n",
       "       [126.62834 ],\n",
       "       [119.3195  ],\n",
       "       [132.10999 ],\n",
       "       [143.98688 ],\n",
       "       [143.98688 ],\n",
       "       [133.02359 ],\n",
       "       [117.49228 ],\n",
       "       [103.78819 ],\n",
       "       [116.578674],\n",
       "       [113.83786 ],\n",
       "       [123.88751 ],\n",
       "       [137.59163 ],\n",
       "       [132.10999 ],\n",
       "       [122.97392 ],\n",
       "       [144.90048 ],\n",
       "       [164.08624 ],\n",
       "       [164.08624 ],\n",
       "       [153.12296 ],\n",
       "       [130.28278 ],\n",
       "       [112.924255],\n",
       "       [136.67801 ],\n",
       "       [141.24605 ],\n",
       "       [145.81409 ],\n",
       "       [171.39511 ],\n",
       "       [157.69098 ],\n",
       "       [165.91345 ],\n",
       "       [171.39511 ],\n",
       "       [190.58087 ],\n",
       "       [190.58087 ],\n",
       "       [176.87677 ],\n",
       "       [156.77737 ],\n",
       "       [142.15967 ],\n",
       "       [160.43181 ],\n",
       "       [164.99985 ],\n",
       "       [173.22232 ],\n",
       "       [185.09924 ],\n",
       "       [174.13593 ],\n",
       "       [175.96313 ],\n",
       "       [207.93945 ],\n",
       "       [218.9028  ],\n",
       "       [229.86613 ],\n",
       "       [199.71698 ],\n",
       "       [183.27202 ],\n",
       "       [165.91345 ],\n",
       "       [186.01285 ],\n",
       "       [187.84006 ],\n",
       "       [187.84006 ],\n",
       "       [224.38448 ],\n",
       "       [223.47086 ],\n",
       "       [217.98917 ],\n",
       "       [230.77975 ],\n",
       "       [249.9657  ],\n",
       "       [257.27457 ],\n",
       "       [225.29808 ],\n",
       "       [201.54419 ],\n",
       "       [173.22232 ],\n",
       "       [192.40811 ],\n",
       "       [195.14893 ],\n",
       "       [180.53119 ],\n",
       "       [223.47086 ],\n",
       "       [216.16196 ],\n",
       "       [222.55725 ],\n",
       "       [249.9657  ],\n",
       "       [284.683   ],\n",
       "       [276.4605  ],\n",
       "       [245.39763 ],\n",
       "       [217.98917 ],\n",
       "       [194.23532 ],\n",
       "       [217.98917 ],\n",
       "       [229.86613 ],\n",
       "       [221.64363 ],\n",
       "       [252.70651 ],\n",
       "       [254.53377 ],\n",
       "       [255.44737 ],\n",
       "       [296.56006 ],\n",
       "       [341.3273  ],\n",
       "       [325.7958  ],\n",
       "       [293.8192  ],\n",
       "       [259.10184 ],\n",
       "       [225.29808 ],\n",
       "       [262.7563  ],\n",
       "       [268.23798 ],\n",
       "       [261.84268 ],\n",
       "       [298.3873  ],\n",
       "       [294.73285 ],\n",
       "       [299.30093 ],\n",
       "       [350.46347 ],\n",
       "       [386.09473 ],\n",
       "       [378.78577 ],\n",
       "       [333.10474 ],\n",
       "       [288.3375  ],\n",
       "       [       nan],\n",
       "       [       nan],\n",
       "       [       nan],\n",
       "       [       nan],\n",
       "       [       nan],\n",
       "       [       nan],\n",
       "       [       nan],\n",
       "       [       nan],\n",
       "       [       nan],\n",
       "       [       nan],\n",
       "       [       nan],\n",
       "       [       nan],\n",
       "       [       nan],\n",
       "       [       nan],\n",
       "       [       nan],\n",
       "       [       nan],\n",
       "       [       nan],\n",
       "       [       nan],\n",
       "       [       nan],\n",
       "       [       nan],\n",
       "       [       nan],\n",
       "       [       nan],\n",
       "       [       nan],\n",
       "       [       nan],\n",
       "       [       nan],\n",
       "       [       nan],\n",
       "       [       nan],\n",
       "       [       nan],\n",
       "       [       nan],\n",
       "       [       nan],\n",
       "       [       nan],\n",
       "       [       nan],\n",
       "       [       nan],\n",
       "       [       nan],\n",
       "       [       nan],\n",
       "       [       nan],\n",
       "       [       nan],\n",
       "       [       nan],\n",
       "       [       nan],\n",
       "       [       nan],\n",
       "       [       nan],\n",
       "       [       nan],\n",
       "       [       nan],\n",
       "       [       nan],\n",
       "       [       nan],\n",
       "       [       nan],\n",
       "       [       nan],\n",
       "       [       nan],\n",
       "       [       nan]], dtype=float32)"
      ]
     },
     "execution_count": 16,
     "metadata": {},
     "output_type": "execute_result"
    }
   ],
   "source": [
    "trainPretictPlot[look_back:len(trainPredict)+look_back,:] = trainPredict\n",
    "trainPretictPlot"
   ]
  },
  {
   "cell_type": "markdown",
   "metadata": {},
   "source": [
    "# Shift test predicts for plotting"
   ]
  },
  {
   "cell_type": "code",
   "execution_count": 17,
   "metadata": {},
   "outputs": [
    {
     "data": {
      "text/plain": [
       "array([[-6.1407093e-09],\n",
       "       [ 7.3708299e-43],\n",
       "       [-2.2023303e-18],\n",
       "       [ 7.3708299e-43]], dtype=float32)"
      ]
     },
     "execution_count": 17,
     "metadata": {},
     "output_type": "execute_result"
    }
   ],
   "source": [
    "testPredictPlot = np.empty_like(dataset)\n",
    "testPredictPlot[0:4]"
   ]
  },
  {
   "cell_type": "code",
   "execution_count": 18,
   "metadata": {},
   "outputs": [],
   "source": [
    "testPredictPlot[:, :] = np.nan"
   ]
  },
  {
   "cell_type": "code",
   "execution_count": 19,
   "metadata": {},
   "outputs": [
    {
     "data": {
      "text/plain": [
       "array([[      nan],\n",
       "       [      nan],\n",
       "       [      nan],\n",
       "       [      nan],\n",
       "       [      nan],\n",
       "       [      nan],\n",
       "       [      nan],\n",
       "       [      nan],\n",
       "       [      nan],\n",
       "       [      nan],\n",
       "       [      nan],\n",
       "       [      nan],\n",
       "       [      nan],\n",
       "       [      nan],\n",
       "       [      nan],\n",
       "       [      nan],\n",
       "       [      nan],\n",
       "       [      nan],\n",
       "       [      nan],\n",
       "       [      nan],\n",
       "       [      nan],\n",
       "       [      nan],\n",
       "       [      nan],\n",
       "       [      nan],\n",
       "       [      nan],\n",
       "       [      nan],\n",
       "       [      nan],\n",
       "       [      nan],\n",
       "       [      nan],\n",
       "       [      nan],\n",
       "       [      nan],\n",
       "       [      nan],\n",
       "       [      nan],\n",
       "       [      nan],\n",
       "       [      nan],\n",
       "       [      nan],\n",
       "       [      nan],\n",
       "       [      nan],\n",
       "       [      nan],\n",
       "       [      nan],\n",
       "       [      nan],\n",
       "       [      nan],\n",
       "       [      nan],\n",
       "       [      nan],\n",
       "       [      nan],\n",
       "       [      nan],\n",
       "       [      nan],\n",
       "       [      nan],\n",
       "       [      nan],\n",
       "       [      nan],\n",
       "       [      nan],\n",
       "       [      nan],\n",
       "       [      nan],\n",
       "       [      nan],\n",
       "       [      nan],\n",
       "       [      nan],\n",
       "       [      nan],\n",
       "       [      nan],\n",
       "       [      nan],\n",
       "       [      nan],\n",
       "       [      nan],\n",
       "       [      nan],\n",
       "       [      nan],\n",
       "       [      nan],\n",
       "       [      nan],\n",
       "       [      nan],\n",
       "       [      nan],\n",
       "       [      nan],\n",
       "       [      nan],\n",
       "       [      nan],\n",
       "       [      nan],\n",
       "       [      nan],\n",
       "       [      nan],\n",
       "       [      nan],\n",
       "       [      nan],\n",
       "       [      nan],\n",
       "       [      nan],\n",
       "       [      nan],\n",
       "       [      nan],\n",
       "       [      nan],\n",
       "       [      nan],\n",
       "       [      nan],\n",
       "       [      nan],\n",
       "       [      nan],\n",
       "       [      nan],\n",
       "       [      nan],\n",
       "       [      nan],\n",
       "       [      nan],\n",
       "       [      nan],\n",
       "       [      nan],\n",
       "       [      nan],\n",
       "       [      nan],\n",
       "       [      nan],\n",
       "       [      nan],\n",
       "       [      nan],\n",
       "       [      nan],\n",
       "       [      nan],\n",
       "       [296.56006],\n",
       "       [283.76944],\n",
       "       [334.01834],\n",
       "       [326.7094 ],\n",
       "       [333.10474],\n",
       "       [394.31735],\n",
       "       [433.6031 ],\n",
       "       [435.43033],\n",
       "       [377.87216],\n",
       "       [325.7958 ],\n",
       "       [287.4239 ],\n",
       "       [315.746  ],\n",
       "       [319.40048],\n",
       "       [299.30093],\n",
       "       [339.50006],\n",
       "       [326.7094 ],\n",
       "       [340.41367],\n",
       "       [406.19443],\n",
       "       [457.35727],\n",
       "       [470.14795],\n",
       "       [377.87216],\n",
       "       [336.75925],\n",
       "       [291.992  ],\n",
       "       [316.65964],\n",
       "       [337.67282],\n",
       "       [321.22772],\n",
       "       [379.69943],\n",
       "       [370.56317],\n",
       "       [392.49014],\n",
       "       [439.9984 ],\n",
       "       [509.43375],\n",
       "       [519.4836 ],\n",
       "       [431.77585],\n",
       "       [380.613  ],\n",
       "       [339.50006],\n",
       "       [378.78577],\n",
       "       [389.74924],\n",
       "       [365.99503],\n",
       "       [391.57648],\n",
       "       [429.9486 ],\n",
       "       [439.9984 ],\n",
       "       [497.5566 ],\n",
       "       [577.0418 ],\n",
       "       [562.4238 ],\n",
       "       [472.88882],\n",
       "       [429.94858],\n",
       "       [      nan]], dtype=float32)"
      ]
     },
     "execution_count": 19,
     "metadata": {},
     "output_type": "execute_result"
    }
   ],
   "source": [
    "testPredictPlot[len(trainPredict)+(look_back*2)+1:len(dataset)-1,:] = testPredict\n",
    "testPredictPlot"
   ]
  },
  {
   "cell_type": "code",
   "execution_count": 20,
   "metadata": {},
   "outputs": [
    {
     "data": {
      "image/png": "[encoded data removed]",
      "text/plain": [
       "<Figure size 432x288 with 1 Axes>"
      ]
     },
     "metadata": {
      "needs_background": "light"
     },
     "output_type": "display_data"
    }
   ],
   "source": [
    "plt.plot(dataset)\n",
    "plt.plot(trainPretictPlot)\n",
    "plt.plot(testPredictPlot)\n",
    "plt.show()"
   ]
  },
  {
   "cell_type": "code",
   "execution_count": null,
   "metadata": {},
   "outputs": [],
   "source": []
  }
 ],
 "metadata": {
  "kernelspec": {
   "display_name": "Python 3",
   "language": "python",
   "name": "python3"
  },
  "language_info": {
   "codemirror_mode": {
    "name": "ipython",
    "version": 3
   },
   "file_extension": ".py",
   "mimetype": "text/x-python",
   "name": "python",
   "nbconvert_exporter": "python",
   "pygments_lexer": "ipython3",
   "version": "3.7.6"
  }
 },
 "nbformat": 4,
 "nbformat_minor": 4
}
