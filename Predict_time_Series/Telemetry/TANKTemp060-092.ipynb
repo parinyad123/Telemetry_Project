{
 "cells": [
  {
   "cell_type": "code",
   "execution_count": 2,
   "metadata": {},
   "outputs": [],
   "source": [
    "import numpy as np\n",
    "import pandas as pd\n",
    "import matplotlib.pyplot as plt\n",
    "%matplotlib inline\n",
    "from statsmodels.tools.eval_measures import rmse\n",
    "from sklearn.preprocessing import MinMaxScaler\n",
    "from keras.preprocessing.sequence import TimeseriesGenerator\n",
    "from keras.models import Sequential\n",
    "from keras.layers import Dense\n",
    "from keras.layers import LSTM\n",
    "from keras.layers import Dropout\n",
    "import warnings\n",
    "warnings.filterwarnings(\"ignore\")"
   ]
  },
  {
   "cell_type": "code",
   "execution_count": 343,
   "metadata": {},
   "outputs": [],
   "source": [
    "data = pd.read_csv('TANKTEMP060-092.txt',delimiter=\"\\t\", header=None, names=[\"date\", \"value\"])"
   ]
  },
  {
   "cell_type": "code",
   "execution_count": 344,
   "metadata": {},
   "outputs": [
    {
     "data": {
      "text/html": [
       "<div>\n",
       "<style scoped>\n",
       "    .dataframe tbody tr th:only-of-type {\n",
       "        vertical-align: middle;\n",
       "    }\n",
       "\n",
       "    .dataframe tbody tr th {\n",
       "        vertical-align: top;\n",
       "    }\n",
       "\n",
       "    .dataframe thead th {\n",
       "        text-align: right;\n",
       "    }\n",
       "</style>\n",
       "<table border=\"1\" class=\"dataframe\">\n",
       "  <thead>\n",
       "    <tr style=\"text-align: right;\">\n",
       "      <th></th>\n",
       "      <th>date</th>\n",
       "      <th>value</th>\n",
       "    </tr>\n",
       "  </thead>\n",
       "  <tbody>\n",
       "    <tr>\n",
       "      <th>0</th>\n",
       "      <td>2015-085-01:47:10.114</td>\n",
       "      <td>19.311741</td>\n",
       "    </tr>\n",
       "    <tr>\n",
       "      <th>1</th>\n",
       "      <td>2015-085-01:47:10.882</td>\n",
       "      <td>19.311700</td>\n",
       "    </tr>\n",
       "    <tr>\n",
       "      <th>2</th>\n",
       "      <td>2015-085-01:48:22.882</td>\n",
       "      <td>19.311700</td>\n",
       "    </tr>\n",
       "    <tr>\n",
       "      <th>3</th>\n",
       "      <td>2015-085-01:49:18.114</td>\n",
       "      <td>19.311741</td>\n",
       "    </tr>\n",
       "    <tr>\n",
       "      <th>4</th>\n",
       "      <td>2015-085-01:50:46.882</td>\n",
       "      <td>19.311700</td>\n",
       "    </tr>\n",
       "  </tbody>\n",
       "</table>\n",
       "</div>"
      ],
      "text/plain": [
       "                    date      value\n",
       "0  2015-085-01:47:10.114  19.311741\n",
       "1  2015-085-01:47:10.882  19.311700\n",
       "2  2015-085-01:48:22.882  19.311700\n",
       "3  2015-085-01:49:18.114  19.311741\n",
       "4  2015-085-01:50:46.882  19.311700"
      ]
     },
     "execution_count": 344,
     "metadata": {},
     "output_type": "execute_result"
    }
   ],
   "source": [
    "data.head()"
   ]
  },
  {
   "cell_type": "code",
   "execution_count": 345,
   "metadata": {},
   "outputs": [
    {
     "data": {
      "text/html": [
       "<div>\n",
       "<style scoped>\n",
       "    .dataframe tbody tr th:only-of-type {\n",
       "        vertical-align: middle;\n",
       "    }\n",
       "\n",
       "    .dataframe tbody tr th {\n",
       "        vertical-align: top;\n",
       "    }\n",
       "\n",
       "    .dataframe thead th {\n",
       "        text-align: right;\n",
       "    }\n",
       "</style>\n",
       "<table border=\"1\" class=\"dataframe\">\n",
       "  <thead>\n",
       "    <tr style=\"text-align: right;\">\n",
       "      <th></th>\n",
       "      <th>date</th>\n",
       "      <th>value</th>\n",
       "      <th>StandardTime</th>\n",
       "    </tr>\n",
       "  </thead>\n",
       "  <tbody>\n",
       "    <tr>\n",
       "      <th>0</th>\n",
       "      <td>2015-085-01:47:10.114</td>\n",
       "      <td>19.311741</td>\n",
       "      <td>0</td>\n",
       "    </tr>\n",
       "    <tr>\n",
       "      <th>1</th>\n",
       "      <td>2015-085-01:47:10.882</td>\n",
       "      <td>19.311700</td>\n",
       "      <td>0</td>\n",
       "    </tr>\n",
       "    <tr>\n",
       "      <th>2</th>\n",
       "      <td>2015-085-01:48:22.882</td>\n",
       "      <td>19.311700</td>\n",
       "      <td>0</td>\n",
       "    </tr>\n",
       "    <tr>\n",
       "      <th>3</th>\n",
       "      <td>2015-085-01:49:18.114</td>\n",
       "      <td>19.311741</td>\n",
       "      <td>0</td>\n",
       "    </tr>\n",
       "    <tr>\n",
       "      <th>4</th>\n",
       "      <td>2015-085-01:50:46.882</td>\n",
       "      <td>19.311700</td>\n",
       "      <td>0</td>\n",
       "    </tr>\n",
       "  </tbody>\n",
       "</table>\n",
       "</div>"
      ],
      "text/plain": [
       "                    date      value  StandardTime\n",
       "0  2015-085-01:47:10.114  19.311741             0\n",
       "1  2015-085-01:47:10.882  19.311700             0\n",
       "2  2015-085-01:48:22.882  19.311700             0\n",
       "3  2015-085-01:49:18.114  19.311741             0\n",
       "4  2015-085-01:50:46.882  19.311700             0"
      ]
     },
     "execution_count": 345,
     "metadata": {},
     "output_type": "execute_result"
    }
   ],
   "source": [
    "data['StandardTime']=0\n",
    "data.head()"
   ]
  },
  {
   "cell_type": "code",
   "execution_count": 346,
   "metadata": {},
   "outputs": [],
   "source": [
    "import calendar\n",
    "import datetime\n",
    "\n",
    "for i in range(len(data)):\n",
    "    dd=data['date'][i].split('-')\n",
    "    yy=int(dd[0])\n",
    "    jd=int(dd[1])\n",
    "    sec=dd[2].split(':')\n",
    "    ss=sec[2][:-4]\n",
    "    mm=sec[2][-3:]\n",
    "    month = 1\n",
    "    day = 0\n",
    "    while jd - calendar.monthrange(y,month)[1] > 0 and month <= 12:\n",
    "        jd = jd - calendar.monthrange(y,month)[1]\n",
    "        month = month + 1\n",
    "\n",
    "    data['StandardTime'][i]=datetime.datetime(yy, month, jd, int(sec[0]),int(sec[1]),int(ss),int(mm)*1000)"
   ]
  },
  {
   "cell_type": "code",
   "execution_count": 347,
   "metadata": {},
   "outputs": [
    {
     "data": {
      "text/html": [
       "<div>\n",
       "<style scoped>\n",
       "    .dataframe tbody tr th:only-of-type {\n",
       "        vertical-align: middle;\n",
       "    }\n",
       "\n",
       "    .dataframe tbody tr th {\n",
       "        vertical-align: top;\n",
       "    }\n",
       "\n",
       "    .dataframe thead th {\n",
       "        text-align: right;\n",
       "    }\n",
       "</style>\n",
       "<table border=\"1\" class=\"dataframe\">\n",
       "  <thead>\n",
       "    <tr style=\"text-align: right;\">\n",
       "      <th></th>\n",
       "      <th>date</th>\n",
       "      <th>value</th>\n",
       "      <th>StandardTime</th>\n",
       "    </tr>\n",
       "  </thead>\n",
       "  <tbody>\n",
       "    <tr>\n",
       "      <th>0</th>\n",
       "      <td>2015-085-01:47:10.114</td>\n",
       "      <td>19.311741</td>\n",
       "      <td>2015-03-26 01:47:10.114000</td>\n",
       "    </tr>\n",
       "    <tr>\n",
       "      <th>1</th>\n",
       "      <td>2015-085-01:47:10.882</td>\n",
       "      <td>19.311700</td>\n",
       "      <td>2015-03-26 01:47:10.882000</td>\n",
       "    </tr>\n",
       "    <tr>\n",
       "      <th>2</th>\n",
       "      <td>2015-085-01:48:22.882</td>\n",
       "      <td>19.311700</td>\n",
       "      <td>2015-03-26 01:48:22.882000</td>\n",
       "    </tr>\n",
       "    <tr>\n",
       "      <th>3</th>\n",
       "      <td>2015-085-01:49:18.114</td>\n",
       "      <td>19.311741</td>\n",
       "      <td>2015-03-26 01:49:18.114000</td>\n",
       "    </tr>\n",
       "    <tr>\n",
       "      <th>4</th>\n",
       "      <td>2015-085-01:50:46.882</td>\n",
       "      <td>19.311700</td>\n",
       "      <td>2015-03-26 01:50:46.882000</td>\n",
       "    </tr>\n",
       "  </tbody>\n",
       "</table>\n",
       "</div>"
      ],
      "text/plain": [
       "                    date      value                StandardTime\n",
       "0  2015-085-01:47:10.114  19.311741  2015-03-26 01:47:10.114000\n",
       "1  2015-085-01:47:10.882  19.311700  2015-03-26 01:47:10.882000\n",
       "2  2015-085-01:48:22.882  19.311700  2015-03-26 01:48:22.882000\n",
       "3  2015-085-01:49:18.114  19.311741  2015-03-26 01:49:18.114000\n",
       "4  2015-085-01:50:46.882  19.311700  2015-03-26 01:50:46.882000"
      ]
     },
     "execution_count": 347,
     "metadata": {},
     "output_type": "execute_result"
    }
   ],
   "source": [
    "data.head()"
   ]
  },
  {
   "cell_type": "code",
   "execution_count": 365,
   "metadata": {},
   "outputs": [
    {
     "data": {
      "text/html": [
       "<div>\n",
       "<style scoped>\n",
       "    .dataframe tbody tr th:only-of-type {\n",
       "        vertical-align: middle;\n",
       "    }\n",
       "\n",
       "    .dataframe tbody tr th {\n",
       "        vertical-align: top;\n",
       "    }\n",
       "\n",
       "    .dataframe thead th {\n",
       "        text-align: right;\n",
       "    }\n",
       "</style>\n",
       "<table border=\"1\" class=\"dataframe\">\n",
       "  <thead>\n",
       "    <tr style=\"text-align: right;\">\n",
       "      <th></th>\n",
       "      <th>date</th>\n",
       "      <th>value</th>\n",
       "      <th>StandardTime</th>\n",
       "    </tr>\n",
       "  </thead>\n",
       "  <tbody>\n",
       "    <tr>\n",
       "      <th>0</th>\n",
       "      <td>2015-085-01:47:10.114</td>\n",
       "      <td>19.311741</td>\n",
       "      <td>2015-03-26 01:47:10.114000</td>\n",
       "    </tr>\n",
       "    <tr>\n",
       "      <th>1</th>\n",
       "      <td>2015-085-01:47:10.882</td>\n",
       "      <td>19.311700</td>\n",
       "      <td>2015-03-26 01:47:10.882000</td>\n",
       "    </tr>\n",
       "    <tr>\n",
       "      <th>2</th>\n",
       "      <td>2015-085-01:48:22.882</td>\n",
       "      <td>19.311700</td>\n",
       "      <td>2015-03-26 01:48:22.882000</td>\n",
       "    </tr>\n",
       "    <tr>\n",
       "      <th>3</th>\n",
       "      <td>2015-085-01:49:18.114</td>\n",
       "      <td>19.311741</td>\n",
       "      <td>2015-03-26 01:49:18.114000</td>\n",
       "    </tr>\n",
       "    <tr>\n",
       "      <th>4</th>\n",
       "      <td>2015-085-01:50:46.882</td>\n",
       "      <td>19.311700</td>\n",
       "      <td>2015-03-26 01:50:46.882000</td>\n",
       "    </tr>\n",
       "  </tbody>\n",
       "</table>\n",
       "</div>"
      ],
      "text/plain": [
       "                    date      value                StandardTime\n",
       "0  2015-085-01:47:10.114  19.311741  2015-03-26 01:47:10.114000\n",
       "1  2015-085-01:47:10.882  19.311700  2015-03-26 01:47:10.882000\n",
       "2  2015-085-01:48:22.882  19.311700  2015-03-26 01:48:22.882000\n",
       "3  2015-085-01:49:18.114  19.311741  2015-03-26 01:49:18.114000\n",
       "4  2015-085-01:50:46.882  19.311700  2015-03-26 01:50:46.882000"
      ]
     },
     "execution_count": 365,
     "metadata": {},
     "output_type": "execute_result"
    }
   ],
   "source": [
    "data_std = data.copy()\n",
    "data_std.head()"
   ]
  },
  {
   "cell_type": "code",
   "execution_count": 366,
   "metadata": {},
   "outputs": [
    {
     "data": {
      "text/html": [
       "<div>\n",
       "<style scoped>\n",
       "    .dataframe tbody tr th:only-of-type {\n",
       "        vertical-align: middle;\n",
       "    }\n",
       "\n",
       "    .dataframe tbody tr th {\n",
       "        vertical-align: top;\n",
       "    }\n",
       "\n",
       "    .dataframe thead th {\n",
       "        text-align: right;\n",
       "    }\n",
       "</style>\n",
       "<table border=\"1\" class=\"dataframe\">\n",
       "  <thead>\n",
       "    <tr style=\"text-align: right;\">\n",
       "      <th></th>\n",
       "      <th>value</th>\n",
       "      <th>StandardTime</th>\n",
       "    </tr>\n",
       "  </thead>\n",
       "  <tbody>\n",
       "    <tr>\n",
       "      <th>0</th>\n",
       "      <td>19.311741</td>\n",
       "      <td>2015-03-26 01:47:10.114000</td>\n",
       "    </tr>\n",
       "    <tr>\n",
       "      <th>1</th>\n",
       "      <td>19.311700</td>\n",
       "      <td>2015-03-26 01:47:10.882000</td>\n",
       "    </tr>\n",
       "    <tr>\n",
       "      <th>2</th>\n",
       "      <td>19.311700</td>\n",
       "      <td>2015-03-26 01:48:22.882000</td>\n",
       "    </tr>\n",
       "    <tr>\n",
       "      <th>3</th>\n",
       "      <td>19.311741</td>\n",
       "      <td>2015-03-26 01:49:18.114000</td>\n",
       "    </tr>\n",
       "    <tr>\n",
       "      <th>4</th>\n",
       "      <td>19.311700</td>\n",
       "      <td>2015-03-26 01:50:46.882000</td>\n",
       "    </tr>\n",
       "  </tbody>\n",
       "</table>\n",
       "</div>"
      ],
      "text/plain": [
       "       value                StandardTime\n",
       "0  19.311741  2015-03-26 01:47:10.114000\n",
       "1  19.311700  2015-03-26 01:47:10.882000\n",
       "2  19.311700  2015-03-26 01:48:22.882000\n",
       "3  19.311741  2015-03-26 01:49:18.114000\n",
       "4  19.311700  2015-03-26 01:50:46.882000"
      ]
     },
     "execution_count": 366,
     "metadata": {},
     "output_type": "execute_result"
    }
   ],
   "source": [
    "data_std.drop('date', axis=1, inplace=True)\n",
    "data_std.head()"
   ]
  },
  {
   "cell_type": "code",
   "execution_count": 368,
   "metadata": {},
   "outputs": [],
   "source": [
    "data_std.StandardTime = pd.to_datetime(data_std.StandardTime)\n",
    "data_std = data_std.set_index('StandardTime')"
   ]
  },
  {
   "cell_type": "code",
   "execution_count": 370,
   "metadata": {},
   "outputs": [
    {
     "data": {
      "text/html": [
       "<div>\n",
       "<style scoped>\n",
       "    .dataframe tbody tr th:only-of-type {\n",
       "        vertical-align: middle;\n",
       "    }\n",
       "\n",
       "    .dataframe tbody tr th {\n",
       "        vertical-align: top;\n",
       "    }\n",
       "\n",
       "    .dataframe thead th {\n",
       "        text-align: right;\n",
       "    }\n",
       "</style>\n",
       "<table border=\"1\" class=\"dataframe\">\n",
       "  <thead>\n",
       "    <tr style=\"text-align: right;\">\n",
       "      <th></th>\n",
       "      <th>value</th>\n",
       "    </tr>\n",
       "    <tr>\n",
       "      <th>StandardTime</th>\n",
       "      <th></th>\n",
       "    </tr>\n",
       "  </thead>\n",
       "  <tbody>\n",
       "    <tr>\n",
       "      <th>2015-03-26 01:47:10.114</th>\n",
       "      <td>19.311741</td>\n",
       "    </tr>\n",
       "    <tr>\n",
       "      <th>2015-03-26 01:47:10.882</th>\n",
       "      <td>19.311700</td>\n",
       "    </tr>\n",
       "    <tr>\n",
       "      <th>2015-03-26 01:48:22.882</th>\n",
       "      <td>19.311700</td>\n",
       "    </tr>\n",
       "    <tr>\n",
       "      <th>2015-03-26 01:49:18.114</th>\n",
       "      <td>19.311741</td>\n",
       "    </tr>\n",
       "    <tr>\n",
       "      <th>2015-03-26 01:50:46.882</th>\n",
       "      <td>19.311700</td>\n",
       "    </tr>\n",
       "  </tbody>\n",
       "</table>\n",
       "</div>"
      ],
      "text/plain": [
       "                             value\n",
       "StandardTime                      \n",
       "2015-03-26 01:47:10.114  19.311741\n",
       "2015-03-26 01:47:10.882  19.311700\n",
       "2015-03-26 01:48:22.882  19.311700\n",
       "2015-03-26 01:49:18.114  19.311741\n",
       "2015-03-26 01:50:46.882  19.311700"
      ]
     },
     "execution_count": 370,
     "metadata": {},
     "output_type": "execute_result"
    }
   ],
   "source": [
    "data_std.head()"
   ]
  },
  {
   "cell_type": "code",
   "execution_count": 379,
   "metadata": {},
   "outputs": [
    {
     "data": {
      "text/plain": [
       "Text(0.5, 0, 'Time')"
      ]
     },
     "execution_count": 379,
     "metadata": {},
     "output_type": "execute_result"
    },
    {
     "data": {
      "image/png": "[encoded data removed]",
      "text/plain": [
       "<Figure size 1440x432 with 1 Axes>"
      ]
     },
     "metadata": {
      "needs_background": "light"
     },
     "output_type": "display_data"
    }
   ],
   "source": [
    "plt.figure(figsize=(20,6))\n",
    "plt.plot(data_std)\n",
    "plt.xlabel('Time')"
   ]
  },
  {
   "cell_type": "code",
   "execution_count": 372,
   "metadata": {},
   "outputs": [
    {
     "data": {
      "text/html": [
       "<div>\n",
       "<style scoped>\n",
       "    .dataframe tbody tr th:only-of-type {\n",
       "        vertical-align: middle;\n",
       "    }\n",
       "\n",
       "    .dataframe tbody tr th {\n",
       "        vertical-align: top;\n",
       "    }\n",
       "\n",
       "    .dataframe thead th {\n",
       "        text-align: right;\n",
       "    }\n",
       "</style>\n",
       "<table border=\"1\" class=\"dataframe\">\n",
       "  <thead>\n",
       "    <tr style=\"text-align: right;\">\n",
       "      <th></th>\n",
       "      <th>value</th>\n",
       "    </tr>\n",
       "    <tr>\n",
       "      <th>StandardTime</th>\n",
       "      <th></th>\n",
       "    </tr>\n",
       "  </thead>\n",
       "  <tbody>\n",
       "    <tr>\n",
       "      <th>2015-03-26 01:47:10.114</th>\n",
       "      <td>19.311741</td>\n",
       "    </tr>\n",
       "    <tr>\n",
       "      <th>2015-03-26 01:47:10.882</th>\n",
       "      <td>19.311700</td>\n",
       "    </tr>\n",
       "    <tr>\n",
       "      <th>2015-03-26 01:48:22.882</th>\n",
       "      <td>19.311700</td>\n",
       "    </tr>\n",
       "    <tr>\n",
       "      <th>2015-03-26 01:49:18.114</th>\n",
       "      <td>19.311741</td>\n",
       "    </tr>\n",
       "    <tr>\n",
       "      <th>2015-03-26 01:50:46.882</th>\n",
       "      <td>19.311700</td>\n",
       "    </tr>\n",
       "  </tbody>\n",
       "</table>\n",
       "</div>"
      ],
      "text/plain": [
       "                             value\n",
       "StandardTime                      \n",
       "2015-03-26 01:47:10.114  19.311741\n",
       "2015-03-26 01:47:10.882  19.311700\n",
       "2015-03-26 01:48:22.882  19.311700\n",
       "2015-03-26 01:49:18.114  19.311741\n",
       "2015-03-26 01:50:46.882  19.311700"
      ]
     },
     "execution_count": 372,
     "metadata": {},
     "output_type": "execute_result"
    }
   ],
   "source": [
    "df=data_std.copy()\n",
    "df.head()"
   ]
  },
  {
   "cell_type": "code",
   "execution_count": 375,
   "metadata": {},
   "outputs": [
    {
     "name": "stdout",
     "output_type": "stream",
     "text": [
      "length = 6079\n"
     ]
    }
   ],
   "source": [
    "print('length = ' +str(len(df)))"
   ]
  },
  {
   "cell_type": "code",
   "execution_count": 376,
   "metadata": {},
   "outputs": [],
   "source": [
    "train, test = df[:-500], df[-500:]"
   ]
  },
  {
   "cell_type": "code",
   "execution_count": 378,
   "metadata": {},
   "outputs": [],
   "source": [
    "scaler = MinMaxScaler()\n",
    "scaler.fit(train)\n",
    "train = scaler.transform(train)\n",
    "test = scaler.transform(test)"
   ]
  },
  {
   "cell_type": "code",
   "execution_count": null,
   "metadata": {},
   "outputs": [],
   "source": [
    "n_index = 100\n",
    "n_features = 1\n",
    "\n",
    "generator = TimeseriesGenerator(train, train, length=n_input, batch_size=100)\n",
    "\n",
    "model = Sequential()\n",
    "model.add(LSTM(200, activation='relu', input_shape=(n_input, n_features)))\n",
    "model.add()\n",
    "\n"
   ]
  },
  {
   "cell_type": "code",
   "execution_count": null,
   "metadata": {},
   "outputs": [],
   "source": []
  },
  {
   "cell_type": "code",
   "execution_count": null,
   "metadata": {},
   "outputs": [],
   "source": []
  },
  {
   "cell_type": "code",
   "execution_count": null,
   "metadata": {},
   "outputs": [],
   "source": []
  },
  {
   "cell_type": "code",
   "execution_count": 241,
   "metadata": {},
   "outputs": [
    {
     "name": "stdout",
     "output_type": "stream",
     "text": [
      "2020-03-02 11:51:45.654\n"
     ]
    }
   ],
   "source": [
    "print (datetime.utcnow().strftime('%Y-%m-%d %H:%M:%S.%f')[:-3])"
   ]
  },
  {
   "cell_type": "code",
   "execution_count": 259,
   "metadata": {},
   "outputs": [
    {
     "name": "stdout",
     "output_type": "stream",
     "text": [
      "2020-05-17 04:30:28\n"
     ]
    }
   ],
   "source": [
    "import datetime\n",
    "\n",
    "x = datetime.datetime(2020, 5, 17, 4,30,28)\n",
    "print(x)"
   ]
  },
  {
   "cell_type": "code",
   "execution_count": 319,
   "metadata": {},
   "outputs": [
    {
     "name": "stdout",
     "output_type": "stream",
     "text": [
      "<class 'str'>\n",
      "45\n",
      "345\n",
      "<class 'str'>\n",
      "2020-05-17 02:54:45.345000\n"
     ]
    }
   ],
   "source": [
    "sec='2:54:45.345'\n",
    "sec1=sec.split(':')\n",
    "sec1[1]\n",
    "print(type(sec1[2]))\n",
    "print(sec1[2][:-4])\n",
    "ss=sec1[2][:-4]\n",
    "mm=sec1[2][-3:]\n",
    "print(mm)\n",
    "print(type(mm))\n",
    "x = datetime.datetime(2020, 5, 17, int(sec1[0]),int(sec1[1]),int(ss),int(mm)*1000)\n",
    "print(x)\n",
    "\n",
    "# print(datetime.strptime('30/03/09 16:31:32.123', '%d/%m/%y %H:%M:%S.%f'))"
   ]
  },
  {
   "cell_type": "code",
   "execution_count": 324,
   "metadata": {
    "scrolled": false
   },
   "outputs": [],
   "source": [
    "import calendar\n",
    "import datetime\n",
    "\n",
    "for i in range(len(data)):\n",
    "    dd=data['date'][i].split('-')\n",
    "    yy=int(dd[0])\n",
    "    jd=int(dd[1])\n",
    "    sec=dd[2].split(':')\n",
    "    ss=sec[2][:-4]\n",
    "    mm=sec[2][-3:]\n",
    "    month = 1\n",
    "    day = 0\n",
    "    while jd - calendar.monthrange(y,month)[1] > 0 and month <= 12:\n",
    "        jd = jd - calendar.monthrange(y,month)[1]\n",
    "        month = month + 1\n",
    "\n",
    "    data['ddd'][i]=datetime.datetime(yy, month, jd, int(sec[0]),int(sec[1]),int(ss),int(mm)*1000)\n",
    "                                \n",
    "    "
   ]
  },
  {
   "cell_type": "code",
   "execution_count": 325,
   "metadata": {},
   "outputs": [
    {
     "data": {
      "text/html": [
       "<div>\n",
       "<style scoped>\n",
       "    .dataframe tbody tr th:only-of-type {\n",
       "        vertical-align: middle;\n",
       "    }\n",
       "\n",
       "    .dataframe tbody tr th {\n",
       "        vertical-align: top;\n",
       "    }\n",
       "\n",
       "    .dataframe thead th {\n",
       "        text-align: right;\n",
       "    }\n",
       "</style>\n",
       "<table border=\"1\" class=\"dataframe\">\n",
       "  <thead>\n",
       "    <tr style=\"text-align: right;\">\n",
       "      <th></th>\n",
       "      <th>date</th>\n",
       "      <th>value</th>\n",
       "      <th>da</th>\n",
       "      <th>ddd</th>\n",
       "    </tr>\n",
       "  </thead>\n",
       "  <tbody>\n",
       "    <tr>\n",
       "      <th>0</th>\n",
       "      <td>2015-085-01:47:10.114</td>\n",
       "      <td>19.311741</td>\n",
       "      <td>38.623482</td>\n",
       "      <td>2015-03-26 01:47:10.114000</td>\n",
       "    </tr>\n",
       "    <tr>\n",
       "      <th>1</th>\n",
       "      <td>2015-085-01:47:10.882</td>\n",
       "      <td>19.311700</td>\n",
       "      <td>38.623400</td>\n",
       "      <td>2015-03-26 01:47:10.882000</td>\n",
       "    </tr>\n",
       "    <tr>\n",
       "      <th>2</th>\n",
       "      <td>2015-085-01:48:22.882</td>\n",
       "      <td>19.311700</td>\n",
       "      <td>38.623400</td>\n",
       "      <td>2015-03-26 01:48:22.882000</td>\n",
       "    </tr>\n",
       "    <tr>\n",
       "      <th>3</th>\n",
       "      <td>2015-085-01:49:18.114</td>\n",
       "      <td>19.311741</td>\n",
       "      <td>38.623482</td>\n",
       "      <td>2015-03-26 01:49:18.114000</td>\n",
       "    </tr>\n",
       "    <tr>\n",
       "      <th>4</th>\n",
       "      <td>2015-085-01:50:46.882</td>\n",
       "      <td>19.311700</td>\n",
       "      <td>38.623400</td>\n",
       "      <td>2015-03-26 01:50:46.882000</td>\n",
       "    </tr>\n",
       "  </tbody>\n",
       "</table>\n",
       "</div>"
      ],
      "text/plain": [
       "                    date      value         da                         ddd\n",
       "0  2015-085-01:47:10.114  19.311741  38.623482  2015-03-26 01:47:10.114000\n",
       "1  2015-085-01:47:10.882  19.311700  38.623400  2015-03-26 01:47:10.882000\n",
       "2  2015-085-01:48:22.882  19.311700  38.623400  2015-03-26 01:48:22.882000\n",
       "3  2015-085-01:49:18.114  19.311741  38.623482  2015-03-26 01:49:18.114000\n",
       "4  2015-085-01:50:46.882  19.311700  38.623400  2015-03-26 01:50:46.882000"
      ]
     },
     "execution_count": 325,
     "metadata": {},
     "output_type": "execute_result"
    }
   ],
   "source": [
    "data.head()"
   ]
  },
  {
   "cell_type": "code",
   "execution_count": 224,
   "metadata": {},
   "outputs": [
    {
     "data": {
      "text/plain": [
       "datetime.datetime(2016, 3, 22, 12, 33, 45, 756500)"
      ]
     },
     "execution_count": 224,
     "metadata": {},
     "output_type": "execute_result"
    }
   ],
   "source": [
    "aa=datetime.datetime(2016, 3, 22, 12, 33, 45, 756500)\n",
    "aa"
   ]
  },
  {
   "cell_type": "code",
   "execution_count": 268,
   "metadata": {},
   "outputs": [
    {
     "name": "stdout",
     "output_type": "stream",
     "text": [
      "<class 'datetime.datetime'>\n",
      "2018-09-19 13:55:26\n"
     ]
    }
   ],
   "source": [
    "from datetime import datetime\n",
    "\n",
    "datetime_str = '09/19/18 13:55:26'\n",
    "\n",
    "datetime_object = datetime.strptime(datetime_str, '%m/%d/%y %H:%M:%S')\n",
    "\n",
    "print(type(datetime_object))\n",
    "print(datetime_object)"
   ]
  },
  {
   "cell_type": "code",
   "execution_count": 309,
   "metadata": {},
   "outputs": [
    {
     "name": "stdout",
     "output_type": "stream",
     "text": [
      "2018-10-10 03:38:01.112000\n",
      "Wed\n"
     ]
    }
   ],
   "source": [
    "import datetime\n",
    " \n",
    "# YYYY-MM-DD HH:MM:SS.MS \n",
    "xt = datetime.datetime(2018, 10, 10, 3, 38, 1, 112*1000)\n",
    "print(xt)\n",
    " \n",
    "print(xt.strftime(\"%a\"))"
   ]
  },
  {
   "cell_type": "code",
   "execution_count": 293,
   "metadata": {},
   "outputs": [
    {
     "data": {
      "text/plain": [
       "'345'"
      ]
     },
     "execution_count": 293,
     "metadata": {},
     "output_type": "execute_result"
    }
   ],
   "source": [
    "a=\"45.345\"\n",
    "qa=a[-3:]\n",
    "qa"
   ]
  },
  {
   "cell_type": "markdown",
   "metadata": {},
   "source": [
    "## Converse Julial date To Standard date"
   ]
  },
  {
   "cell_type": "code",
   "execution_count": null,
   "metadata": {},
   "outputs": [],
   "source": [
    "import calendar\n",
    "\n",
    "def JulianDate_to_MMDDYYY(y,jd):\n",
    "    month = 1\n",
    "    day = 0\n",
    "    while jd - calendar.monthrange(y,month)[1] > 0 and month <= 12:\n",
    "        jd = jd - calendar.monthrange(y,month)[1]\n",
    "        month = month + 1\n",
    "    print (month,jd,y)\n",
    "    print (type(month))\n",
    "    \n",
    "\n",
    "JulianDate_to_MMDDYYY(2008,67)\n"
   ]
  }
 ],
 "metadata": {
  "kernelspec": {
   "display_name": "Python 3",
   "language": "python",
   "name": "python3"
  },
  "language_info": {
   "codemirror_mode": {
    "name": "ipython",
    "version": 3
   },
   "file_extension": ".py",
   "mimetype": "text/x-python",
   "name": "python",
   "nbconvert_exporter": "python",
   "pygments_lexer": "ipython3",
   "version": "3.6.10"
  }
 },
 "nbformat": 4,
 "nbformat_minor": 4
}
