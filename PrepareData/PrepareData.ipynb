{
 "cells": [
  {
   "cell_type": "code",
   "execution_count": 2,
   "metadata": {},
   "outputs": [],
   "source": [
    "import pandas as pd\n",
    "\n",
    "import calendar\n",
    "import datetime"
   ]
  },
  {
   "cell_type": "markdown",
   "metadata": {},
   "source": [
    "## Import data"
   ]
  },
  {
   "cell_type": "code",
   "execution_count": 3,
   "metadata": {},
   "outputs": [
    {
     "data": {
      "text/html": [
       "<div>\n",
       "<style scoped>\n",
       "    .dataframe tbody tr th:only-of-type {\n",
       "        vertical-align: middle;\n",
       "    }\n",
       "\n",
       "    .dataframe tbody tr th {\n",
       "        vertical-align: top;\n",
       "    }\n",
       "\n",
       "    .dataframe thead th {\n",
       "        text-align: right;\n",
       "    }\n",
       "</style>\n",
       "<table border=\"1\" class=\"dataframe\">\n",
       "  <thead>\n",
       "    <tr style=\"text-align: right;\">\n",
       "      <th></th>\n",
       "      <th>date</th>\n",
       "      <th>value</th>\n",
       "    </tr>\n",
       "  </thead>\n",
       "  <tbody>\n",
       "    <tr>\n",
       "      <th>0</th>\n",
       "      <td>2015-060-00:00:30.114</td>\n",
       "      <td>18.744939</td>\n",
       "    </tr>\n",
       "    <tr>\n",
       "      <th>1</th>\n",
       "      <td>2015-060-00:00:30.882</td>\n",
       "      <td>18.744900</td>\n",
       "    </tr>\n",
       "    <tr>\n",
       "      <th>2</th>\n",
       "      <td>2015-060-00:02:38.114</td>\n",
       "      <td>18.785425</td>\n",
       "    </tr>\n",
       "    <tr>\n",
       "      <th>3</th>\n",
       "      <td>2015-060-00:02:38.882</td>\n",
       "      <td>18.785400</td>\n",
       "    </tr>\n",
       "    <tr>\n",
       "      <th>4</th>\n",
       "      <td>2015-060-00:04:46.114</td>\n",
       "      <td>18.785425</td>\n",
       "    </tr>\n",
       "    <tr>\n",
       "      <th>...</th>\n",
       "      <td>...</td>\n",
       "      <td>...</td>\n",
       "    </tr>\n",
       "    <tr>\n",
       "      <th>32117</th>\n",
       "      <td>2015-098-02:25:34.114</td>\n",
       "      <td>18.502024</td>\n",
       "    </tr>\n",
       "    <tr>\n",
       "      <th>32118</th>\n",
       "      <td>2015-098-02:27:42.114</td>\n",
       "      <td>18.502024</td>\n",
       "    </tr>\n",
       "    <tr>\n",
       "      <th>32119</th>\n",
       "      <td>2015-098-02:29:50.110</td>\n",
       "      <td>18.542510</td>\n",
       "    </tr>\n",
       "    <tr>\n",
       "      <th>32120</th>\n",
       "      <td>2015-098-02:31:58.114</td>\n",
       "      <td>18.542510</td>\n",
       "    </tr>\n",
       "    <tr>\n",
       "      <th>32121</th>\n",
       "      <td>2015-098-02:34:06.114</td>\n",
       "      <td>18.502024</td>\n",
       "    </tr>\n",
       "  </tbody>\n",
       "</table>\n",
       "<p>32122 rows × 2 columns</p>\n",
       "</div>"
      ],
      "text/plain": [
       "                        date      value\n",
       "0      2015-060-00:00:30.114  18.744939\n",
       "1      2015-060-00:00:30.882  18.744900\n",
       "2      2015-060-00:02:38.114  18.785425\n",
       "3      2015-060-00:02:38.882  18.785400\n",
       "4      2015-060-00:04:46.114  18.785425\n",
       "...                      ...        ...\n",
       "32117  2015-098-02:25:34.114  18.502024\n",
       "32118  2015-098-02:27:42.114  18.502024\n",
       "32119  2015-098-02:29:50.110  18.542510\n",
       "32120  2015-098-02:31:58.114  18.542510\n",
       "32121  2015-098-02:34:06.114  18.502024\n",
       "\n",
       "[32122 rows x 2 columns]"
      ]
     },
     "execution_count": 3,
     "metadata": {},
     "output_type": "execute_result"
    }
   ],
   "source": [
    "data = pd.read_csv('TANKTemp060_098.csv',sep=\",\", header=None, names=[\"date\", \"value\"])\n",
    "data"
   ]
  },
  {
   "cell_type": "code",
   "execution_count": 4,
   "metadata": {},
   "outputs": [
    {
     "name": "stdout",
     "output_type": "stream",
     "text": [
      "<class 'pandas.core.frame.DataFrame'>\n",
      "RangeIndex: 32122 entries, 0 to 32121\n",
      "Data columns (total 2 columns):\n",
      " #   Column  Non-Null Count  Dtype  \n",
      "---  ------  --------------  -----  \n",
      " 0   date    32122 non-null  object \n",
      " 1   value   32119 non-null  float64\n",
      "dtypes: float64(1), object(1)\n",
      "memory usage: 502.0+ KB\n"
     ]
    }
   ],
   "source": [
    "data.info()"
   ]
  },
  {
   "cell_type": "code",
   "execution_count": 9,
   "metadata": {},
   "outputs": [
    {
     "data": {
      "text/html": [
       "<div>\n",
       "<style scoped>\n",
       "    .dataframe tbody tr th:only-of-type {\n",
       "        vertical-align: middle;\n",
       "    }\n",
       "\n",
       "    .dataframe tbody tr th {\n",
       "        vertical-align: top;\n",
       "    }\n",
       "\n",
       "    .dataframe thead th {\n",
       "        text-align: right;\n",
       "    }\n",
       "</style>\n",
       "<table border=\"1\" class=\"dataframe\">\n",
       "  <thead>\n",
       "    <tr style=\"text-align: right;\">\n",
       "      <th></th>\n",
       "      <th>date</th>\n",
       "      <th>value</th>\n",
       "    </tr>\n",
       "  </thead>\n",
       "  <tbody>\n",
       "    <tr>\n",
       "      <th>1571</th>\n",
       "      <td>2015-061-13:54:54.882</td>\n",
       "      <td>NaN</td>\n",
       "    </tr>\n",
       "    <tr>\n",
       "      <th>3794</th>\n",
       "      <td>2015-064-01:51:42.875</td>\n",
       "      <td>NaN</td>\n",
       "    </tr>\n",
       "    <tr>\n",
       "      <th>25868</th>\n",
       "      <td>2015-090-03:26:38.882</td>\n",
       "      <td>NaN</td>\n",
       "    </tr>\n",
       "  </tbody>\n",
       "</table>\n",
       "</div>"
      ],
      "text/plain": [
       "                        date  value\n",
       "1571   2015-061-13:54:54.882    NaN\n",
       "3794   2015-064-01:51:42.875    NaN\n",
       "25868  2015-090-03:26:38.882    NaN"
      ]
     },
     "execution_count": 9,
     "metadata": {},
     "output_type": "execute_result"
    }
   ],
   "source": [
    "\n",
    "is_NaN = data.isnull()\n",
    "row_has_NaN = is_NaN.any(axis=1)\n",
    "rows_with_NaN = data[row_has_NaN]\n",
    "\n",
    "rows_with_NaN"
   ]
  },
  {
   "cell_type": "code",
   "execution_count": 5,
   "metadata": {},
   "outputs": [
    {
     "data": {
      "text/html": [
       "<div>\n",
       "<style scoped>\n",
       "    .dataframe tbody tr th:only-of-type {\n",
       "        vertical-align: middle;\n",
       "    }\n",
       "\n",
       "    .dataframe tbody tr th {\n",
       "        vertical-align: top;\n",
       "    }\n",
       "\n",
       "    .dataframe thead th {\n",
       "        text-align: right;\n",
       "    }\n",
       "</style>\n",
       "<table border=\"1\" class=\"dataframe\">\n",
       "  <thead>\n",
       "    <tr style=\"text-align: right;\">\n",
       "      <th></th>\n",
       "      <th>value</th>\n",
       "    </tr>\n",
       "  </thead>\n",
       "  <tbody>\n",
       "    <tr>\n",
       "      <th>count</th>\n",
       "      <td>32119.000000</td>\n",
       "    </tr>\n",
       "    <tr>\n",
       "      <th>mean</th>\n",
       "      <td>19.852985</td>\n",
       "    </tr>\n",
       "    <tr>\n",
       "      <th>std</th>\n",
       "      <td>1.293697</td>\n",
       "    </tr>\n",
       "    <tr>\n",
       "      <th>min</th>\n",
       "      <td>18.137652</td>\n",
       "    </tr>\n",
       "    <tr>\n",
       "      <th>25%</th>\n",
       "      <td>18.947368</td>\n",
       "    </tr>\n",
       "    <tr>\n",
       "      <th>50%</th>\n",
       "      <td>19.716599</td>\n",
       "    </tr>\n",
       "    <tr>\n",
       "      <th>75%</th>\n",
       "      <td>20.752688</td>\n",
       "    </tr>\n",
       "    <tr>\n",
       "      <th>max</th>\n",
       "      <td>110.000000</td>\n",
       "    </tr>\n",
       "  </tbody>\n",
       "</table>\n",
       "</div>"
      ],
      "text/plain": [
       "              value\n",
       "count  32119.000000\n",
       "mean      19.852985\n",
       "std        1.293697\n",
       "min       18.137652\n",
       "25%       18.947368\n",
       "50%       19.716599\n",
       "75%       20.752688\n",
       "max      110.000000"
      ]
     },
     "execution_count": 5,
     "metadata": {},
     "output_type": "execute_result"
    }
   ],
   "source": [
    "data.describe()"
   ]
  },
  {
   "cell_type": "code",
   "execution_count": null,
   "metadata": {},
   "outputs": [],
   "source": []
  },
  {
   "cell_type": "code",
   "execution_count": null,
   "metadata": {},
   "outputs": [],
   "source": []
  },
  {
   "cell_type": "markdown",
   "metadata": {},
   "source": [
    "## Prepare data"
   ]
  },
  {
   "cell_type": "code",
   "execution_count": 3,
   "metadata": {},
   "outputs": [
    {
     "data": {
      "text/html": [
       "<div>\n",
       "<style scoped>\n",
       "    .dataframe tbody tr th:only-of-type {\n",
       "        vertical-align: middle;\n",
       "    }\n",
       "\n",
       "    .dataframe tbody tr th {\n",
       "        vertical-align: top;\n",
       "    }\n",
       "\n",
       "    .dataframe thead th {\n",
       "        text-align: right;\n",
       "    }\n",
       "</style>\n",
       "<table border=\"1\" class=\"dataframe\">\n",
       "  <thead>\n",
       "    <tr style=\"text-align: right;\">\n",
       "      <th></th>\n",
       "      <th>date</th>\n",
       "      <th>value</th>\n",
       "    </tr>\n",
       "  </thead>\n",
       "  <tbody>\n",
       "    <tr>\n",
       "      <th>0</th>\n",
       "      <td>2015-060-00:00:30.114</td>\n",
       "      <td>18.744939</td>\n",
       "    </tr>\n",
       "    <tr>\n",
       "      <th>1</th>\n",
       "      <td>2015-060-00:00:30.882</td>\n",
       "      <td>18.744900</td>\n",
       "    </tr>\n",
       "    <tr>\n",
       "      <th>2</th>\n",
       "      <td>2015-060-00:02:38.114</td>\n",
       "      <td>18.785425</td>\n",
       "    </tr>\n",
       "    <tr>\n",
       "      <th>3</th>\n",
       "      <td>2015-060-00:02:38.882</td>\n",
       "      <td>18.785400</td>\n",
       "    </tr>\n",
       "    <tr>\n",
       "      <th>4</th>\n",
       "      <td>2015-060-00:04:46.114</td>\n",
       "      <td>18.785425</td>\n",
       "    </tr>\n",
       "    <tr>\n",
       "      <th>...</th>\n",
       "      <td>...</td>\n",
       "      <td>...</td>\n",
       "    </tr>\n",
       "    <tr>\n",
       "      <th>1567</th>\n",
       "      <td>2015-061-13:50:22.110</td>\n",
       "      <td>20.698925</td>\n",
       "    </tr>\n",
       "    <tr>\n",
       "      <th>1568</th>\n",
       "      <td>2015-061-13:50:22.877</td>\n",
       "      <td>20.698900</td>\n",
       "    </tr>\n",
       "    <tr>\n",
       "      <th>1569</th>\n",
       "      <td>2015-061-13:52:30.114</td>\n",
       "      <td>20.698925</td>\n",
       "    </tr>\n",
       "    <tr>\n",
       "      <th>1570</th>\n",
       "      <td>2015-061-13:54:38.114</td>\n",
       "      <td>20.698925</td>\n",
       "    </tr>\n",
       "    <tr>\n",
       "      <th>1571</th>\n",
       "      <td>2015-061-13:55:02.877</td>\n",
       "      <td>20.698900</td>\n",
       "    </tr>\n",
       "  </tbody>\n",
       "</table>\n",
       "<p>1572 rows × 2 columns</p>\n",
       "</div>"
      ],
      "text/plain": [
       "                       date      value\n",
       "0     2015-060-00:00:30.114  18.744939\n",
       "1     2015-060-00:00:30.882  18.744900\n",
       "2     2015-060-00:02:38.114  18.785425\n",
       "3     2015-060-00:02:38.882  18.785400\n",
       "4     2015-060-00:04:46.114  18.785425\n",
       "...                     ...        ...\n",
       "1567  2015-061-13:50:22.110  20.698925\n",
       "1568  2015-061-13:50:22.877  20.698900\n",
       "1569  2015-061-13:52:30.114  20.698925\n",
       "1570  2015-061-13:54:38.114  20.698925\n",
       "1571  2015-061-13:55:02.877  20.698900\n",
       "\n",
       "[1572 rows x 2 columns]"
      ]
     },
     "execution_count": 3,
     "metadata": {},
     "output_type": "execute_result"
    }
   ],
   "source": [
    "data.dropna(inplace=True)\n",
    "# data.reindex(data)\n",
    "\n",
    "\n",
    "\n",
    "data.reset_index(drop=True, inplace = True)\n",
    "data.head(1572)"
   ]
  },
  {
   "cell_type": "code",
   "execution_count": 4,
   "metadata": {},
   "outputs": [
    {
     "data": {
      "text/html": [
       "<div>\n",
       "<style scoped>\n",
       "    .dataframe tbody tr th:only-of-type {\n",
       "        vertical-align: middle;\n",
       "    }\n",
       "\n",
       "    .dataframe tbody tr th {\n",
       "        vertical-align: top;\n",
       "    }\n",
       "\n",
       "    .dataframe thead th {\n",
       "        text-align: right;\n",
       "    }\n",
       "</style>\n",
       "<table border=\"1\" class=\"dataframe\">\n",
       "  <thead>\n",
       "    <tr style=\"text-align: right;\">\n",
       "      <th></th>\n",
       "      <th>date</th>\n",
       "      <th>value</th>\n",
       "      <th>StandardTime</th>\n",
       "    </tr>\n",
       "  </thead>\n",
       "  <tbody>\n",
       "    <tr>\n",
       "      <th>0</th>\n",
       "      <td>2015-060-00:00:30.114</td>\n",
       "      <td>18.744939</td>\n",
       "      <td>0</td>\n",
       "    </tr>\n",
       "    <tr>\n",
       "      <th>1</th>\n",
       "      <td>2015-060-00:00:30.882</td>\n",
       "      <td>18.744900</td>\n",
       "      <td>0</td>\n",
       "    </tr>\n",
       "    <tr>\n",
       "      <th>2</th>\n",
       "      <td>2015-060-00:02:38.114</td>\n",
       "      <td>18.785425</td>\n",
       "      <td>0</td>\n",
       "    </tr>\n",
       "    <tr>\n",
       "      <th>3</th>\n",
       "      <td>2015-060-00:02:38.882</td>\n",
       "      <td>18.785400</td>\n",
       "      <td>0</td>\n",
       "    </tr>\n",
       "    <tr>\n",
       "      <th>4</th>\n",
       "      <td>2015-060-00:04:46.114</td>\n",
       "      <td>18.785425</td>\n",
       "      <td>0</td>\n",
       "    </tr>\n",
       "    <tr>\n",
       "      <th>...</th>\n",
       "      <td>...</td>\n",
       "      <td>...</td>\n",
       "      <td>...</td>\n",
       "    </tr>\n",
       "    <tr>\n",
       "      <th>1567</th>\n",
       "      <td>2015-061-13:50:22.110</td>\n",
       "      <td>20.698925</td>\n",
       "      <td>0</td>\n",
       "    </tr>\n",
       "    <tr>\n",
       "      <th>1568</th>\n",
       "      <td>2015-061-13:50:22.877</td>\n",
       "      <td>20.698900</td>\n",
       "      <td>0</td>\n",
       "    </tr>\n",
       "    <tr>\n",
       "      <th>1569</th>\n",
       "      <td>2015-061-13:52:30.114</td>\n",
       "      <td>20.698925</td>\n",
       "      <td>0</td>\n",
       "    </tr>\n",
       "    <tr>\n",
       "      <th>1570</th>\n",
       "      <td>2015-061-13:54:38.114</td>\n",
       "      <td>20.698925</td>\n",
       "      <td>0</td>\n",
       "    </tr>\n",
       "    <tr>\n",
       "      <th>1571</th>\n",
       "      <td>2015-061-13:55:02.877</td>\n",
       "      <td>20.698900</td>\n",
       "      <td>0</td>\n",
       "    </tr>\n",
       "  </tbody>\n",
       "</table>\n",
       "<p>1572 rows × 3 columns</p>\n",
       "</div>"
      ],
      "text/plain": [
       "                       date      value  StandardTime\n",
       "0     2015-060-00:00:30.114  18.744939             0\n",
       "1     2015-060-00:00:30.882  18.744900             0\n",
       "2     2015-060-00:02:38.114  18.785425             0\n",
       "3     2015-060-00:02:38.882  18.785400             0\n",
       "4     2015-060-00:04:46.114  18.785425             0\n",
       "...                     ...        ...           ...\n",
       "1567  2015-061-13:50:22.110  20.698925             0\n",
       "1568  2015-061-13:50:22.877  20.698900             0\n",
       "1569  2015-061-13:52:30.114  20.698925             0\n",
       "1570  2015-061-13:54:38.114  20.698925             0\n",
       "1571  2015-061-13:55:02.877  20.698900             0\n",
       "\n",
       "[1572 rows x 3 columns]"
      ]
     },
     "execution_count": 4,
     "metadata": {},
     "output_type": "execute_result"
    }
   ],
   "source": [
    "data['StandardTime']=0\n",
    "data.head(1572)"
   ]
  },
  {
   "cell_type": "code",
   "execution_count": 5,
   "metadata": {},
   "outputs": [
    {
     "data": {
      "text/html": [
       "<div>\n",
       "<style scoped>\n",
       "    .dataframe tbody tr th:only-of-type {\n",
       "        vertical-align: middle;\n",
       "    }\n",
       "\n",
       "    .dataframe tbody tr th {\n",
       "        vertical-align: top;\n",
       "    }\n",
       "\n",
       "    .dataframe thead th {\n",
       "        text-align: right;\n",
       "    }\n",
       "</style>\n",
       "<table border=\"1\" class=\"dataframe\">\n",
       "  <thead>\n",
       "    <tr style=\"text-align: right;\">\n",
       "      <th></th>\n",
       "      <th>date</th>\n",
       "      <th>value</th>\n",
       "      <th>StandardTime</th>\n",
       "    </tr>\n",
       "  </thead>\n",
       "  <tbody>\n",
       "    <tr>\n",
       "      <th>0</th>\n",
       "      <td>2015-060-00:00:30.114</td>\n",
       "      <td>18.744939</td>\n",
       "      <td>0</td>\n",
       "    </tr>\n",
       "    <tr>\n",
       "      <th>1</th>\n",
       "      <td>2015-060-00:00:30.882</td>\n",
       "      <td>18.744900</td>\n",
       "      <td>0</td>\n",
       "    </tr>\n",
       "    <tr>\n",
       "      <th>2</th>\n",
       "      <td>2015-060-00:02:38.114</td>\n",
       "      <td>18.785425</td>\n",
       "      <td>0</td>\n",
       "    </tr>\n",
       "    <tr>\n",
       "      <th>3</th>\n",
       "      <td>2015-060-00:02:38.882</td>\n",
       "      <td>18.785400</td>\n",
       "      <td>0</td>\n",
       "    </tr>\n",
       "    <tr>\n",
       "      <th>4</th>\n",
       "      <td>2015-060-00:04:46.114</td>\n",
       "      <td>18.785425</td>\n",
       "      <td>0</td>\n",
       "    </tr>\n",
       "    <tr>\n",
       "      <th>...</th>\n",
       "      <td>...</td>\n",
       "      <td>...</td>\n",
       "      <td>...</td>\n",
       "    </tr>\n",
       "    <tr>\n",
       "      <th>32114</th>\n",
       "      <td>2015-098-02:25:34.114</td>\n",
       "      <td>18.502024</td>\n",
       "      <td>0</td>\n",
       "    </tr>\n",
       "    <tr>\n",
       "      <th>32115</th>\n",
       "      <td>2015-098-02:27:42.114</td>\n",
       "      <td>18.502024</td>\n",
       "      <td>0</td>\n",
       "    </tr>\n",
       "    <tr>\n",
       "      <th>32116</th>\n",
       "      <td>2015-098-02:29:50.110</td>\n",
       "      <td>18.542510</td>\n",
       "      <td>0</td>\n",
       "    </tr>\n",
       "    <tr>\n",
       "      <th>32117</th>\n",
       "      <td>2015-098-02:31:58.114</td>\n",
       "      <td>18.542510</td>\n",
       "      <td>0</td>\n",
       "    </tr>\n",
       "    <tr>\n",
       "      <th>32118</th>\n",
       "      <td>2015-098-02:34:06.114</td>\n",
       "      <td>18.502024</td>\n",
       "      <td>0</td>\n",
       "    </tr>\n",
       "  </tbody>\n",
       "</table>\n",
       "<p>32119 rows × 3 columns</p>\n",
       "</div>"
      ],
      "text/plain": [
       "                        date      value  StandardTime\n",
       "0      2015-060-00:00:30.114  18.744939             0\n",
       "1      2015-060-00:00:30.882  18.744900             0\n",
       "2      2015-060-00:02:38.114  18.785425             0\n",
       "3      2015-060-00:02:38.882  18.785400             0\n",
       "4      2015-060-00:04:46.114  18.785425             0\n",
       "...                      ...        ...           ...\n",
       "32114  2015-098-02:25:34.114  18.502024             0\n",
       "32115  2015-098-02:27:42.114  18.502024             0\n",
       "32116  2015-098-02:29:50.110  18.542510             0\n",
       "32117  2015-098-02:31:58.114  18.542510             0\n",
       "32118  2015-098-02:34:06.114  18.502024             0\n",
       "\n",
       "[32119 rows x 3 columns]"
      ]
     },
     "execution_count": 5,
     "metadata": {},
     "output_type": "execute_result"
    }
   ],
   "source": [
    "data"
   ]
  },
  {
   "cell_type": "code",
   "execution_count": 6,
   "metadata": {},
   "outputs": [
    {
     "name": "stderr",
     "output_type": "stream",
     "text": [
      "D:\\Anaconda3\\envs\\arima\\lib\\site-packages\\ipykernel_launcher.py:14: SettingWithCopyWarning: \n",
      "A value is trying to be set on a copy of a slice from a DataFrame\n",
      "\n",
      "See the caveats in the documentation: https://pandas.pydata.org/pandas-docs/stable/user_guide/indexing.html#returning-a-view-versus-a-copy\n",
      "  \n"
     ]
    },
    {
     "data": {
      "text/html": [
       "<div>\n",
       "<style scoped>\n",
       "    .dataframe tbody tr th:only-of-type {\n",
       "        vertical-align: middle;\n",
       "    }\n",
       "\n",
       "    .dataframe tbody tr th {\n",
       "        vertical-align: top;\n",
       "    }\n",
       "\n",
       "    .dataframe thead th {\n",
       "        text-align: right;\n",
       "    }\n",
       "</style>\n",
       "<table border=\"1\" class=\"dataframe\">\n",
       "  <thead>\n",
       "    <tr style=\"text-align: right;\">\n",
       "      <th></th>\n",
       "      <th>date</th>\n",
       "      <th>value</th>\n",
       "      <th>StandardTime</th>\n",
       "    </tr>\n",
       "  </thead>\n",
       "  <tbody>\n",
       "    <tr>\n",
       "      <th>0</th>\n",
       "      <td>2015-060-00:00:30.114</td>\n",
       "      <td>18.744939</td>\n",
       "      <td>2015-03-01 00:00:30.114000</td>\n",
       "    </tr>\n",
       "    <tr>\n",
       "      <th>1</th>\n",
       "      <td>2015-060-00:00:30.882</td>\n",
       "      <td>18.744900</td>\n",
       "      <td>2015-03-01 00:00:30.882000</td>\n",
       "    </tr>\n",
       "    <tr>\n",
       "      <th>2</th>\n",
       "      <td>2015-060-00:02:38.114</td>\n",
       "      <td>18.785425</td>\n",
       "      <td>2015-03-01 00:02:38.114000</td>\n",
       "    </tr>\n",
       "    <tr>\n",
       "      <th>3</th>\n",
       "      <td>2015-060-00:02:38.882</td>\n",
       "      <td>18.785400</td>\n",
       "      <td>2015-03-01 00:02:38.882000</td>\n",
       "    </tr>\n",
       "    <tr>\n",
       "      <th>4</th>\n",
       "      <td>2015-060-00:04:46.114</td>\n",
       "      <td>18.785425</td>\n",
       "      <td>2015-03-01 00:04:46.114000</td>\n",
       "    </tr>\n",
       "  </tbody>\n",
       "</table>\n",
       "</div>"
      ],
      "text/plain": [
       "                    date      value                StandardTime\n",
       "0  2015-060-00:00:30.114  18.744939  2015-03-01 00:00:30.114000\n",
       "1  2015-060-00:00:30.882  18.744900  2015-03-01 00:00:30.882000\n",
       "2  2015-060-00:02:38.114  18.785425  2015-03-01 00:02:38.114000\n",
       "3  2015-060-00:02:38.882  18.785400  2015-03-01 00:02:38.882000\n",
       "4  2015-060-00:04:46.114  18.785425  2015-03-01 00:04:46.114000"
      ]
     },
     "execution_count": 6,
     "metadata": {},
     "output_type": "execute_result"
    }
   ],
   "source": [
    "for i in range(len(data)):\n",
    "    dd=data['date'][i].split('-')\n",
    "    yy=int(dd[0])\n",
    "    jd=int(dd[1])\n",
    "    sec=dd[2].split(':')\n",
    "    ss=sec[2][:-4]\n",
    "    mm=sec[2][-3:]\n",
    "    month = 1\n",
    "    day = 0\n",
    "    while jd - calendar.monthrange(yy,month)[1] > 0 and month <= 12:\n",
    "        jd = jd - calendar.monthrange(yy,month)[1]\n",
    "        month = month + 1\n",
    "\n",
    "    data['StandardTime'][i]=datetime.datetime(yy, month, jd, int(sec[0]),int(sec[1]),int(ss),int(mm)*1000)\n",
    "\n",
    "data.head()"
   ]
  },
  {
   "cell_type": "code",
   "execution_count": 7,
   "metadata": {},
   "outputs": [
    {
     "data": {
      "text/html": [
       "<div>\n",
       "<style scoped>\n",
       "    .dataframe tbody tr th:only-of-type {\n",
       "        vertical-align: middle;\n",
       "    }\n",
       "\n",
       "    .dataframe tbody tr th {\n",
       "        vertical-align: top;\n",
       "    }\n",
       "\n",
       "    .dataframe thead th {\n",
       "        text-align: right;\n",
       "    }\n",
       "</style>\n",
       "<table border=\"1\" class=\"dataframe\">\n",
       "  <thead>\n",
       "    <tr style=\"text-align: right;\">\n",
       "      <th></th>\n",
       "      <th>date</th>\n",
       "      <th>value</th>\n",
       "      <th>StandardTime</th>\n",
       "      <th>epoch</th>\n",
       "    </tr>\n",
       "  </thead>\n",
       "  <tbody>\n",
       "    <tr>\n",
       "      <th>0</th>\n",
       "      <td>2015-060-00:00:30.114</td>\n",
       "      <td>18.744939</td>\n",
       "      <td>2015-03-01 00:00:30.114000</td>\n",
       "      <td>0</td>\n",
       "    </tr>\n",
       "    <tr>\n",
       "      <th>1</th>\n",
       "      <td>2015-060-00:00:30.882</td>\n",
       "      <td>18.744900</td>\n",
       "      <td>2015-03-01 00:00:30.882000</td>\n",
       "      <td>0</td>\n",
       "    </tr>\n",
       "    <tr>\n",
       "      <th>2</th>\n",
       "      <td>2015-060-00:02:38.114</td>\n",
       "      <td>18.785425</td>\n",
       "      <td>2015-03-01 00:02:38.114000</td>\n",
       "      <td>0</td>\n",
       "    </tr>\n",
       "    <tr>\n",
       "      <th>3</th>\n",
       "      <td>2015-060-00:02:38.882</td>\n",
       "      <td>18.785400</td>\n",
       "      <td>2015-03-01 00:02:38.882000</td>\n",
       "      <td>0</td>\n",
       "    </tr>\n",
       "    <tr>\n",
       "      <th>4</th>\n",
       "      <td>2015-060-00:04:46.114</td>\n",
       "      <td>18.785425</td>\n",
       "      <td>2015-03-01 00:04:46.114000</td>\n",
       "      <td>0</td>\n",
       "    </tr>\n",
       "  </tbody>\n",
       "</table>\n",
       "</div>"
      ],
      "text/plain": [
       "                    date      value                StandardTime  epoch\n",
       "0  2015-060-00:00:30.114  18.744939  2015-03-01 00:00:30.114000      0\n",
       "1  2015-060-00:00:30.882  18.744900  2015-03-01 00:00:30.882000      0\n",
       "2  2015-060-00:02:38.114  18.785425  2015-03-01 00:02:38.114000      0\n",
       "3  2015-060-00:02:38.882  18.785400  2015-03-01 00:02:38.882000      0\n",
       "4  2015-060-00:04:46.114  18.785425  2015-03-01 00:04:46.114000      0"
      ]
     },
     "execution_count": 7,
     "metadata": {},
     "output_type": "execute_result"
    }
   ],
   "source": [
    "data['epoch']=0\n",
    "data.head()"
   ]
  },
  {
   "cell_type": "code",
   "execution_count": 8,
   "metadata": {},
   "outputs": [
    {
     "name": "stderr",
     "output_type": "stream",
     "text": [
      "D:\\Anaconda3\\envs\\arima\\lib\\site-packages\\ipykernel_launcher.py:11: SettingWithCopyWarning: \n",
      "A value is trying to be set on a copy of a slice from a DataFrame\n",
      "\n",
      "See the caveats in the documentation: https://pandas.pydata.org/pandas-docs/stable/user_guide/indexing.html#returning-a-view-versus-a-copy\n",
      "  # This is added back by InteractiveShellApp.init_path()\n"
     ]
    }
   ],
   "source": [
    "from datetime import datetime\n",
    "import time\n",
    "\n",
    "for i_m in range(len(data)):\n",
    "    # convert utc -> epoch(sec)\n",
    "    dd = time.mktime(data['StandardTime'][i_m].timetuple())\n",
    "    ms = int(int(str(data['StandardTime'][i_m]).split('.')[1])/1000)\n",
    "    # build epoch (millisec) by add microsec from utc to epoch(sec)\n",
    "    ep_mil = int(str(int(dd))+str(ms))\n",
    "    # add epoch (milsec) -> epoch column\n",
    "    data['epoch'][i_m] = ep_mil"
   ]
  },
  {
   "cell_type": "code",
   "execution_count": 9,
   "metadata": {
    "scrolled": false
   },
   "outputs": [
    {
     "data": {
      "text/html": [
       "<div>\n",
       "<style scoped>\n",
       "    .dataframe tbody tr th:only-of-type {\n",
       "        vertical-align: middle;\n",
       "    }\n",
       "\n",
       "    .dataframe tbody tr th {\n",
       "        vertical-align: top;\n",
       "    }\n",
       "\n",
       "    .dataframe thead th {\n",
       "        text-align: right;\n",
       "    }\n",
       "</style>\n",
       "<table border=\"1\" class=\"dataframe\">\n",
       "  <thead>\n",
       "    <tr style=\"text-align: right;\">\n",
       "      <th></th>\n",
       "      <th>date</th>\n",
       "      <th>value</th>\n",
       "      <th>StandardTime</th>\n",
       "      <th>epoch</th>\n",
       "    </tr>\n",
       "  </thead>\n",
       "  <tbody>\n",
       "    <tr>\n",
       "      <th>0</th>\n",
       "      <td>2015-060-00:00:30.114</td>\n",
       "      <td>18.744939</td>\n",
       "      <td>2015-03-01 00:00:30.114000</td>\n",
       "      <td>1425142830114</td>\n",
       "    </tr>\n",
       "    <tr>\n",
       "      <th>1</th>\n",
       "      <td>2015-060-00:00:30.882</td>\n",
       "      <td>18.744900</td>\n",
       "      <td>2015-03-01 00:00:30.882000</td>\n",
       "      <td>1425142830882</td>\n",
       "    </tr>\n",
       "    <tr>\n",
       "      <th>2</th>\n",
       "      <td>2015-060-00:02:38.114</td>\n",
       "      <td>18.785425</td>\n",
       "      <td>2015-03-01 00:02:38.114000</td>\n",
       "      <td>1425142958114</td>\n",
       "    </tr>\n",
       "    <tr>\n",
       "      <th>3</th>\n",
       "      <td>2015-060-00:02:38.882</td>\n",
       "      <td>18.785400</td>\n",
       "      <td>2015-03-01 00:02:38.882000</td>\n",
       "      <td>1425142958882</td>\n",
       "    </tr>\n",
       "    <tr>\n",
       "      <th>4</th>\n",
       "      <td>2015-060-00:04:46.114</td>\n",
       "      <td>18.785425</td>\n",
       "      <td>2015-03-01 00:04:46.114000</td>\n",
       "      <td>1425143086114</td>\n",
       "    </tr>\n",
       "    <tr>\n",
       "      <th>...</th>\n",
       "      <td>...</td>\n",
       "      <td>...</td>\n",
       "      <td>...</td>\n",
       "      <td>...</td>\n",
       "    </tr>\n",
       "    <tr>\n",
       "      <th>32114</th>\n",
       "      <td>2015-098-02:25:34.114</td>\n",
       "      <td>18.502024</td>\n",
       "      <td>2015-04-08 02:25:34.114000</td>\n",
       "      <td>1428434734114</td>\n",
       "    </tr>\n",
       "    <tr>\n",
       "      <th>32115</th>\n",
       "      <td>2015-098-02:27:42.114</td>\n",
       "      <td>18.502024</td>\n",
       "      <td>2015-04-08 02:27:42.114000</td>\n",
       "      <td>1428434862114</td>\n",
       "    </tr>\n",
       "    <tr>\n",
       "      <th>32116</th>\n",
       "      <td>2015-098-02:29:50.110</td>\n",
       "      <td>18.542510</td>\n",
       "      <td>2015-04-08 02:29:50.110000</td>\n",
       "      <td>1428434990110</td>\n",
       "    </tr>\n",
       "    <tr>\n",
       "      <th>32117</th>\n",
       "      <td>2015-098-02:31:58.114</td>\n",
       "      <td>18.542510</td>\n",
       "      <td>2015-04-08 02:31:58.114000</td>\n",
       "      <td>1428435118114</td>\n",
       "    </tr>\n",
       "    <tr>\n",
       "      <th>32118</th>\n",
       "      <td>2015-098-02:34:06.114</td>\n",
       "      <td>18.502024</td>\n",
       "      <td>2015-04-08 02:34:06.114000</td>\n",
       "      <td>1428435246114</td>\n",
       "    </tr>\n",
       "  </tbody>\n",
       "</table>\n",
       "<p>32119 rows × 4 columns</p>\n",
       "</div>"
      ],
      "text/plain": [
       "                        date      value                StandardTime  \\\n",
       "0      2015-060-00:00:30.114  18.744939  2015-03-01 00:00:30.114000   \n",
       "1      2015-060-00:00:30.882  18.744900  2015-03-01 00:00:30.882000   \n",
       "2      2015-060-00:02:38.114  18.785425  2015-03-01 00:02:38.114000   \n",
       "3      2015-060-00:02:38.882  18.785400  2015-03-01 00:02:38.882000   \n",
       "4      2015-060-00:04:46.114  18.785425  2015-03-01 00:04:46.114000   \n",
       "...                      ...        ...                         ...   \n",
       "32114  2015-098-02:25:34.114  18.502024  2015-04-08 02:25:34.114000   \n",
       "32115  2015-098-02:27:42.114  18.502024  2015-04-08 02:27:42.114000   \n",
       "32116  2015-098-02:29:50.110  18.542510  2015-04-08 02:29:50.110000   \n",
       "32117  2015-098-02:31:58.114  18.542510  2015-04-08 02:31:58.114000   \n",
       "32118  2015-098-02:34:06.114  18.502024  2015-04-08 02:34:06.114000   \n",
       "\n",
       "               epoch  \n",
       "0      1425142830114  \n",
       "1      1425142830882  \n",
       "2      1425142958114  \n",
       "3      1425142958882  \n",
       "4      1425143086114  \n",
       "...              ...  \n",
       "32114  1428434734114  \n",
       "32115  1428434862114  \n",
       "32116  1428434990110  \n",
       "32117  1428435118114  \n",
       "32118  1428435246114  \n",
       "\n",
       "[32119 rows x 4 columns]"
      ]
     },
     "execution_count": 9,
     "metadata": {},
     "output_type": "execute_result"
    }
   ],
   "source": [
    "data"
   ]
  },
  {
   "cell_type": "code",
   "execution_count": 10,
   "metadata": {},
   "outputs": [
    {
     "data": {
      "text/plain": [
       "datetime.datetime"
      ]
     },
     "execution_count": 10,
     "metadata": {},
     "output_type": "execute_result"
    }
   ],
   "source": [
    "type(data['StandardTime'][0])"
   ]
  },
  {
   "cell_type": "markdown",
   "metadata": {},
   "source": [
    "### Create date range"
   ]
  },
  {
   "cell_type": "code",
   "execution_count": 11,
   "metadata": {},
   "outputs": [],
   "source": [
    "import pandas as pd\n",
    "from datetime import datetime\n",
    "import numpy as np"
   ]
  },
  {
   "cell_type": "code",
   "execution_count": 12,
   "metadata": {},
   "outputs": [
    {
     "ename": "KeyError",
     "evalue": "32119",
     "output_type": "error",
     "traceback": [
      "\u001b[1;31m---------------------------------------------------------------------------\u001b[0m",
      "\u001b[1;31mKeyError\u001b[0m                                  Traceback (most recent call last)",
      "\u001b[1;32m<ipython-input-12-16c548bb555e>\u001b[0m in \u001b[0;36m<module>\u001b[1;34m\u001b[0m\n\u001b[1;32m----> 1\u001b[1;33m \u001b[0mdate_rng\u001b[0m \u001b[1;33m=\u001b[0m \u001b[0mpd\u001b[0m\u001b[1;33m.\u001b[0m\u001b[0mbdate_range\u001b[0m\u001b[1;33m(\u001b[0m\u001b[0mstart\u001b[0m\u001b[1;33m=\u001b[0m\u001b[0mstr\u001b[0m\u001b[1;33m(\u001b[0m\u001b[0mdata\u001b[0m\u001b[1;33m[\u001b[0m\u001b[1;34m'StandardTime'\u001b[0m\u001b[1;33m]\u001b[0m\u001b[1;33m[\u001b[0m\u001b[1;36m0\u001b[0m\u001b[1;33m]\u001b[0m\u001b[1;33m)\u001b[0m\u001b[1;33m,\u001b[0m \u001b[0mend\u001b[0m\u001b[1;33m=\u001b[0m\u001b[0mstr\u001b[0m\u001b[1;33m(\u001b[0m\u001b[0mdata\u001b[0m\u001b[1;33m[\u001b[0m\u001b[1;34m'StandardTime'\u001b[0m\u001b[1;33m]\u001b[0m\u001b[1;33m[\u001b[0m\u001b[0mlen\u001b[0m\u001b[1;33m(\u001b[0m\u001b[0mdata\u001b[0m\u001b[1;33m)\u001b[0m\u001b[1;33m]\u001b[0m\u001b[1;33m)\u001b[0m\u001b[1;33m,\u001b[0m \u001b[0mfreq\u001b[0m\u001b[1;33m=\u001b[0m\u001b[1;34m'H'\u001b[0m\u001b[1;33m)\u001b[0m\u001b[1;33m\u001b[0m\u001b[1;33m\u001b[0m\u001b[0m\n\u001b[0m",
      "\u001b[1;32mD:\\Anaconda3\\envs\\arima\\lib\\site-packages\\pandas\\core\\series.py\u001b[0m in \u001b[0;36m__getitem__\u001b[1;34m(self, key)\u001b[0m\n\u001b[0;32m    869\u001b[0m         \u001b[0mkey\u001b[0m \u001b[1;33m=\u001b[0m \u001b[0mcom\u001b[0m\u001b[1;33m.\u001b[0m\u001b[0mapply_if_callable\u001b[0m\u001b[1;33m(\u001b[0m\u001b[0mkey\u001b[0m\u001b[1;33m,\u001b[0m \u001b[0mself\u001b[0m\u001b[1;33m)\u001b[0m\u001b[1;33m\u001b[0m\u001b[1;33m\u001b[0m\u001b[0m\n\u001b[0;32m    870\u001b[0m         \u001b[1;32mtry\u001b[0m\u001b[1;33m:\u001b[0m\u001b[1;33m\u001b[0m\u001b[1;33m\u001b[0m\u001b[0m\n\u001b[1;32m--> 871\u001b[1;33m             \u001b[0mresult\u001b[0m \u001b[1;33m=\u001b[0m \u001b[0mself\u001b[0m\u001b[1;33m.\u001b[0m\u001b[0mindex\u001b[0m\u001b[1;33m.\u001b[0m\u001b[0mget_value\u001b[0m\u001b[1;33m(\u001b[0m\u001b[0mself\u001b[0m\u001b[1;33m,\u001b[0m \u001b[0mkey\u001b[0m\u001b[1;33m)\u001b[0m\u001b[1;33m\u001b[0m\u001b[1;33m\u001b[0m\u001b[0m\n\u001b[0m\u001b[0;32m    872\u001b[0m \u001b[1;33m\u001b[0m\u001b[0m\n\u001b[0;32m    873\u001b[0m             \u001b[1;32mif\u001b[0m \u001b[1;32mnot\u001b[0m \u001b[0mis_scalar\u001b[0m\u001b[1;33m(\u001b[0m\u001b[0mresult\u001b[0m\u001b[1;33m)\u001b[0m\u001b[1;33m:\u001b[0m\u001b[1;33m\u001b[0m\u001b[1;33m\u001b[0m\u001b[0m\n",
      "\u001b[1;32mD:\\Anaconda3\\envs\\arima\\lib\\site-packages\\pandas\\core\\indexes\\base.py\u001b[0m in \u001b[0;36mget_value\u001b[1;34m(self, series, key)\u001b[0m\n\u001b[0;32m   4402\u001b[0m         \u001b[0mk\u001b[0m \u001b[1;33m=\u001b[0m \u001b[0mself\u001b[0m\u001b[1;33m.\u001b[0m\u001b[0m_convert_scalar_indexer\u001b[0m\u001b[1;33m(\u001b[0m\u001b[0mk\u001b[0m\u001b[1;33m,\u001b[0m \u001b[0mkind\u001b[0m\u001b[1;33m=\u001b[0m\u001b[1;34m\"getitem\"\u001b[0m\u001b[1;33m)\u001b[0m\u001b[1;33m\u001b[0m\u001b[1;33m\u001b[0m\u001b[0m\n\u001b[0;32m   4403\u001b[0m         \u001b[1;32mtry\u001b[0m\u001b[1;33m:\u001b[0m\u001b[1;33m\u001b[0m\u001b[1;33m\u001b[0m\u001b[0m\n\u001b[1;32m-> 4404\u001b[1;33m             \u001b[1;32mreturn\u001b[0m \u001b[0mself\u001b[0m\u001b[1;33m.\u001b[0m\u001b[0m_engine\u001b[0m\u001b[1;33m.\u001b[0m\u001b[0mget_value\u001b[0m\u001b[1;33m(\u001b[0m\u001b[0ms\u001b[0m\u001b[1;33m,\u001b[0m \u001b[0mk\u001b[0m\u001b[1;33m,\u001b[0m \u001b[0mtz\u001b[0m\u001b[1;33m=\u001b[0m\u001b[0mgetattr\u001b[0m\u001b[1;33m(\u001b[0m\u001b[0mseries\u001b[0m\u001b[1;33m.\u001b[0m\u001b[0mdtype\u001b[0m\u001b[1;33m,\u001b[0m \u001b[1;34m\"tz\"\u001b[0m\u001b[1;33m,\u001b[0m \u001b[1;32mNone\u001b[0m\u001b[1;33m)\u001b[0m\u001b[1;33m)\u001b[0m\u001b[1;33m\u001b[0m\u001b[1;33m\u001b[0m\u001b[0m\n\u001b[0m\u001b[0;32m   4405\u001b[0m         \u001b[1;32mexcept\u001b[0m \u001b[0mKeyError\u001b[0m \u001b[1;32mas\u001b[0m \u001b[0me1\u001b[0m\u001b[1;33m:\u001b[0m\u001b[1;33m\u001b[0m\u001b[1;33m\u001b[0m\u001b[0m\n\u001b[0;32m   4406\u001b[0m             \u001b[1;32mif\u001b[0m \u001b[0mlen\u001b[0m\u001b[1;33m(\u001b[0m\u001b[0mself\u001b[0m\u001b[1;33m)\u001b[0m \u001b[1;33m>\u001b[0m \u001b[1;36m0\u001b[0m \u001b[1;32mand\u001b[0m \u001b[1;33m(\u001b[0m\u001b[0mself\u001b[0m\u001b[1;33m.\u001b[0m\u001b[0mholds_integer\u001b[0m\u001b[1;33m(\u001b[0m\u001b[1;33m)\u001b[0m \u001b[1;32mor\u001b[0m \u001b[0mself\u001b[0m\u001b[1;33m.\u001b[0m\u001b[0mis_boolean\u001b[0m\u001b[1;33m(\u001b[0m\u001b[1;33m)\u001b[0m\u001b[1;33m)\u001b[0m\u001b[1;33m:\u001b[0m\u001b[1;33m\u001b[0m\u001b[1;33m\u001b[0m\u001b[0m\n",
      "\u001b[1;32mpandas\\_libs\\index.pyx\u001b[0m in \u001b[0;36mpandas._libs.index.IndexEngine.get_value\u001b[1;34m()\u001b[0m\n",
      "\u001b[1;32mpandas\\_libs\\index.pyx\u001b[0m in \u001b[0;36mpandas._libs.index.IndexEngine.get_value\u001b[1;34m()\u001b[0m\n",
      "\u001b[1;32mpandas\\_libs\\index.pyx\u001b[0m in \u001b[0;36mpandas._libs.index.IndexEngine.get_loc\u001b[1;34m()\u001b[0m\n",
      "\u001b[1;32mpandas\\_libs\\hashtable_class_helper.pxi\u001b[0m in \u001b[0;36mpandas._libs.hashtable.Int64HashTable.get_item\u001b[1;34m()\u001b[0m\n",
      "\u001b[1;32mpandas\\_libs\\hashtable_class_helper.pxi\u001b[0m in \u001b[0;36mpandas._libs.hashtable.Int64HashTable.get_item\u001b[1;34m()\u001b[0m\n",
      "\u001b[1;31mKeyError\u001b[0m: 32119"
     ]
    }
   ],
   "source": [
    "date_rng = pd.bdate_range(start=str(data['StandardTime'][0]), end=str(data['StandardTime'][len(data)]), freq='H')"
   ]
  },
  {
   "cell_type": "code",
   "execution_count": 149,
   "metadata": {},
   "outputs": [],
   "source": [
    "# t0 = '2018-01-01 00:00:00.000'\n",
    "# t1 = '2018-01-02 00:00:00.000'\n",
    "\n",
    "t0, t1 = str(data['StandardTime'][0]), str(data['StandardTime'][len(data)-1])\n",
    "\n",
    "## generate the sequence with a step of 100 milliseconds\n",
    "# df_times = pd.date_range(t0, t1, freq = '0.5H', tz= \"UTC\")\n",
    "df_times = pd.date_range(t0, t1, freq = '0.2H')"
   ]
  },
  {
   "cell_type": "code",
   "execution_count": 150,
   "metadata": {},
   "outputs": [
    {
     "data": {
      "text/plain": [
       "DatetimeIndex(['2015-03-01 00:00:30.114000', '2015-03-01 00:12:30.114000',\n",
       "               '2015-03-01 00:24:30.114000', '2015-03-01 00:36:30.114000',\n",
       "               '2015-03-01 00:48:30.114000', '2015-03-01 01:00:30.114000',\n",
       "               '2015-03-01 01:12:30.114000', '2015-03-01 01:24:30.114000',\n",
       "               '2015-03-01 01:36:30.114000', '2015-03-01 01:48:30.114000',\n",
       "               ...\n",
       "               '2015-04-08 00:36:30.114000', '2015-04-08 00:48:30.114000',\n",
       "               '2015-04-08 01:00:30.114000', '2015-04-08 01:12:30.114000',\n",
       "               '2015-04-08 01:24:30.114000', '2015-04-08 01:36:30.114000',\n",
       "               '2015-04-08 01:48:30.114000', '2015-04-08 02:00:30.114000',\n",
       "               '2015-04-08 02:12:30.114000', '2015-04-08 02:24:30.114000'],\n",
       "              dtype='datetime64[ns]', length=4573, freq='12T')"
      ]
     },
     "execution_count": 150,
     "metadata": {},
     "output_type": "execute_result"
    }
   ],
   "source": [
    "# type(df_times[0])\n",
    "df_times"
   ]
  },
  {
   "cell_type": "code",
   "execution_count": null,
   "metadata": {},
   "outputs": [],
   "source": []
  },
  {
   "cell_type": "code",
   "execution_count": null,
   "metadata": {},
   "outputs": [],
   "source": [
    "\n"
   ]
  },
  {
   "cell_type": "code",
   "execution_count": null,
   "metadata": {},
   "outputs": [],
   "source": [
    "import pandas as pd\n",
    "pd.to_datetime(1490195805, unit='s')\n",
    "# Timestamp('2017-03-22 15:16:45')\n",
    " pd.to_datetime(1490195805433502912, unit='ns')\n",
    "# Timestamp('2017-03-22 15:16:45.433502912')"
   ]
  },
  {
   "cell_type": "code",
   "execution_count": null,
   "metadata": {},
   "outputs": [],
   "source": [
    "per1 = pd.date_range(start ='1-1-2018',  \n",
    "         end ='1-05-2018', freq ='5H') "
   ]
  },
  {
   "cell_type": "code",
   "execution_count": null,
   "metadata": {},
   "outputs": [],
   "source": [
    "per1"
   ]
  },
  {
   "cell_type": "code",
   "execution_count": null,
   "metadata": {},
   "outputs": [],
   "source": [
    "data"
   ]
  },
  {
   "cell_type": "code",
   "execution_count": null,
   "metadata": {},
   "outputs": [],
   "source": []
  },
  {
   "cell_type": "code",
   "execution_count": 43,
   "metadata": {},
   "outputs": [],
   "source": [
    "data_sp, d = [], []"
   ]
  },
  {
   "cell_type": "code",
   "execution_count": 44,
   "metadata": {},
   "outputs": [],
   "source": [
    "data_sp = data.copy()"
   ]
  },
  {
   "cell_type": "code",
   "execution_count": 35,
   "metadata": {},
   "outputs": [
    {
     "ename": "AttributeError",
     "evalue": "'list' object has no attribute 'strftime'",
     "output_type": "error",
     "traceback": [
      "\u001b[1;31m---------------------------------------------------------------------------\u001b[0m",
      "\u001b[1;31mAttributeError\u001b[0m                            Traceback (most recent call last)",
      "\u001b[1;32m<ipython-input-35-f5d66ce7e1a1>\u001b[0m in \u001b[0;36m<module>\u001b[1;34m\u001b[0m\n\u001b[0;32m      1\u001b[0m \u001b[0mdata_sp\u001b[0m\u001b[1;33m[\u001b[0m\u001b[1;34m'year'\u001b[0m\u001b[1;33m]\u001b[0m \u001b[1;33m=\u001b[0m \u001b[1;33m[\u001b[0m\u001b[0md\u001b[0m\u001b[1;33m.\u001b[0m\u001b[0myear\u001b[0m \u001b[1;32mfor\u001b[0m \u001b[0md\u001b[0m \u001b[1;32min\u001b[0m \u001b[0mdata_sp\u001b[0m\u001b[1;33m.\u001b[0m\u001b[0mStandardTime\u001b[0m\u001b[1;33m]\u001b[0m\u001b[1;33m\u001b[0m\u001b[1;33m\u001b[0m\u001b[0m\n\u001b[0;32m      2\u001b[0m \u001b[0mdata_sp\u001b[0m\u001b[1;33m[\u001b[0m\u001b[1;34m'month'\u001b[0m\u001b[1;33m]\u001b[0m \u001b[1;33m=\u001b[0m \u001b[1;33m[\u001b[0m\u001b[0md\u001b[0m\u001b[1;33m.\u001b[0m\u001b[0mstrftime\u001b[0m\u001b[1;33m(\u001b[0m\u001b[1;34m'%b'\u001b[0m\u001b[1;33m)\u001b[0m \u001b[1;32mfor\u001b[0m \u001b[0md\u001b[0m \u001b[1;32min\u001b[0m \u001b[0mdata_sp\u001b[0m\u001b[1;33m.\u001b[0m\u001b[0mStandardTime\u001b[0m\u001b[1;33m]\u001b[0m\u001b[1;33m\u001b[0m\u001b[1;33m\u001b[0m\u001b[0m\n\u001b[1;32m----> 3\u001b[1;33m \u001b[0mdata_sp\u001b[0m\u001b[1;33m[\u001b[0m\u001b[1;34m'day'\u001b[0m\u001b[1;33m]\u001b[0m \u001b[1;33m=\u001b[0m \u001b[1;33m[\u001b[0m\u001b[0md\u001b[0m\u001b[1;33m.\u001b[0m\u001b[0mstrftime\u001b[0m\u001b[1;33m(\u001b[0m\u001b[1;34m'%d'\u001b[0m\u001b[1;33m)\u001b[0m \u001b[1;32mfor\u001b[0m \u001b[0mb\u001b[0m \u001b[1;32min\u001b[0m \u001b[0mdata_sp\u001b[0m\u001b[1;33m.\u001b[0m\u001b[0mStandardTime\u001b[0m\u001b[1;33m]\u001b[0m\u001b[1;33m\u001b[0m\u001b[1;33m\u001b[0m\u001b[0m\n\u001b[0m\u001b[0;32m      4\u001b[0m \u001b[0myears\u001b[0m \u001b[1;33m=\u001b[0m \u001b[0mdata_sp\u001b[0m\u001b[1;33m[\u001b[0m\u001b[1;34m'year'\u001b[0m\u001b[1;33m]\u001b[0m\u001b[1;33m.\u001b[0m\u001b[0munique\u001b[0m\u001b[1;33m(\u001b[0m\u001b[1;33m)\u001b[0m\u001b[1;33m\u001b[0m\u001b[1;33m\u001b[0m\u001b[0m\n",
      "\u001b[1;32m<ipython-input-35-f5d66ce7e1a1>\u001b[0m in \u001b[0;36m<listcomp>\u001b[1;34m(.0)\u001b[0m\n\u001b[0;32m      1\u001b[0m \u001b[0mdata_sp\u001b[0m\u001b[1;33m[\u001b[0m\u001b[1;34m'year'\u001b[0m\u001b[1;33m]\u001b[0m \u001b[1;33m=\u001b[0m \u001b[1;33m[\u001b[0m\u001b[0md\u001b[0m\u001b[1;33m.\u001b[0m\u001b[0myear\u001b[0m \u001b[1;32mfor\u001b[0m \u001b[0md\u001b[0m \u001b[1;32min\u001b[0m \u001b[0mdata_sp\u001b[0m\u001b[1;33m.\u001b[0m\u001b[0mStandardTime\u001b[0m\u001b[1;33m]\u001b[0m\u001b[1;33m\u001b[0m\u001b[1;33m\u001b[0m\u001b[0m\n\u001b[0;32m      2\u001b[0m \u001b[0mdata_sp\u001b[0m\u001b[1;33m[\u001b[0m\u001b[1;34m'month'\u001b[0m\u001b[1;33m]\u001b[0m \u001b[1;33m=\u001b[0m \u001b[1;33m[\u001b[0m\u001b[0md\u001b[0m\u001b[1;33m.\u001b[0m\u001b[0mstrftime\u001b[0m\u001b[1;33m(\u001b[0m\u001b[1;34m'%b'\u001b[0m\u001b[1;33m)\u001b[0m \u001b[1;32mfor\u001b[0m \u001b[0md\u001b[0m \u001b[1;32min\u001b[0m \u001b[0mdata_sp\u001b[0m\u001b[1;33m.\u001b[0m\u001b[0mStandardTime\u001b[0m\u001b[1;33m]\u001b[0m\u001b[1;33m\u001b[0m\u001b[1;33m\u001b[0m\u001b[0m\n\u001b[1;32m----> 3\u001b[1;33m \u001b[0mdata_sp\u001b[0m\u001b[1;33m[\u001b[0m\u001b[1;34m'day'\u001b[0m\u001b[1;33m]\u001b[0m \u001b[1;33m=\u001b[0m \u001b[1;33m[\u001b[0m\u001b[0md\u001b[0m\u001b[1;33m.\u001b[0m\u001b[0mstrftime\u001b[0m\u001b[1;33m(\u001b[0m\u001b[1;34m'%d'\u001b[0m\u001b[1;33m)\u001b[0m \u001b[1;32mfor\u001b[0m \u001b[0mb\u001b[0m \u001b[1;32min\u001b[0m \u001b[0mdata_sp\u001b[0m\u001b[1;33m.\u001b[0m\u001b[0mStandardTime\u001b[0m\u001b[1;33m]\u001b[0m\u001b[1;33m\u001b[0m\u001b[1;33m\u001b[0m\u001b[0m\n\u001b[0m\u001b[0;32m      4\u001b[0m \u001b[0myears\u001b[0m \u001b[1;33m=\u001b[0m \u001b[0mdata_sp\u001b[0m\u001b[1;33m[\u001b[0m\u001b[1;34m'year'\u001b[0m\u001b[1;33m]\u001b[0m\u001b[1;33m.\u001b[0m\u001b[0munique\u001b[0m\u001b[1;33m(\u001b[0m\u001b[1;33m)\u001b[0m\u001b[1;33m\u001b[0m\u001b[1;33m\u001b[0m\u001b[0m\n",
      "\u001b[1;31mAttributeError\u001b[0m: 'list' object has no attribute 'strftime'"
     ]
    }
   ],
   "source": [
    "data_sp['year'] = [d.year for d in data_sp.StandardTime]\n",
    "data_sp['month'] = [d.strftime('%b') for d in data_sp.StandardTime]\n",
    "data_sp['day'] = [d.strftime('%d') for b in data_sp.StandardTime]\n",
    "years = data_sp['year'].unique()"
   ]
  },
  {
   "cell_type": "code",
   "execution_count": 20,
   "metadata": {},
   "outputs": [
    {
     "data": {
      "text/html": [
       "<div>\n",
       "<style scoped>\n",
       "    .dataframe tbody tr th:only-of-type {\n",
       "        vertical-align: middle;\n",
       "    }\n",
       "\n",
       "    .dataframe tbody tr th {\n",
       "        vertical-align: top;\n",
       "    }\n",
       "\n",
       "    .dataframe thead th {\n",
       "        text-align: right;\n",
       "    }\n",
       "</style>\n",
       "<table border=\"1\" class=\"dataframe\">\n",
       "  <thead>\n",
       "    <tr style=\"text-align: right;\">\n",
       "      <th></th>\n",
       "      <th>date</th>\n",
       "      <th>value</th>\n",
       "      <th>StandardTime</th>\n",
       "      <th>epoch</th>\n",
       "      <th>year</th>\n",
       "      <th>month</th>\n",
       "    </tr>\n",
       "  </thead>\n",
       "  <tbody>\n",
       "    <tr>\n",
       "      <th>0</th>\n",
       "      <td>2015-060-00:00:30.114</td>\n",
       "      <td>18.744939</td>\n",
       "      <td>2015-03-01 00:00:30.114000</td>\n",
       "      <td>1425142830114</td>\n",
       "      <td>2015</td>\n",
       "      <td>Mar</td>\n",
       "    </tr>\n",
       "    <tr>\n",
       "      <th>1</th>\n",
       "      <td>2015-060-00:00:30.882</td>\n",
       "      <td>18.744900</td>\n",
       "      <td>2015-03-01 00:00:30.882000</td>\n",
       "      <td>1425142830882</td>\n",
       "      <td>2015</td>\n",
       "      <td>Mar</td>\n",
       "    </tr>\n",
       "    <tr>\n",
       "      <th>2</th>\n",
       "      <td>2015-060-00:02:38.114</td>\n",
       "      <td>18.785425</td>\n",
       "      <td>2015-03-01 00:02:38.114000</td>\n",
       "      <td>1425142958114</td>\n",
       "      <td>2015</td>\n",
       "      <td>Mar</td>\n",
       "    </tr>\n",
       "    <tr>\n",
       "      <th>3</th>\n",
       "      <td>2015-060-00:02:38.882</td>\n",
       "      <td>18.785400</td>\n",
       "      <td>2015-03-01 00:02:38.882000</td>\n",
       "      <td>1425142958882</td>\n",
       "      <td>2015</td>\n",
       "      <td>Mar</td>\n",
       "    </tr>\n",
       "    <tr>\n",
       "      <th>4</th>\n",
       "      <td>2015-060-00:04:46.114</td>\n",
       "      <td>18.785425</td>\n",
       "      <td>2015-03-01 00:04:46.114000</td>\n",
       "      <td>1425143086114</td>\n",
       "      <td>2015</td>\n",
       "      <td>Mar</td>\n",
       "    </tr>\n",
       "    <tr>\n",
       "      <th>...</th>\n",
       "      <td>...</td>\n",
       "      <td>...</td>\n",
       "      <td>...</td>\n",
       "      <td>...</td>\n",
       "      <td>...</td>\n",
       "      <td>...</td>\n",
       "    </tr>\n",
       "    <tr>\n",
       "      <th>32114</th>\n",
       "      <td>2015-098-02:25:34.114</td>\n",
       "      <td>18.502024</td>\n",
       "      <td>2015-04-08 02:25:34.114000</td>\n",
       "      <td>1428434734114</td>\n",
       "      <td>2015</td>\n",
       "      <td>Apr</td>\n",
       "    </tr>\n",
       "    <tr>\n",
       "      <th>32115</th>\n",
       "      <td>2015-098-02:27:42.114</td>\n",
       "      <td>18.502024</td>\n",
       "      <td>2015-04-08 02:27:42.114000</td>\n",
       "      <td>1428434862114</td>\n",
       "      <td>2015</td>\n",
       "      <td>Apr</td>\n",
       "    </tr>\n",
       "    <tr>\n",
       "      <th>32116</th>\n",
       "      <td>2015-098-02:29:50.110</td>\n",
       "      <td>18.542510</td>\n",
       "      <td>2015-04-08 02:29:50.110000</td>\n",
       "      <td>1428434990110</td>\n",
       "      <td>2015</td>\n",
       "      <td>Apr</td>\n",
       "    </tr>\n",
       "    <tr>\n",
       "      <th>32117</th>\n",
       "      <td>2015-098-02:31:58.114</td>\n",
       "      <td>18.542510</td>\n",
       "      <td>2015-04-08 02:31:58.114000</td>\n",
       "      <td>1428435118114</td>\n",
       "      <td>2015</td>\n",
       "      <td>Apr</td>\n",
       "    </tr>\n",
       "    <tr>\n",
       "      <th>32118</th>\n",
       "      <td>2015-098-02:34:06.114</td>\n",
       "      <td>18.502024</td>\n",
       "      <td>2015-04-08 02:34:06.114000</td>\n",
       "      <td>1428435246114</td>\n",
       "      <td>2015</td>\n",
       "      <td>Apr</td>\n",
       "    </tr>\n",
       "  </tbody>\n",
       "</table>\n",
       "<p>32119 rows × 6 columns</p>\n",
       "</div>"
      ],
      "text/plain": [
       "                        date      value                StandardTime  \\\n",
       "0      2015-060-00:00:30.114  18.744939  2015-03-01 00:00:30.114000   \n",
       "1      2015-060-00:00:30.882  18.744900  2015-03-01 00:00:30.882000   \n",
       "2      2015-060-00:02:38.114  18.785425  2015-03-01 00:02:38.114000   \n",
       "3      2015-060-00:02:38.882  18.785400  2015-03-01 00:02:38.882000   \n",
       "4      2015-060-00:04:46.114  18.785425  2015-03-01 00:04:46.114000   \n",
       "...                      ...        ...                         ...   \n",
       "32114  2015-098-02:25:34.114  18.502024  2015-04-08 02:25:34.114000   \n",
       "32115  2015-098-02:27:42.114  18.502024  2015-04-08 02:27:42.114000   \n",
       "32116  2015-098-02:29:50.110  18.542510  2015-04-08 02:29:50.110000   \n",
       "32117  2015-098-02:31:58.114  18.542510  2015-04-08 02:31:58.114000   \n",
       "32118  2015-098-02:34:06.114  18.502024  2015-04-08 02:34:06.114000   \n",
       "\n",
       "               epoch  year month  \n",
       "0      1425142830114  2015   Mar  \n",
       "1      1425142830882  2015   Mar  \n",
       "2      1425142958114  2015   Mar  \n",
       "3      1425142958882  2015   Mar  \n",
       "4      1425143086114  2015   Mar  \n",
       "...              ...   ...   ...  \n",
       "32114  1428434734114  2015   Apr  \n",
       "32115  1428434862114  2015   Apr  \n",
       "32116  1428434990110  2015   Apr  \n",
       "32117  1428435118114  2015   Apr  \n",
       "32118  1428435246114  2015   Apr  \n",
       "\n",
       "[32119 rows x 6 columns]"
      ]
     },
     "execution_count": 20,
     "metadata": {},
     "output_type": "execute_result"
    }
   ],
   "source": [
    "data_sp"
   ]
  },
  {
   "cell_type": "code",
   "execution_count": 22,
   "metadata": {},
   "outputs": [],
   "source": [
    "from datetime import time\n",
    "\n",
    "a = time(11, 34, 56)"
   ]
  },
  {
   "cell_type": "code",
   "execution_count": 27,
   "metadata": {},
   "outputs": [
    {
     "data": {
      "text/plain": [
       "datetime.datetime(2015, 3, 1, 0, 0, 30, 114000)"
      ]
     },
     "execution_count": 27,
     "metadata": {},
     "output_type": "execute_result"
    }
   ],
   "source": [
    "t = data['StandardTime'][0]\n",
    "t"
   ]
  },
  {
   "cell_type": "code",
   "execution_count": 29,
   "metadata": {},
   "outputs": [
    {
     "data": {
      "text/plain": [
       "30"
      ]
     },
     "execution_count": 29,
     "metadata": {},
     "output_type": "execute_result"
    }
   ],
   "source": [
    "t.second"
   ]
  },
  {
   "cell_type": "code",
   "execution_count": 47,
   "metadata": {},
   "outputs": [],
   "source": [
    "\n",
    "data_sp, d = [], []\n",
    "data_sp = data.copy()\n",
    "\n",
    "data_sp['day'] = [d.day for d in data_sp.StandardTime]\n",
    "data_sp['month'] = [d.month for d in data_sp.StandardTime]\n",
    "data_sp['year'] = [d.year for d in data_sp.StandardTime]"
   ]
  },
  {
   "cell_type": "code",
   "execution_count": 48,
   "metadata": {},
   "outputs": [
    {
     "data": {
      "text/html": [
       "<div>\n",
       "<style scoped>\n",
       "    .dataframe tbody tr th:only-of-type {\n",
       "        vertical-align: middle;\n",
       "    }\n",
       "\n",
       "    .dataframe tbody tr th {\n",
       "        vertical-align: top;\n",
       "    }\n",
       "\n",
       "    .dataframe thead th {\n",
       "        text-align: right;\n",
       "    }\n",
       "</style>\n",
       "<table border=\"1\" class=\"dataframe\">\n",
       "  <thead>\n",
       "    <tr style=\"text-align: right;\">\n",
       "      <th></th>\n",
       "      <th>date</th>\n",
       "      <th>value</th>\n",
       "      <th>StandardTime</th>\n",
       "      <th>epoch</th>\n",
       "      <th>day</th>\n",
       "      <th>month</th>\n",
       "      <th>year</th>\n",
       "    </tr>\n",
       "  </thead>\n",
       "  <tbody>\n",
       "    <tr>\n",
       "      <th>0</th>\n",
       "      <td>2015-060-00:00:30.114</td>\n",
       "      <td>18.744939</td>\n",
       "      <td>2015-03-01 00:00:30.114000</td>\n",
       "      <td>1425142830114</td>\n",
       "      <td>1</td>\n",
       "      <td>3</td>\n",
       "      <td>2015</td>\n",
       "    </tr>\n",
       "    <tr>\n",
       "      <th>1</th>\n",
       "      <td>2015-060-00:00:30.882</td>\n",
       "      <td>18.744900</td>\n",
       "      <td>2015-03-01 00:00:30.882000</td>\n",
       "      <td>1425142830882</td>\n",
       "      <td>1</td>\n",
       "      <td>3</td>\n",
       "      <td>2015</td>\n",
       "    </tr>\n",
       "    <tr>\n",
       "      <th>2</th>\n",
       "      <td>2015-060-00:02:38.114</td>\n",
       "      <td>18.785425</td>\n",
       "      <td>2015-03-01 00:02:38.114000</td>\n",
       "      <td>1425142958114</td>\n",
       "      <td>1</td>\n",
       "      <td>3</td>\n",
       "      <td>2015</td>\n",
       "    </tr>\n",
       "    <tr>\n",
       "      <th>3</th>\n",
       "      <td>2015-060-00:02:38.882</td>\n",
       "      <td>18.785400</td>\n",
       "      <td>2015-03-01 00:02:38.882000</td>\n",
       "      <td>1425142958882</td>\n",
       "      <td>1</td>\n",
       "      <td>3</td>\n",
       "      <td>2015</td>\n",
       "    </tr>\n",
       "    <tr>\n",
       "      <th>4</th>\n",
       "      <td>2015-060-00:04:46.114</td>\n",
       "      <td>18.785425</td>\n",
       "      <td>2015-03-01 00:04:46.114000</td>\n",
       "      <td>1425143086114</td>\n",
       "      <td>1</td>\n",
       "      <td>3</td>\n",
       "      <td>2015</td>\n",
       "    </tr>\n",
       "    <tr>\n",
       "      <th>...</th>\n",
       "      <td>...</td>\n",
       "      <td>...</td>\n",
       "      <td>...</td>\n",
       "      <td>...</td>\n",
       "      <td>...</td>\n",
       "      <td>...</td>\n",
       "      <td>...</td>\n",
       "    </tr>\n",
       "    <tr>\n",
       "      <th>9995</th>\n",
       "      <td>2015-073-02:49:02.114</td>\n",
       "      <td>18.461538</td>\n",
       "      <td>2015-03-14 02:49:02.114000</td>\n",
       "      <td>1426276142114</td>\n",
       "      <td>14</td>\n",
       "      <td>3</td>\n",
       "      <td>2015</td>\n",
       "    </tr>\n",
       "    <tr>\n",
       "      <th>9996</th>\n",
       "      <td>2015-073-02:51:10.114</td>\n",
       "      <td>18.461538</td>\n",
       "      <td>2015-03-14 02:51:10.114000</td>\n",
       "      <td>1426276270114</td>\n",
       "      <td>14</td>\n",
       "      <td>3</td>\n",
       "      <td>2015</td>\n",
       "    </tr>\n",
       "    <tr>\n",
       "      <th>9997</th>\n",
       "      <td>2015-073-02:53:18.114</td>\n",
       "      <td>18.461538</td>\n",
       "      <td>2015-03-14 02:53:18.114000</td>\n",
       "      <td>1426276398114</td>\n",
       "      <td>14</td>\n",
       "      <td>3</td>\n",
       "      <td>2015</td>\n",
       "    </tr>\n",
       "    <tr>\n",
       "      <th>9998</th>\n",
       "      <td>2015-073-02:55:26.114</td>\n",
       "      <td>18.461538</td>\n",
       "      <td>2015-03-14 02:55:26.114000</td>\n",
       "      <td>1426276526114</td>\n",
       "      <td>14</td>\n",
       "      <td>3</td>\n",
       "      <td>2015</td>\n",
       "    </tr>\n",
       "    <tr>\n",
       "      <th>9999</th>\n",
       "      <td>2015-073-02:57:34.103</td>\n",
       "      <td>18.461538</td>\n",
       "      <td>2015-03-14 02:57:34.103000</td>\n",
       "      <td>1426276654103</td>\n",
       "      <td>14</td>\n",
       "      <td>3</td>\n",
       "      <td>2015</td>\n",
       "    </tr>\n",
       "  </tbody>\n",
       "</table>\n",
       "<p>10000 rows × 7 columns</p>\n",
       "</div>"
      ],
      "text/plain": [
       "                       date      value                StandardTime  \\\n",
       "0     2015-060-00:00:30.114  18.744939  2015-03-01 00:00:30.114000   \n",
       "1     2015-060-00:00:30.882  18.744900  2015-03-01 00:00:30.882000   \n",
       "2     2015-060-00:02:38.114  18.785425  2015-03-01 00:02:38.114000   \n",
       "3     2015-060-00:02:38.882  18.785400  2015-03-01 00:02:38.882000   \n",
       "4     2015-060-00:04:46.114  18.785425  2015-03-01 00:04:46.114000   \n",
       "...                     ...        ...                         ...   \n",
       "9995  2015-073-02:49:02.114  18.461538  2015-03-14 02:49:02.114000   \n",
       "9996  2015-073-02:51:10.114  18.461538  2015-03-14 02:51:10.114000   \n",
       "9997  2015-073-02:53:18.114  18.461538  2015-03-14 02:53:18.114000   \n",
       "9998  2015-073-02:55:26.114  18.461538  2015-03-14 02:55:26.114000   \n",
       "9999  2015-073-02:57:34.103  18.461538  2015-03-14 02:57:34.103000   \n",
       "\n",
       "              epoch  day  month  year  \n",
       "0     1425142830114    1      3  2015  \n",
       "1     1425142830882    1      3  2015  \n",
       "2     1425142958114    1      3  2015  \n",
       "3     1425142958882    1      3  2015  \n",
       "4     1425143086114    1      3  2015  \n",
       "...             ...  ...    ...   ...  \n",
       "9995  1426276142114   14      3  2015  \n",
       "9996  1426276270114   14      3  2015  \n",
       "9997  1426276398114   14      3  2015  \n",
       "9998  1426276526114   14      3  2015  \n",
       "9999  1426276654103   14      3  2015  \n",
       "\n",
       "[10000 rows x 7 columns]"
      ]
     },
     "execution_count": 48,
     "metadata": {},
     "output_type": "execute_result"
    }
   ],
   "source": [
    "data_sp.head(10000)"
   ]
  },
  {
   "cell_type": "code",
   "execution_count": 69,
   "metadata": {},
   "outputs": [
    {
     "data": {
      "text/plain": [
       "0        False\n",
       "1        False\n",
       "2        False\n",
       "3        False\n",
       "4        False\n",
       "         ...  \n",
       "32114    False\n",
       "32115    False\n",
       "32116    False\n",
       "32117    False\n",
       "32118    False\n",
       "Name: day, Length: 32119, dtype: bool"
      ]
     },
     "execution_count": 69,
     "metadata": {},
     "output_type": "execute_result"
    }
   ],
   "source": [
    "data_sp['day']==2"
   ]
  },
  {
   "cell_type": "code",
   "execution_count": 123,
   "metadata": {},
   "outputs": [
    {
     "data": {
      "text/plain": [
       "[<matplotlib.lines.Line2D at 0x1d90f2517c8>]"
      ]
     },
     "execution_count": 123,
     "metadata": {},
     "output_type": "execute_result"
    },
    {
     "data": {
      "image/png": "[encoded data removed]",
      "text/plain": [
       "<Figure size 1440x720 with 1 Axes>"
      ]
     },
     "metadata": {
      "needs_background": "light"
     },
     "output_type": "display_data"
    }
   ],
   "source": [
    "plt.figure(figsize=(20,10))\n",
    "plt.plot(data['StandardTime'],data['value'])"
   ]
  },
  {
   "cell_type": "code",
   "execution_count": 207,
   "metadata": {
    "scrolled": false
   },
   "outputs": [
    {
     "data": {
      "text/plain": [
       "[<matplotlib.lines.Line2D at 0x1d9157f5208>]"
      ]
     },
     "execution_count": 207,
     "metadata": {},
     "output_type": "execute_result"
    },
    {
     "data": {
      "image/png": "[encoded data removed]",
      "text/plain": [
       "<Figure size 1440x720 with 1 Axes>"
      ]
     },
     "metadata": {
      "needs_background": "light"
     },
     "output_type": "display_data"
    }
   ],
   "source": [
    "data_d1_m3 = data_sp.loc[(data_sp['day']==1) & (data_sp['month']==3)]\n",
    "# data_d1_m3\n",
    "plt.figure(figsize=(20,10))\n",
    "plt.plot(data_d1_m3['StandardTime'],data_d1_m3['value'])"
   ]
  },
  {
   "cell_type": "code",
   "execution_count": 208,
   "metadata": {},
   "outputs": [
    {
     "data": {
      "text/html": [
       "<div>\n",
       "<style scoped>\n",
       "    .dataframe tbody tr th:only-of-type {\n",
       "        vertical-align: middle;\n",
       "    }\n",
       "\n",
       "    .dataframe tbody tr th {\n",
       "        vertical-align: top;\n",
       "    }\n",
       "\n",
       "    .dataframe thead th {\n",
       "        text-align: right;\n",
       "    }\n",
       "</style>\n",
       "<table border=\"1\" class=\"dataframe\">\n",
       "  <thead>\n",
       "    <tr style=\"text-align: right;\">\n",
       "      <th></th>\n",
       "      <th>date</th>\n",
       "      <th>value</th>\n",
       "      <th>StandardTime</th>\n",
       "      <th>epoch</th>\n",
       "      <th>day</th>\n",
       "      <th>month</th>\n",
       "      <th>year</th>\n",
       "    </tr>\n",
       "  </thead>\n",
       "  <tbody>\n",
       "    <tr>\n",
       "      <th>0</th>\n",
       "      <td>2015-060-00:00:30.114</td>\n",
       "      <td>18.744939</td>\n",
       "      <td>2015-03-01 00:00:30.114000</td>\n",
       "      <td>1425142830114</td>\n",
       "      <td>1</td>\n",
       "      <td>3</td>\n",
       "      <td>2015</td>\n",
       "    </tr>\n",
       "    <tr>\n",
       "      <th>1</th>\n",
       "      <td>2015-060-00:00:30.882</td>\n",
       "      <td>18.744900</td>\n",
       "      <td>2015-03-01 00:00:30.882000</td>\n",
       "      <td>1425142830882</td>\n",
       "      <td>1</td>\n",
       "      <td>3</td>\n",
       "      <td>2015</td>\n",
       "    </tr>\n",
       "    <tr>\n",
       "      <th>2</th>\n",
       "      <td>2015-060-00:02:38.114</td>\n",
       "      <td>18.785425</td>\n",
       "      <td>2015-03-01 00:02:38.114000</td>\n",
       "      <td>1425142958114</td>\n",
       "      <td>1</td>\n",
       "      <td>3</td>\n",
       "      <td>2015</td>\n",
       "    </tr>\n",
       "    <tr>\n",
       "      <th>3</th>\n",
       "      <td>2015-060-00:02:38.882</td>\n",
       "      <td>18.785400</td>\n",
       "      <td>2015-03-01 00:02:38.882000</td>\n",
       "      <td>1425142958882</td>\n",
       "      <td>1</td>\n",
       "      <td>3</td>\n",
       "      <td>2015</td>\n",
       "    </tr>\n",
       "    <tr>\n",
       "      <th>4</th>\n",
       "      <td>2015-060-00:04:46.114</td>\n",
       "      <td>18.785425</td>\n",
       "      <td>2015-03-01 00:04:46.114000</td>\n",
       "      <td>1425143086114</td>\n",
       "      <td>1</td>\n",
       "      <td>3</td>\n",
       "      <td>2015</td>\n",
       "    </tr>\n",
       "    <tr>\n",
       "      <th>...</th>\n",
       "      <td>...</td>\n",
       "      <td>...</td>\n",
       "      <td>...</td>\n",
       "      <td>...</td>\n",
       "      <td>...</td>\n",
       "      <td>...</td>\n",
       "      <td>...</td>\n",
       "    </tr>\n",
       "    <tr>\n",
       "      <th>1030</th>\n",
       "      <td>2015-060-23:49:50.875</td>\n",
       "      <td>21.612900</td>\n",
       "      <td>2015-03-01 23:49:50.875000</td>\n",
       "      <td>1425228590875</td>\n",
       "      <td>1</td>\n",
       "      <td>3</td>\n",
       "      <td>2015</td>\n",
       "    </tr>\n",
       "    <tr>\n",
       "      <th>1031</th>\n",
       "      <td>2015-060-23:51:58.106</td>\n",
       "      <td>21.612903</td>\n",
       "      <td>2015-03-01 23:51:58.106000</td>\n",
       "      <td>1425228718106</td>\n",
       "      <td>1</td>\n",
       "      <td>3</td>\n",
       "      <td>2015</td>\n",
       "    </tr>\n",
       "    <tr>\n",
       "      <th>1032</th>\n",
       "      <td>2015-060-23:54:06.106</td>\n",
       "      <td>21.612903</td>\n",
       "      <td>2015-03-01 23:54:06.106000</td>\n",
       "      <td>1425228846106</td>\n",
       "      <td>1</td>\n",
       "      <td>3</td>\n",
       "      <td>2015</td>\n",
       "    </tr>\n",
       "    <tr>\n",
       "      <th>1033</th>\n",
       "      <td>2015-060-23:56:14.110</td>\n",
       "      <td>21.612903</td>\n",
       "      <td>2015-03-01 23:56:14.110000</td>\n",
       "      <td>1425228974110</td>\n",
       "      <td>1</td>\n",
       "      <td>3</td>\n",
       "      <td>2015</td>\n",
       "    </tr>\n",
       "    <tr>\n",
       "      <th>1034</th>\n",
       "      <td>2015-060-23:58:22.110</td>\n",
       "      <td>21.612903</td>\n",
       "      <td>2015-03-01 23:58:22.110000</td>\n",
       "      <td>1425229102110</td>\n",
       "      <td>1</td>\n",
       "      <td>3</td>\n",
       "      <td>2015</td>\n",
       "    </tr>\n",
       "  </tbody>\n",
       "</table>\n",
       "<p>1035 rows × 7 columns</p>\n",
       "</div>"
      ],
      "text/plain": [
       "                       date      value                StandardTime  \\\n",
       "0     2015-060-00:00:30.114  18.744939  2015-03-01 00:00:30.114000   \n",
       "1     2015-060-00:00:30.882  18.744900  2015-03-01 00:00:30.882000   \n",
       "2     2015-060-00:02:38.114  18.785425  2015-03-01 00:02:38.114000   \n",
       "3     2015-060-00:02:38.882  18.785400  2015-03-01 00:02:38.882000   \n",
       "4     2015-060-00:04:46.114  18.785425  2015-03-01 00:04:46.114000   \n",
       "...                     ...        ...                         ...   \n",
       "1030  2015-060-23:49:50.875  21.612900  2015-03-01 23:49:50.875000   \n",
       "1031  2015-060-23:51:58.106  21.612903  2015-03-01 23:51:58.106000   \n",
       "1032  2015-060-23:54:06.106  21.612903  2015-03-01 23:54:06.106000   \n",
       "1033  2015-060-23:56:14.110  21.612903  2015-03-01 23:56:14.110000   \n",
       "1034  2015-060-23:58:22.110  21.612903  2015-03-01 23:58:22.110000   \n",
       "\n",
       "              epoch  day  month  year  \n",
       "0     1425142830114    1      3  2015  \n",
       "1     1425142830882    1      3  2015  \n",
       "2     1425142958114    1      3  2015  \n",
       "3     1425142958882    1      3  2015  \n",
       "4     1425143086114    1      3  2015  \n",
       "...             ...  ...    ...   ...  \n",
       "1030  1425228590875    1      3  2015  \n",
       "1031  1425228718106    1      3  2015  \n",
       "1032  1425228846106    1      3  2015  \n",
       "1033  1425228974110    1      3  2015  \n",
       "1034  1425229102110    1      3  2015  \n",
       "\n",
       "[1035 rows x 7 columns]"
      ]
     },
     "execution_count": 208,
     "metadata": {},
     "output_type": "execute_result"
    }
   ],
   "source": [
    "data_d1_m3"
   ]
  },
  {
   "cell_type": "code",
   "execution_count": 245,
   "metadata": {},
   "outputs": [
    {
     "name": "stdout",
     "output_type": "stream",
     "text": [
      "DatetimeIndex(['2015-03-01 00:01:30.114000', '2015-03-01 00:01:48.114000',\n",
      "               '2015-03-01 00:02:06.114000', '2015-03-01 00:02:24.114000',\n",
      "               '2015-03-01 00:02:42.114000', '2015-03-01 00:03:00.114000',\n",
      "               '2015-03-01 00:03:18.114000', '2015-03-01 00:03:36.114000',\n",
      "               '2015-03-01 00:03:54.114000', '2015-03-01 00:04:12.114000',\n",
      "               ...\n",
      "               '2015-03-01 23:55:30.114000', '2015-03-01 23:55:48.114000',\n",
      "               '2015-03-01 23:56:06.114000', '2015-03-01 23:56:24.114000',\n",
      "               '2015-03-01 23:56:42.114000', '2015-03-01 23:57:00.114000',\n",
      "               '2015-03-01 23:57:18.114000', '2015-03-01 23:57:36.114000',\n",
      "               '2015-03-01 23:57:54.114000', '2015-03-01 23:58:12.114000'],\n",
      "              dtype='datetime64[ns]', length=4790, freq='18S')\n",
      "<class 'pandas.core.indexes.datetimes.DatetimeIndex'>\n"
     ]
    }
   ],
   "source": [
    "from datetime import timedelta  \n",
    "d0, d1 = data_d1_m3['StandardTime'][0] + timedelta(seconds=60), data_d1_m3['StandardTime'][len(data_d1_m3)-1]\n",
    "\n",
    "dtimes = pd.date_range(d0, d1, freq = '.005H')\n",
    "print(dtimes)\n",
    "print(type(dtimes))"
   ]
  },
  {
   "cell_type": "code",
   "execution_count": 246,
   "metadata": {
    "scrolled": true
   },
   "outputs": [
    {
     "data": {
      "text/html": [
       "<div>\n",
       "<style scoped>\n",
       "    .dataframe tbody tr th:only-of-type {\n",
       "        vertical-align: middle;\n",
       "    }\n",
       "\n",
       "    .dataframe tbody tr th {\n",
       "        vertical-align: top;\n",
       "    }\n",
       "\n",
       "    .dataframe thead th {\n",
       "        text-align: right;\n",
       "    }\n",
       "</style>\n",
       "<table border=\"1\" class=\"dataframe\">\n",
       "  <thead>\n",
       "    <tr style=\"text-align: right;\">\n",
       "      <th></th>\n",
       "      <th>StandardTime</th>\n",
       "    </tr>\n",
       "  </thead>\n",
       "  <tbody>\n",
       "    <tr>\n",
       "      <th>0</th>\n",
       "      <td>2015-03-01 00:01:30.114</td>\n",
       "    </tr>\n",
       "    <tr>\n",
       "      <th>1</th>\n",
       "      <td>2015-03-01 00:01:48.114</td>\n",
       "    </tr>\n",
       "    <tr>\n",
       "      <th>2</th>\n",
       "      <td>2015-03-01 00:02:06.114</td>\n",
       "    </tr>\n",
       "    <tr>\n",
       "      <th>3</th>\n",
       "      <td>2015-03-01 00:02:24.114</td>\n",
       "    </tr>\n",
       "    <tr>\n",
       "      <th>4</th>\n",
       "      <td>2015-03-01 00:02:42.114</td>\n",
       "    </tr>\n",
       "    <tr>\n",
       "      <th>...</th>\n",
       "      <td>...</td>\n",
       "    </tr>\n",
       "    <tr>\n",
       "      <th>4785</th>\n",
       "      <td>2015-03-01 23:57:00.114</td>\n",
       "    </tr>\n",
       "    <tr>\n",
       "      <th>4786</th>\n",
       "      <td>2015-03-01 23:57:18.114</td>\n",
       "    </tr>\n",
       "    <tr>\n",
       "      <th>4787</th>\n",
       "      <td>2015-03-01 23:57:36.114</td>\n",
       "    </tr>\n",
       "    <tr>\n",
       "      <th>4788</th>\n",
       "      <td>2015-03-01 23:57:54.114</td>\n",
       "    </tr>\n",
       "    <tr>\n",
       "      <th>4789</th>\n",
       "      <td>2015-03-01 23:58:12.114</td>\n",
       "    </tr>\n",
       "  </tbody>\n",
       "</table>\n",
       "<p>4790 rows × 1 columns</p>\n",
       "</div>"
      ],
      "text/plain": [
       "                StandardTime\n",
       "0    2015-03-01 00:01:30.114\n",
       "1    2015-03-01 00:01:48.114\n",
       "2    2015-03-01 00:02:06.114\n",
       "3    2015-03-01 00:02:24.114\n",
       "4    2015-03-01 00:02:42.114\n",
       "...                      ...\n",
       "4785 2015-03-01 23:57:00.114\n",
       "4786 2015-03-01 23:57:18.114\n",
       "4787 2015-03-01 23:57:36.114\n",
       "4788 2015-03-01 23:57:54.114\n",
       "4789 2015-03-01 23:58:12.114\n",
       "\n",
       "[4790 rows x 1 columns]"
      ]
     },
     "execution_count": 246,
     "metadata": {},
     "output_type": "execute_result"
    }
   ],
   "source": [
    "df1 = pd.DataFrame({'StandardTime':dtimes})\n",
    "df1"
   ]
  },
  {
   "cell_type": "code",
   "execution_count": 247,
   "metadata": {},
   "outputs": [
    {
     "data": {
      "text/html": [
       "<div>\n",
       "<style scoped>\n",
       "    .dataframe tbody tr th:only-of-type {\n",
       "        vertical-align: middle;\n",
       "    }\n",
       "\n",
       "    .dataframe tbody tr th {\n",
       "        vertical-align: top;\n",
       "    }\n",
       "\n",
       "    .dataframe thead th {\n",
       "        text-align: right;\n",
       "    }\n",
       "</style>\n",
       "<table border=\"1\" class=\"dataframe\">\n",
       "  <thead>\n",
       "    <tr style=\"text-align: right;\">\n",
       "      <th></th>\n",
       "      <th>date</th>\n",
       "      <th>value</th>\n",
       "      <th>StandardTime</th>\n",
       "      <th>epoch</th>\n",
       "      <th>day</th>\n",
       "      <th>month</th>\n",
       "      <th>year</th>\n",
       "    </tr>\n",
       "  </thead>\n",
       "  <tbody>\n",
       "    <tr>\n",
       "      <th>0</th>\n",
       "      <td>2015-060-00:00:30.114</td>\n",
       "      <td>18.744939</td>\n",
       "      <td>2015-03-01 00:00:30.114000</td>\n",
       "      <td>1.425143e+12</td>\n",
       "      <td>1.0</td>\n",
       "      <td>3.0</td>\n",
       "      <td>2015.0</td>\n",
       "    </tr>\n",
       "    <tr>\n",
       "      <th>1</th>\n",
       "      <td>2015-060-00:00:30.882</td>\n",
       "      <td>18.744900</td>\n",
       "      <td>2015-03-01 00:00:30.882000</td>\n",
       "      <td>1.425143e+12</td>\n",
       "      <td>1.0</td>\n",
       "      <td>3.0</td>\n",
       "      <td>2015.0</td>\n",
       "    </tr>\n",
       "    <tr>\n",
       "      <th>2</th>\n",
       "      <td>2015-060-00:02:38.114</td>\n",
       "      <td>18.785425</td>\n",
       "      <td>2015-03-01 00:02:38.114000</td>\n",
       "      <td>1.425143e+12</td>\n",
       "      <td>1.0</td>\n",
       "      <td>3.0</td>\n",
       "      <td>2015.0</td>\n",
       "    </tr>\n",
       "    <tr>\n",
       "      <th>3</th>\n",
       "      <td>2015-060-00:02:38.882</td>\n",
       "      <td>18.785400</td>\n",
       "      <td>2015-03-01 00:02:38.882000</td>\n",
       "      <td>1.425143e+12</td>\n",
       "      <td>1.0</td>\n",
       "      <td>3.0</td>\n",
       "      <td>2015.0</td>\n",
       "    </tr>\n",
       "    <tr>\n",
       "      <th>4</th>\n",
       "      <td>2015-060-00:04:46.114</td>\n",
       "      <td>18.785425</td>\n",
       "      <td>2015-03-01 00:04:46.114000</td>\n",
       "      <td>1.425143e+12</td>\n",
       "      <td>1.0</td>\n",
       "      <td>3.0</td>\n",
       "      <td>2015.0</td>\n",
       "    </tr>\n",
       "    <tr>\n",
       "      <th>...</th>\n",
       "      <td>...</td>\n",
       "      <td>...</td>\n",
       "      <td>...</td>\n",
       "      <td>...</td>\n",
       "      <td>...</td>\n",
       "      <td>...</td>\n",
       "      <td>...</td>\n",
       "    </tr>\n",
       "    <tr>\n",
       "      <th>5820</th>\n",
       "      <td>NaN</td>\n",
       "      <td>NaN</td>\n",
       "      <td>2015-03-01 23:57:00.114000</td>\n",
       "      <td>NaN</td>\n",
       "      <td>NaN</td>\n",
       "      <td>NaN</td>\n",
       "      <td>NaN</td>\n",
       "    </tr>\n",
       "    <tr>\n",
       "      <th>5821</th>\n",
       "      <td>NaN</td>\n",
       "      <td>NaN</td>\n",
       "      <td>2015-03-01 23:57:18.114000</td>\n",
       "      <td>NaN</td>\n",
       "      <td>NaN</td>\n",
       "      <td>NaN</td>\n",
       "      <td>NaN</td>\n",
       "    </tr>\n",
       "    <tr>\n",
       "      <th>5822</th>\n",
       "      <td>NaN</td>\n",
       "      <td>NaN</td>\n",
       "      <td>2015-03-01 23:57:36.114000</td>\n",
       "      <td>NaN</td>\n",
       "      <td>NaN</td>\n",
       "      <td>NaN</td>\n",
       "      <td>NaN</td>\n",
       "    </tr>\n",
       "    <tr>\n",
       "      <th>5823</th>\n",
       "      <td>NaN</td>\n",
       "      <td>NaN</td>\n",
       "      <td>2015-03-01 23:57:54.114000</td>\n",
       "      <td>NaN</td>\n",
       "      <td>NaN</td>\n",
       "      <td>NaN</td>\n",
       "      <td>NaN</td>\n",
       "    </tr>\n",
       "    <tr>\n",
       "      <th>5824</th>\n",
       "      <td>NaN</td>\n",
       "      <td>NaN</td>\n",
       "      <td>2015-03-01 23:58:12.114000</td>\n",
       "      <td>NaN</td>\n",
       "      <td>NaN</td>\n",
       "      <td>NaN</td>\n",
       "      <td>NaN</td>\n",
       "    </tr>\n",
       "  </tbody>\n",
       "</table>\n",
       "<p>5825 rows × 7 columns</p>\n",
       "</div>"
      ],
      "text/plain": [
       "                       date      value                StandardTime  \\\n",
       "0     2015-060-00:00:30.114  18.744939  2015-03-01 00:00:30.114000   \n",
       "1     2015-060-00:00:30.882  18.744900  2015-03-01 00:00:30.882000   \n",
       "2     2015-060-00:02:38.114  18.785425  2015-03-01 00:02:38.114000   \n",
       "3     2015-060-00:02:38.882  18.785400  2015-03-01 00:02:38.882000   \n",
       "4     2015-060-00:04:46.114  18.785425  2015-03-01 00:04:46.114000   \n",
       "...                     ...        ...                         ...   \n",
       "5820                    NaN        NaN  2015-03-01 23:57:00.114000   \n",
       "5821                    NaN        NaN  2015-03-01 23:57:18.114000   \n",
       "5822                    NaN        NaN  2015-03-01 23:57:36.114000   \n",
       "5823                    NaN        NaN  2015-03-01 23:57:54.114000   \n",
       "5824                    NaN        NaN  2015-03-01 23:58:12.114000   \n",
       "\n",
       "             epoch  day  month    year  \n",
       "0     1.425143e+12  1.0    3.0  2015.0  \n",
       "1     1.425143e+12  1.0    3.0  2015.0  \n",
       "2     1.425143e+12  1.0    3.0  2015.0  \n",
       "3     1.425143e+12  1.0    3.0  2015.0  \n",
       "4     1.425143e+12  1.0    3.0  2015.0  \n",
       "...            ...  ...    ...     ...  \n",
       "5820           NaN  NaN    NaN     NaN  \n",
       "5821           NaN  NaN    NaN     NaN  \n",
       "5822           NaN  NaN    NaN     NaN  \n",
       "5823           NaN  NaN    NaN     NaN  \n",
       "5824           NaN  NaN    NaN     NaN  \n",
       "\n",
       "[5825 rows x 7 columns]"
      ]
     },
     "execution_count": 247,
     "metadata": {},
     "output_type": "execute_result"
    }
   ],
   "source": [
    "df2 = data_d1_m3.append(df1, ignore_index=True)\n",
    "df2"
   ]
  },
  {
   "cell_type": "code",
   "execution_count": 248,
   "metadata": {},
   "outputs": [
    {
     "data": {
      "text/html": [
       "<div>\n",
       "<style scoped>\n",
       "    .dataframe tbody tr th:only-of-type {\n",
       "        vertical-align: middle;\n",
       "    }\n",
       "\n",
       "    .dataframe tbody tr th {\n",
       "        vertical-align: top;\n",
       "    }\n",
       "\n",
       "    .dataframe thead th {\n",
       "        text-align: right;\n",
       "    }\n",
       "</style>\n",
       "<table border=\"1\" class=\"dataframe\">\n",
       "  <thead>\n",
       "    <tr style=\"text-align: right;\">\n",
       "      <th></th>\n",
       "      <th>date</th>\n",
       "      <th>value</th>\n",
       "      <th>StandardTime</th>\n",
       "      <th>epoch</th>\n",
       "      <th>day</th>\n",
       "      <th>month</th>\n",
       "      <th>year</th>\n",
       "    </tr>\n",
       "  </thead>\n",
       "  <tbody>\n",
       "    <tr>\n",
       "      <th>0</th>\n",
       "      <td>2015-060-00:00:30.114</td>\n",
       "      <td>18.744939</td>\n",
       "      <td>2015-03-01 00:00:30.114000</td>\n",
       "      <td>1.425143e+12</td>\n",
       "      <td>1.0</td>\n",
       "      <td>3.0</td>\n",
       "      <td>2015.0</td>\n",
       "    </tr>\n",
       "    <tr>\n",
       "      <th>1</th>\n",
       "      <td>2015-060-00:00:30.882</td>\n",
       "      <td>18.744900</td>\n",
       "      <td>2015-03-01 00:00:30.882000</td>\n",
       "      <td>1.425143e+12</td>\n",
       "      <td>1.0</td>\n",
       "      <td>3.0</td>\n",
       "      <td>2015.0</td>\n",
       "    </tr>\n",
       "    <tr>\n",
       "      <th>2</th>\n",
       "      <td>NaN</td>\n",
       "      <td>NaN</td>\n",
       "      <td>2015-03-01 00:01:30.114000</td>\n",
       "      <td>NaN</td>\n",
       "      <td>NaN</td>\n",
       "      <td>NaN</td>\n",
       "      <td>NaN</td>\n",
       "    </tr>\n",
       "    <tr>\n",
       "      <th>3</th>\n",
       "      <td>NaN</td>\n",
       "      <td>NaN</td>\n",
       "      <td>2015-03-01 00:01:48.114000</td>\n",
       "      <td>NaN</td>\n",
       "      <td>NaN</td>\n",
       "      <td>NaN</td>\n",
       "      <td>NaN</td>\n",
       "    </tr>\n",
       "    <tr>\n",
       "      <th>4</th>\n",
       "      <td>NaN</td>\n",
       "      <td>NaN</td>\n",
       "      <td>2015-03-01 00:02:06.114000</td>\n",
       "      <td>NaN</td>\n",
       "      <td>NaN</td>\n",
       "      <td>NaN</td>\n",
       "      <td>NaN</td>\n",
       "    </tr>\n",
       "    <tr>\n",
       "      <th>...</th>\n",
       "      <td>...</td>\n",
       "      <td>...</td>\n",
       "      <td>...</td>\n",
       "      <td>...</td>\n",
       "      <td>...</td>\n",
       "      <td>...</td>\n",
       "      <td>...</td>\n",
       "    </tr>\n",
       "    <tr>\n",
       "      <th>5820</th>\n",
       "      <td>NaN</td>\n",
       "      <td>NaN</td>\n",
       "      <td>2015-03-01 23:57:18.114000</td>\n",
       "      <td>NaN</td>\n",
       "      <td>NaN</td>\n",
       "      <td>NaN</td>\n",
       "      <td>NaN</td>\n",
       "    </tr>\n",
       "    <tr>\n",
       "      <th>5821</th>\n",
       "      <td>NaN</td>\n",
       "      <td>NaN</td>\n",
       "      <td>2015-03-01 23:57:36.114000</td>\n",
       "      <td>NaN</td>\n",
       "      <td>NaN</td>\n",
       "      <td>NaN</td>\n",
       "      <td>NaN</td>\n",
       "    </tr>\n",
       "    <tr>\n",
       "      <th>5822</th>\n",
       "      <td>NaN</td>\n",
       "      <td>NaN</td>\n",
       "      <td>2015-03-01 23:57:54.114000</td>\n",
       "      <td>NaN</td>\n",
       "      <td>NaN</td>\n",
       "      <td>NaN</td>\n",
       "      <td>NaN</td>\n",
       "    </tr>\n",
       "    <tr>\n",
       "      <th>5823</th>\n",
       "      <td>NaN</td>\n",
       "      <td>NaN</td>\n",
       "      <td>2015-03-01 23:58:12.114000</td>\n",
       "      <td>NaN</td>\n",
       "      <td>NaN</td>\n",
       "      <td>NaN</td>\n",
       "      <td>NaN</td>\n",
       "    </tr>\n",
       "    <tr>\n",
       "      <th>5824</th>\n",
       "      <td>2015-060-23:58:22.110</td>\n",
       "      <td>21.612903</td>\n",
       "      <td>2015-03-01 23:58:22.110000</td>\n",
       "      <td>1.425229e+12</td>\n",
       "      <td>1.0</td>\n",
       "      <td>3.0</td>\n",
       "      <td>2015.0</td>\n",
       "    </tr>\n",
       "  </tbody>\n",
       "</table>\n",
       "<p>5825 rows × 7 columns</p>\n",
       "</div>"
      ],
      "text/plain": [
       "                       date      value                StandardTime  \\\n",
       "0     2015-060-00:00:30.114  18.744939  2015-03-01 00:00:30.114000   \n",
       "1     2015-060-00:00:30.882  18.744900  2015-03-01 00:00:30.882000   \n",
       "2                       NaN        NaN  2015-03-01 00:01:30.114000   \n",
       "3                       NaN        NaN  2015-03-01 00:01:48.114000   \n",
       "4                       NaN        NaN  2015-03-01 00:02:06.114000   \n",
       "...                     ...        ...                         ...   \n",
       "5820                    NaN        NaN  2015-03-01 23:57:18.114000   \n",
       "5821                    NaN        NaN  2015-03-01 23:57:36.114000   \n",
       "5822                    NaN        NaN  2015-03-01 23:57:54.114000   \n",
       "5823                    NaN        NaN  2015-03-01 23:58:12.114000   \n",
       "5824  2015-060-23:58:22.110  21.612903  2015-03-01 23:58:22.110000   \n",
       "\n",
       "             epoch  day  month    year  \n",
       "0     1.425143e+12  1.0    3.0  2015.0  \n",
       "1     1.425143e+12  1.0    3.0  2015.0  \n",
       "2              NaN  NaN    NaN     NaN  \n",
       "3              NaN  NaN    NaN     NaN  \n",
       "4              NaN  NaN    NaN     NaN  \n",
       "...            ...  ...    ...     ...  \n",
       "5820           NaN  NaN    NaN     NaN  \n",
       "5821           NaN  NaN    NaN     NaN  \n",
       "5822           NaN  NaN    NaN     NaN  \n",
       "5823           NaN  NaN    NaN     NaN  \n",
       "5824  1.425229e+12  1.0    3.0  2015.0  \n",
       "\n",
       "[5825 rows x 7 columns]"
      ]
     },
     "execution_count": 248,
     "metadata": {},
     "output_type": "execute_result"
    }
   ],
   "source": [
    "df3=df2.sort_values(by='StandardTime')\n",
    "df3 = df3.reset_index(drop=True)\n",
    "df3"
   ]
  },
  {
   "cell_type": "code",
   "execution_count": 249,
   "metadata": {},
   "outputs": [
    {
     "data": {
      "text/plain": [
       "0       18.744939\n",
       "1       18.744900\n",
       "2       18.753005\n",
       "3       18.761110\n",
       "4       18.769215\n",
       "          ...    \n",
       "5820    21.612903\n",
       "5821    21.612903\n",
       "5822    21.612903\n",
       "5823    21.612903\n",
       "5824    21.612903\n",
       "Name: value, Length: 5825, dtype: float64"
      ]
     },
     "execution_count": 249,
     "metadata": {},
     "output_type": "execute_result"
    }
   ],
   "source": [
    "df4=df3['value'].interpolate(method='polynomial', order=1)\n",
    "df4"
   ]
  },
  {
   "cell_type": "code",
   "execution_count": 250,
   "metadata": {},
   "outputs": [
    {
     "data": {
      "text/html": [
       "<div>\n",
       "<style scoped>\n",
       "    .dataframe tbody tr th:only-of-type {\n",
       "        vertical-align: middle;\n",
       "    }\n",
       "\n",
       "    .dataframe tbody tr th {\n",
       "        vertical-align: top;\n",
       "    }\n",
       "\n",
       "    .dataframe thead th {\n",
       "        text-align: right;\n",
       "    }\n",
       "</style>\n",
       "<table border=\"1\" class=\"dataframe\">\n",
       "  <thead>\n",
       "    <tr style=\"text-align: right;\">\n",
       "      <th></th>\n",
       "      <th>StandardTime</th>\n",
       "      <th>value</th>\n",
       "    </tr>\n",
       "  </thead>\n",
       "  <tbody>\n",
       "    <tr>\n",
       "      <th>0</th>\n",
       "      <td>2015-03-01 00:01:30.114</td>\n",
       "      <td>18.744939</td>\n",
       "    </tr>\n",
       "    <tr>\n",
       "      <th>1</th>\n",
       "      <td>2015-03-01 00:01:48.114</td>\n",
       "      <td>18.744900</td>\n",
       "    </tr>\n",
       "    <tr>\n",
       "      <th>2</th>\n",
       "      <td>2015-03-01 00:02:06.114</td>\n",
       "      <td>18.753005</td>\n",
       "    </tr>\n",
       "    <tr>\n",
       "      <th>3</th>\n",
       "      <td>2015-03-01 00:02:24.114</td>\n",
       "      <td>18.761110</td>\n",
       "    </tr>\n",
       "    <tr>\n",
       "      <th>4</th>\n",
       "      <td>2015-03-01 00:02:42.114</td>\n",
       "      <td>18.769215</td>\n",
       "    </tr>\n",
       "    <tr>\n",
       "      <th>...</th>\n",
       "      <td>...</td>\n",
       "      <td>...</td>\n",
       "    </tr>\n",
       "    <tr>\n",
       "      <th>4785</th>\n",
       "      <td>2015-03-01 23:57:00.114</td>\n",
       "      <td>22.036281</td>\n",
       "    </tr>\n",
       "    <tr>\n",
       "      <th>4786</th>\n",
       "      <td>2015-03-01 23:57:18.114</td>\n",
       "      <td>22.029562</td>\n",
       "    </tr>\n",
       "    <tr>\n",
       "      <th>4787</th>\n",
       "      <td>2015-03-01 23:57:36.114</td>\n",
       "      <td>22.022843</td>\n",
       "    </tr>\n",
       "    <tr>\n",
       "      <th>4788</th>\n",
       "      <td>2015-03-01 23:57:54.114</td>\n",
       "      <td>22.016123</td>\n",
       "    </tr>\n",
       "    <tr>\n",
       "      <th>4789</th>\n",
       "      <td>2015-03-01 23:58:12.114</td>\n",
       "      <td>22.009404</td>\n",
       "    </tr>\n",
       "  </tbody>\n",
       "</table>\n",
       "<p>4790 rows × 2 columns</p>\n",
       "</div>"
      ],
      "text/plain": [
       "                StandardTime      value\n",
       "0    2015-03-01 00:01:30.114  18.744939\n",
       "1    2015-03-01 00:01:48.114  18.744900\n",
       "2    2015-03-01 00:02:06.114  18.753005\n",
       "3    2015-03-01 00:02:24.114  18.761110\n",
       "4    2015-03-01 00:02:42.114  18.769215\n",
       "...                      ...        ...\n",
       "4785 2015-03-01 23:57:00.114  22.036281\n",
       "4786 2015-03-01 23:57:18.114  22.029562\n",
       "4787 2015-03-01 23:57:36.114  22.022843\n",
       "4788 2015-03-01 23:57:54.114  22.016123\n",
       "4789 2015-03-01 23:58:12.114  22.009404\n",
       "\n",
       "[4790 rows x 2 columns]"
      ]
     },
     "execution_count": 250,
     "metadata": {},
     "output_type": "execute_result"
    }
   ],
   "source": [
    "df5=df1\n",
    "df5['value']=df4\n",
    "df5"
   ]
  },
  {
   "cell_type": "code",
   "execution_count": 251,
   "metadata": {},
   "outputs": [
    {
     "data": {
      "text/plain": [
       "[<matplotlib.lines.Line2D at 0x1d9179eb2c8>]"
      ]
     },
     "execution_count": 251,
     "metadata": {},
     "output_type": "execute_result"
    },
    {
     "data": {
      "image/png": "[encoded data removed]",
      "text/plain": [
       "<Figure size 1440x720 with 1 Axes>"
      ]
     },
     "metadata": {
      "needs_background": "light"
     },
     "output_type": "display_data"
    }
   ],
   "source": [
    "plt.figure(figsize=(20,10))\n",
    "plt.plot(df5['StandardTime'],df5['value'])"
   ]
  },
  {
   "cell_type": "code",
   "execution_count": null,
   "metadata": {},
   "outputs": [],
   "source": [
    "data_d1_m3 = data_sp.loc[(data_sp['day']==1) & (data_sp['month']==3)]\n",
    "# data_d1_m3\n",
    "plt.figure(figsize=(20,10))\n",
    "plt.plot(data_d1_m3['StandardTime'],data_d1_m3['value'])"
   ]
  },
  {
   "cell_type": "code",
   "execution_count": null,
   "metadata": {},
   "outputs": [],
   "source": [
    "df_ffill = df.ffill()"
   ]
  },
  {
   "cell_type": "code",
   "execution_count": null,
   "metadata": {},
   "outputs": [],
   "source": []
  },
  {
   "cell_type": "code",
   "execution_count": null,
   "metadata": {},
   "outputs": [],
   "source": []
  },
  {
   "cell_type": "code",
   "execution_count": 132,
   "metadata": {},
   "outputs": [
    {
     "data": {
      "text/plain": [
       "[<matplotlib.lines.Line2D at 0x1d9120a9fc8>]"
      ]
     },
     "execution_count": 132,
     "metadata": {},
     "output_type": "execute_result"
    },
    {
     "data": {
      "image/png": "[encoded data removed]",
      "text/plain": [
       "<Figure size 1440x720 with 1 Axes>"
      ]
     },
     "metadata": {
      "needs_background": "light"
     },
     "output_type": "display_data"
    }
   ],
   "source": [
    "data_d1_m3 = data_sp.loc[(data_sp['day']==5) & (data_sp['month']==3)]\n",
    "# data_d1_m3\n",
    "plt.figure(figsize=(20,10))\n",
    "plt.plot(data_d1_m3['StandardTime'],data_d1_m3['value'])"
   ]
  },
  {
   "cell_type": "code",
   "execution_count": 136,
   "metadata": {},
   "outputs": [
    {
     "data": {
      "text/plain": [
       "[<matplotlib.lines.Line2D at 0x1d9124ec148>]"
      ]
     },
     "execution_count": 136,
     "metadata": {},
     "output_type": "execute_result"
    },
    {
     "data": {
      "image/png": "[encoded data removed]",
      "text/plain": [
       "<Figure size 1440x720 with 1 Axes>"
      ]
     },
     "metadata": {
      "needs_background": "light"
     },
     "output_type": "display_data"
    }
   ],
   "source": [
    "data_d1_m3 = data_sp.loc[(data_sp['day']==6) & (data_sp['month']==3)]\n",
    "# data_d1_m3\n",
    "plt.figure(figsize=(20,10))\n",
    "plt.plot(data_d1_m3['StandardTime'],data_d1_m3['value'])"
   ]
  },
  {
   "cell_type": "code",
   "execution_count": 137,
   "metadata": {},
   "outputs": [
    {
     "data": {
      "text/plain": [
       "[<matplotlib.lines.Line2D at 0x1d9127f5c88>]"
      ]
     },
     "execution_count": 137,
     "metadata": {},
     "output_type": "execute_result"
    },
    {
     "data": {
      "image/png": "[encoded data removed]",
      "text/plain": [
       "<Figure size 1440x720 with 1 Axes>"
      ]
     },
     "metadata": {
      "needs_background": "light"
     },
     "output_type": "display_data"
    }
   ],
   "source": [
    "data_d1_m3 = data_sp.loc[(data_sp['day']==10) & (data_sp['month']==3)]\n",
    "# data_d1_m3\n",
    "plt.figure(figsize=(20,10))\n",
    "plt.plot(data_d1_m3['StandardTime'],data_d1_m3['value'])"
   ]
  },
  {
   "cell_type": "code",
   "execution_count": 138,
   "metadata": {},
   "outputs": [
    {
     "data": {
      "text/plain": [
       "[<matplotlib.lines.Line2D at 0x1d913061108>]"
      ]
     },
     "execution_count": 138,
     "metadata": {},
     "output_type": "execute_result"
    },
    {
     "data": {
      "image/png": "[encoded data removed]",
      "text/plain": [
       "<Figure size 1440x720 with 1 Axes>"
      ]
     },
     "metadata": {
      "needs_background": "light"
     },
     "output_type": "display_data"
    }
   ],
   "source": [
    "data_d1_m3 = data_sp.loc[(data_sp['day']==11) & (data_sp['month']==3)]\n",
    "# data_d1_m3\n",
    "plt.figure(figsize=(20,10))\n",
    "plt.plot(data_d1_m3['StandardTime'],data_d1_m3['value'])"
   ]
  },
  {
   "cell_type": "code",
   "execution_count": 144,
   "metadata": {},
   "outputs": [
    {
     "data": {
      "text/plain": [
       "[<matplotlib.lines.Line2D at 0x1d913d59608>]"
      ]
     },
     "execution_count": 144,
     "metadata": {},
     "output_type": "execute_result"
    },
    {
     "data": {
      "image/png": "[encoded data removed]",
      "text/plain": [
       "<Figure size 1440x720 with 1 Axes>"
      ]
     },
     "metadata": {
      "needs_background": "light"
     },
     "output_type": "display_data"
    }
   ],
   "source": [
    "data_d1_m3 = data_sp.loc[(data_sp['day']==14) & (data_sp['month']==3)]\n",
    "# data_d1_m3\n",
    "plt.figure(figsize=(20,10))\n",
    "plt.plot(data_d1_m3['StandardTime'],data_d1_m3['value'])"
   ]
  },
  {
   "cell_type": "code",
   "execution_count": 145,
   "metadata": {},
   "outputs": [
    {
     "data": {
      "text/plain": [
       "[<matplotlib.lines.Line2D at 0x1d91437eb88>]"
      ]
     },
     "execution_count": 145,
     "metadata": {},
     "output_type": "execute_result"
    },
    {
     "data": {
      "image/png": "[encoded data removed]",
      "text/plain": [
       "<Figure size 1440x720 with 1 Axes>"
      ]
     },
     "metadata": {
      "needs_background": "light"
     },
     "output_type": "display_data"
    }
   ],
   "source": [
    "data_d1_m3 = data_sp.loc[(data_sp['day']==15) & (data_sp['month']==3)]\n",
    "# data_d1_m3\n",
    "plt.figure(figsize=(20,10))\n",
    "plt.plot(data_d1_m3['StandardTime'],data_d1_m3['value'])"
   ]
  },
  {
   "cell_type": "code",
   "execution_count": 147,
   "metadata": {},
   "outputs": [
    {
     "data": {
      "text/plain": [
       "[<matplotlib.lines.Line2D at 0x1d914700708>]"
      ]
     },
     "execution_count": 147,
     "metadata": {},
     "output_type": "execute_result"
    },
    {
     "data": {
      "image/png": "[encoded data removed]",
      "text/plain": [
       "<Figure size 1440x720 with 1 Axes>"
      ]
     },
     "metadata": {
      "needs_background": "light"
     },
     "output_type": "display_data"
    }
   ],
   "source": [
    "data_d1_m3 = data_sp.loc[(data_sp['day']==19) & (data_sp['month']==3)]\n",
    "# data_d1_m3\n",
    "plt.figure(figsize=(20,10))\n",
    "plt.plot(data_d1_m3['StandardTime'],data_d1_m3['value'])"
   ]
  },
  {
   "cell_type": "code",
   "execution_count": 148,
   "metadata": {},
   "outputs": [
    {
     "data": {
      "text/plain": [
       "[<matplotlib.lines.Line2D at 0x1d914cd6d08>]"
      ]
     },
     "execution_count": 148,
     "metadata": {},
     "output_type": "execute_result"
    },
    {
     "data": {
      "image/png": "[encoded data removed]",
      "text/plain": [
       "<Figure size 1440x720 with 1 Axes>"
      ]
     },
     "metadata": {
      "needs_background": "light"
     },
     "output_type": "display_data"
    }
   ],
   "source": [
    "data_d1_m3 = data_sp.loc[(data_sp['day']==20) & (data_sp['month']==3)]\n",
    "# data_d1_m3\n",
    "plt.figure(figsize=(20,10))\n",
    "plt.plot(data_d1_m3['StandardTime'],data_d1_m3['value'])"
   ]
  },
  {
   "cell_type": "code",
   "execution_count": null,
   "metadata": {},
   "outputs": [],
   "source": []
  }
 ],
 "metadata": {
  "kernelspec": {
   "display_name": "Python 3",
   "language": "python",
   "name": "python3"
  },
  "language_info": {
   "codemirror_mode": {
    "name": "ipython",
    "version": 3
   },
   "file_extension": ".py",
   "mimetype": "text/x-python",
   "name": "python",
   "nbconvert_exporter": "python",
   "pygments_lexer": "ipython3",
   "version": "3.7.7"
  }
 },
 "nbformat": 4,
 "nbformat_minor": 4
}
